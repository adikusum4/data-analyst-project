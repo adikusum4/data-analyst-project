{
 "cells": [
  {
   "cell_type": "markdown",
   "metadata": {},
   "source": [
    "<a id='back'></a>\r\n",
    "# [Table of contents]\r\n",
    "\r\n",
    "* [Intro](#intro)\r\n",
    "* [Stage 1. Data Initialization](#step1)\r\n",
    "     * [1.1 Loading Data](#step1.1)\r\n",
    "* [Stage 2. Preparing Data](#step2)\r\n",
    "     * [2.1 Prepaid Plan](#step2.1)\r\n",
    "         * [2.1.1 Data Repair](#step2.1.1)\r\n",
    "         * [2.1.2 Enriching Data Quality](#step2.1.2)\r\n",
    "     * [2.2 User](#step2.2)\r\n",
    "         * [2.2.1 Data Repair](#step2.2.1)\r\n",
    "         * [2.2.2 Enriching Data Quality](#step2.2.2)\r\n",
    "     * [2.3 Call](#step2.3)\r\n",
    "         * [2.3.1 Fixing Data](#step2.3.1)\r\n",
    "         * [2.3.2 Enriching Data Quality](#step2.3.2)\r\n",
    "     * [2.4 Message/SMS](#step2.4)\r\n",
    "         * [2.4.1 Data Repair](#step2.4.1)\r\n",
    "         * [2.4.2 Enriching Data Quality](#step2.4.2)\r\n",
    "     * [2.5 Internet](#step2.5)\r\n",
    "         * [2.5.1 Fixing Data](#step2.5.1)\r\n",
    "         * [2.5.2 Enriching Data Quality](#step2.5.2)\r\n",
    "* [Stage 3. Process of Analyzing Data](#step3)\r\n",
    "     * [3.1 Studying the Terms and Conditions Regarding Prepaid Packages](#step3.1)\r\n",
    "     * [3.2 Aggregating Data per User](#step3.2)\r\n",
    "     * [3.3 Studying User Behavior](#step3.3)\r\n",
    "         * [3.3.1 Call](#step3.3.1)\r\n",
    "         * [3.3.2 Message/SMS](#step3.3.2)\r\n",
    "         * [3.3.3 Internet](#step3.3.3)\r\n",
    "         * [3.3.4 Income](#step3.3.4)\r\n",
    "* [Stage 4. Hypothesis Testing](#step4)\r\n",
    "* [Stage 5. General Conclusion](#step5)"
   ]
  },
  {
   "cell_type": "markdown",
   "metadata": {},
   "source": [
    "<a id='intro'></a>\n",
    "# **Introduction**\n",
    "<br>Every time we carry out an analysis, we need to formulate several hypotheses that we need to test further. Sometimes, the tests we carry out lead us to accept the hypothesis. But at other times, we also need to reject it. To make the right decisions in business, we must understand whether the assumptions we make are correct or not.\n",
    "\n",
    "**Project Description**\n",
    "<br>In this project, you work as an analyst at a telecommunications operator company called Megaline. The company offers its clients two types of prepaid plans, namely the Surf plan and the Ultimate plan. The advertising department wants to know which prepaid plan generates more revenue, so they can create an advertising budget accordingly.\n",
    "\n",
    "You will conduct an initial analysis of the prepaid plans based on a relatively small sample of clients. You have 500 Megaline client data, which contains information such as: who they are, where they come from, what type of package they use, and the number of calls and messages they sent in 2018. Your task is to analyze the behavior of the users, then determine the package Which prepaid is more profitable?\n",
    "\n",
    "**Prepaid Package Description**\n",
    "<br>Note: Megaline rounds seconds to minutes and megabytes to gigabytes. For calls, each individual call is rounded up: even if a call lasts only one second, it will count as one minute. For web traffic, each individual web session is not rounded up. However, totals for a month are rounded up. If a user spends 1025 megabytes this month, he or she will also be charged for 2 gigabytes.\n",
    "\n",
    "|Surf | Ultimate |\n",
    "|:----------|:----------|\n",
    "|Monthly fee: &dollar;20 | Monthly fee: &dollar;70 |\n",
    "|500 minutes of call duration per month, 50 SMS, and 15 GB data | 3000 minutes of call duration per month, 1000 SMS, and 30 GB data |\n",
    "|After exceeding the package limit, you will be charged: | After exceeding the package limit, you will be charged: |\n",
    "|1 minute: 3 cents | 1 minute: 1 cent |\n",
    "|1 SMS: 3 cents | 1 SMS: 1 cent |\n",
    "|1 GB data: &dollar;10 | 1 GB data: &dollar;7 |\n",
    "\n",
    "\n",
    "**Objective**\n",
    "<br>Testing a hypothesis:\n",
    "1. The average income of Ultimate and Surf phone plan users is different.\n",
    "2. The average income of users in the NY-NJ area is different from the income of users from other areas.\n",
    "<br>You can determine how large the \"alpha\" value will be used.\n",
    "<br>Explain:\n",
    "<br>1. How do you formulate the null hypothesis and alternative hypothesis.\n",
    "<br>2. What criteria did you use to test your hypothesis and why did you use them?\n",
    "\n",
    "[Back to Content](#back)"
   ]
  },
  {
   "cell_type": "markdown",
   "metadata": {},
   "source": [
    "<a id='step1'></a>\n",
    "# **Step 1. Data Initialization**"
   ]
  },
  {
   "cell_type": "code",
   "execution_count": 1,
   "metadata": {},
   "outputs": [],
   "source": [
    "# Load all libraries\n",
    "from scipy import stats\n",
    "import pandas as pd \n",
    "import matplotlib.pyplot as plt \n",
    "import numpy as np \n"
   ]
  },
  {
   "cell_type": "markdown",
   "metadata": {},
   "source": [
    "<a id='step1.1'></a>\n",
    "## **1.1 Loading Data**"
   ]
  },
  {
   "cell_type": "code",
   "execution_count": 2,
   "metadata": {},
   "outputs": [],
   "source": [
    "# Load data files into different DataFrames\n",
    "calls = pd.read_csv('/datasets/megaline_calls.csv')\n",
    "internet = pd.read_csv('/datasets/megaline_internet.csv')\n",
    "messages = pd.read_csv('/datasets/megaline_messages.csv')\n",
    "plans = pd.read_csv('/datasets/megaline_plans.csv')\n",
    "users = pd.read_csv('/datasets/megaline_users.csv')\n"
   ]
  },
  {
   "cell_type": "markdown",
   "metadata": {},
   "source": [
    "[Back to Content](#back)"
   ]
  },
  {
   "cell_type": "markdown",
   "metadata": {},
   "source": [
    "<a id='step2'></a>\n",
    "# **Step 2. Preparing Data**"
   ]
  },
  {
   "cell_type": "markdown",
   "metadata": {},
   "source": [
    "<a id='step2.1'></a>\n",
    "## **2.1 Prepaid Plan**"
   ]
  },
  {
   "cell_type": "code",
   "execution_count": 3,
   "metadata": {},
   "outputs": [
    {
     "name": "stdout",
     "output_type": "stream",
     "text": [
      "<class 'pandas.core.frame.DataFrame'>\n",
      "RangeIndex: 2 entries, 0 to 1\n",
      "Data columns (total 8 columns):\n",
      " #   Column                 Non-Null Count  Dtype  \n",
      "---  ------                 --------------  -----  \n",
      " 0   messages_included      2 non-null      int64  \n",
      " 1   mb_per_month_included  2 non-null      int64  \n",
      " 2   minutes_included       2 non-null      int64  \n",
      " 3   usd_monthly_pay        2 non-null      int64  \n",
      " 4   usd_per_gb             2 non-null      int64  \n",
      " 5   usd_per_message        2 non-null      float64\n",
      " 6   usd_per_minute         2 non-null      float64\n",
      " 7   plan_name              2 non-null      object \n",
      "dtypes: float64(2), int64(5), object(1)\n",
      "memory usage: 260.0+ bytes\n"
     ]
    }
   ],
   "source": [
    "# Display general information/summary about DataFrame prepaid packages\n",
    "plans.info()"
   ]
  },
  {
   "cell_type": "code",
   "execution_count": 4,
   "metadata": {},
   "outputs": [
    {
     "data": {
      "text/html": [
       "<div>\n",
       "<style scoped>\n",
       "    .dataframe tbody tr th:only-of-type {\n",
       "        vertical-align: middle;\n",
       "    }\n",
       "\n",
       "    .dataframe tbody tr th {\n",
       "        vertical-align: top;\n",
       "    }\n",
       "\n",
       "    .dataframe thead th {\n",
       "        text-align: right;\n",
       "    }\n",
       "</style>\n",
       "<table border=\"1\" class=\"dataframe\">\n",
       "  <thead>\n",
       "    <tr style=\"text-align: right;\">\n",
       "      <th></th>\n",
       "      <th>messages_included</th>\n",
       "      <th>mb_per_month_included</th>\n",
       "      <th>minutes_included</th>\n",
       "      <th>usd_monthly_pay</th>\n",
       "      <th>usd_per_gb</th>\n",
       "      <th>usd_per_message</th>\n",
       "      <th>usd_per_minute</th>\n",
       "      <th>plan_name</th>\n",
       "    </tr>\n",
       "  </thead>\n",
       "  <tbody>\n",
       "    <tr>\n",
       "      <th>0</th>\n",
       "      <td>50</td>\n",
       "      <td>15360</td>\n",
       "      <td>500</td>\n",
       "      <td>20</td>\n",
       "      <td>10</td>\n",
       "      <td>0.03</td>\n",
       "      <td>0.03</td>\n",
       "      <td>surf</td>\n",
       "    </tr>\n",
       "    <tr>\n",
       "      <th>1</th>\n",
       "      <td>1000</td>\n",
       "      <td>30720</td>\n",
       "      <td>3000</td>\n",
       "      <td>70</td>\n",
       "      <td>7</td>\n",
       "      <td>0.01</td>\n",
       "      <td>0.01</td>\n",
       "      <td>ultimate</td>\n",
       "    </tr>\n",
       "  </tbody>\n",
       "</table>\n",
       "</div>"
      ],
      "text/plain": [
       "   messages_included  mb_per_month_included  minutes_included  \\\n",
       "0                 50                  15360               500   \n",
       "1               1000                  30720              3000   \n",
       "\n",
       "   usd_monthly_pay  usd_per_gb  usd_per_message  usd_per_minute plan_name  \n",
       "0               20          10             0.03            0.03      surf  \n",
       "1               70           7             0.01            0.01  ultimate  "
      ]
     },
     "execution_count": 4,
     "metadata": {},
     "output_type": "execute_result"
    }
   ],
   "source": [
    "# Show sample data for the packages\n",
    "plans.head()"
   ]
  },
  {
   "cell_type": "code",
   "execution_count": 5,
   "metadata": {},
   "outputs": [
    {
     "data": {
      "text/html": [
       "<div>\n",
       "<style scoped>\n",
       "    .dataframe tbody tr th:only-of-type {\n",
       "        vertical-align: middle;\n",
       "    }\n",
       "\n",
       "    .dataframe tbody tr th {\n",
       "        vertical-align: top;\n",
       "    }\n",
       "\n",
       "    .dataframe thead th {\n",
       "        text-align: right;\n",
       "    }\n",
       "</style>\n",
       "<table border=\"1\" class=\"dataframe\">\n",
       "  <thead>\n",
       "    <tr style=\"text-align: right;\">\n",
       "      <th></th>\n",
       "      <th>messages_included</th>\n",
       "      <th>mb_per_month_included</th>\n",
       "      <th>minutes_included</th>\n",
       "      <th>usd_monthly_pay</th>\n",
       "      <th>usd_per_gb</th>\n",
       "      <th>usd_per_message</th>\n",
       "      <th>usd_per_minute</th>\n",
       "    </tr>\n",
       "  </thead>\n",
       "  <tbody>\n",
       "    <tr>\n",
       "      <th>count</th>\n",
       "      <td>2.000000</td>\n",
       "      <td>2.000000</td>\n",
       "      <td>2.000000</td>\n",
       "      <td>2.000000</td>\n",
       "      <td>2.00000</td>\n",
       "      <td>2.000000</td>\n",
       "      <td>2.000000</td>\n",
       "    </tr>\n",
       "    <tr>\n",
       "      <th>mean</th>\n",
       "      <td>525.000000</td>\n",
       "      <td>23040.000000</td>\n",
       "      <td>1750.000000</td>\n",
       "      <td>45.000000</td>\n",
       "      <td>8.50000</td>\n",
       "      <td>0.020000</td>\n",
       "      <td>0.020000</td>\n",
       "    </tr>\n",
       "    <tr>\n",
       "      <th>std</th>\n",
       "      <td>671.751442</td>\n",
       "      <td>10861.160159</td>\n",
       "      <td>1767.766953</td>\n",
       "      <td>35.355339</td>\n",
       "      <td>2.12132</td>\n",
       "      <td>0.014142</td>\n",
       "      <td>0.014142</td>\n",
       "    </tr>\n",
       "    <tr>\n",
       "      <th>min</th>\n",
       "      <td>50.000000</td>\n",
       "      <td>15360.000000</td>\n",
       "      <td>500.000000</td>\n",
       "      <td>20.000000</td>\n",
       "      <td>7.00000</td>\n",
       "      <td>0.010000</td>\n",
       "      <td>0.010000</td>\n",
       "    </tr>\n",
       "    <tr>\n",
       "      <th>25%</th>\n",
       "      <td>287.500000</td>\n",
       "      <td>19200.000000</td>\n",
       "      <td>1125.000000</td>\n",
       "      <td>32.500000</td>\n",
       "      <td>7.75000</td>\n",
       "      <td>0.015000</td>\n",
       "      <td>0.015000</td>\n",
       "    </tr>\n",
       "    <tr>\n",
       "      <th>50%</th>\n",
       "      <td>525.000000</td>\n",
       "      <td>23040.000000</td>\n",
       "      <td>1750.000000</td>\n",
       "      <td>45.000000</td>\n",
       "      <td>8.50000</td>\n",
       "      <td>0.020000</td>\n",
       "      <td>0.020000</td>\n",
       "    </tr>\n",
       "    <tr>\n",
       "      <th>75%</th>\n",
       "      <td>762.500000</td>\n",
       "      <td>26880.000000</td>\n",
       "      <td>2375.000000</td>\n",
       "      <td>57.500000</td>\n",
       "      <td>9.25000</td>\n",
       "      <td>0.025000</td>\n",
       "      <td>0.025000</td>\n",
       "    </tr>\n",
       "    <tr>\n",
       "      <th>max</th>\n",
       "      <td>1000.000000</td>\n",
       "      <td>30720.000000</td>\n",
       "      <td>3000.000000</td>\n",
       "      <td>70.000000</td>\n",
       "      <td>10.00000</td>\n",
       "      <td>0.030000</td>\n",
       "      <td>0.030000</td>\n",
       "    </tr>\n",
       "  </tbody>\n",
       "</table>\n",
       "</div>"
      ],
      "text/plain": [
       "       messages_included  mb_per_month_included  minutes_included  \\\n",
       "count           2.000000               2.000000          2.000000   \n",
       "mean          525.000000           23040.000000       1750.000000   \n",
       "std           671.751442           10861.160159       1767.766953   \n",
       "min            50.000000           15360.000000        500.000000   \n",
       "25%           287.500000           19200.000000       1125.000000   \n",
       "50%           525.000000           23040.000000       1750.000000   \n",
       "75%           762.500000           26880.000000       2375.000000   \n",
       "max          1000.000000           30720.000000       3000.000000   \n",
       "\n",
       "       usd_monthly_pay  usd_per_gb  usd_per_message  usd_per_minute  \n",
       "count         2.000000     2.00000         2.000000        2.000000  \n",
       "mean         45.000000     8.50000         0.020000        0.020000  \n",
       "std          35.355339     2.12132         0.014142        0.014142  \n",
       "min          20.000000     7.00000         0.010000        0.010000  \n",
       "25%          32.500000     7.75000         0.015000        0.015000  \n",
       "50%          45.000000     8.50000         0.020000        0.020000  \n",
       "75%          57.500000     9.25000         0.025000        0.025000  \n",
       "max          70.000000    10.00000         0.030000        0.030000  "
      ]
     },
     "execution_count": 5,
     "metadata": {},
     "output_type": "execute_result"
    }
   ],
   "source": [
    "plans.describe()"
   ]
  },
  {
   "cell_type": "code",
   "execution_count": 6,
   "metadata": {},
   "outputs": [
    {
     "data": {
      "text/plain": [
       "messages_included        0\n",
       "mb_per_month_included    0\n",
       "minutes_included         0\n",
       "usd_monthly_pay          0\n",
       "usd_per_gb               0\n",
       "usd_per_message          0\n",
       "usd_per_minute           0\n",
       "plan_name                0\n",
       "dtype: int64"
      ]
     },
     "execution_count": 6,
     "metadata": {},
     "output_type": "execute_result"
    }
   ],
   "source": [
    "plans.isna().sum()"
   ]
  },
  {
   "cell_type": "code",
   "execution_count": 7,
   "metadata": {},
   "outputs": [
    {
     "data": {
      "text/plain": [
       "0"
      ]
     },
     "execution_count": 7,
     "metadata": {},
     "output_type": "execute_result"
    }
   ],
   "source": [
    "plans.duplicated().sum()"
   ]
  },
  {
   "cell_type": "code",
   "execution_count": 8,
   "metadata": {},
   "outputs": [
    {
     "data": {
      "text/plain": [
       "messages_included          int64\n",
       "mb_per_month_included      int64\n",
       "minutes_included           int64\n",
       "usd_monthly_pay            int64\n",
       "usd_per_gb                 int64\n",
       "usd_per_message          float64\n",
       "usd_per_minute           float64\n",
       "plan_name                 object\n",
       "dtype: object"
      ]
     },
     "execution_count": 8,
     "metadata": {},
     "output_type": "execute_result"
    }
   ],
   "source": [
    "plans.dtypes"
   ]
  },
  {
   "cell_type": "code",
   "execution_count": 9,
   "metadata": {},
   "outputs": [
    {
     "data": {
      "text/plain": [
       "(2, 8)"
      ]
     },
     "execution_count": 9,
     "metadata": {},
     "output_type": "execute_result"
    }
   ],
   "source": [
    "plans.shape"
   ]
  },
  {
   "cell_type": "markdown",
   "metadata": {},
   "source": [
    "<br>The data shown is the output of plans.info() in Python using pandas, which provides information about a DataFrame called \"plans\". Let's explain the information contained in this output:\n",
    "\n",
    "<br>RangeIndex:\n",
    "<br>It shows information about the index of the DataFrame. RangeIndex includes the number of entries (2 entries in this case) and the index range (from 0 to 1).\n",
    "\n",
    "<br>Data columns:\n",
    "<br>Provides information about the total columns (8 columns in this case).\n",
    "\n",
    "<br>Columns:\n",
    "<br>messages_included: Shows the number of messages included in the package.\n",
    "<br>mb_per_month_included: The number of megabytes included in the plan per month.\n",
    "<br>minutes_included: Shows the number of minutes included in the package.\n",
    "<br>usd_monthly_pay: Monthly cost in USD for the plan.\n",
    "<br>usd_per_gb: Additional charge per gigabyte outside the plan.\n",
    "<br>usd_per_message: Additional charge per message outside the package in USD.\n",
    "<br>usd_per_minute: Additional charges per minute outside the plan in USD.\n",
    "<br>plan_name: Plan name.\n",
    "\n",
    "<br>Non-Null Count:\n",
    "<br>Indicates the number of non-null (non-empty) entries in each column. All columns have 2 non-null entries, which means there are no missing values.\n",
    "\n",
    "<br>Dtype:\n",
    "<br>int64: Indicates the column data type that contains integers.\n",
    "<br>float64: Indicates the column data type that contains fractional numbers (float).\n",
    "<br>object: Indicates the data type of the column that contains the object, such as a string (in this case, the plan_name column).\n",
    "    \n",
    "<br>Memory Usage:\n",
    "<br>Shows memory usage by the DataFrame, in bytes (256.0+ bytes in this case)."
   ]
  },
  {
   "cell_type": "markdown",
   "metadata": {},
   "source": [
    "<br>The output shown is the result of plans.head() where we can see the first five rows of the DataFrame \"plans\". Let's explain each column and row:\r\n",
    "\r\n",
    "<br>messages_included: Shows the number of messages included in the package for each plan. The “surf” plan has a 50 message plan, while the “ultimate” plan has a 1000 message plan.\r\n",
    "\r\n",
    "<br>mb_per_month_included: Shows the number of megabytes included in the plan per month for each plan. The “surf” plan has a 15,360 MB plan, while the “ultimate” plan has a 30,720 MB plan.\r\n",
    "\r\n",
    "<br>minutes_included: Shows the number of minutes included in the package for each plan. The “surf” plan has a 500 minute plan, while the “ultimate” plan has a 3000 minute plan.\r\n",
    "\r\n",
    "<br>usd_monthly_pay: This is the monthly fee in USD for each package type.\r\n",
    "\r\n",
    "<br>usd_per_gb: This is an additional cost per gigabyte outside the package. The \"surf\" plan has a surcharge of &dollar;10 per gigabyte, while the \"ultimate\" plan has an additional charge of &dollar;7 per gigabyte.\r\n",
    "\r\n",
    "<br>usd_per_message: This is an additional charge per message outside the package in USD.\r\n",
    "\r\n",
    "<br>usd_per_minute: This is the additional cost per minute outside the package in USD.\r\n",
    "\r\n",
    "<br>plan_name: Is the name of the package. There are two plans: \"surf\" and \"ultimate\".\r\n",
    "\r\n",
    "<br>Each row represents one plan with the corresponding values for each category described above. The “surf” plan is the first line and the “ultimate” plan is the second line."
   ]
  },
  {
   "cell_type": "markdown",
   "metadata": {},
   "source": [
    " "
   ]
  },
  {
   "cell_type": "markdown",
   "metadata": {},
   "source": [
    "<a id='step2.1.1'></a>\n",
    "### **2.1.1 Fixing Data**"
   ]
  },
  {
   "cell_type": "code",
   "execution_count": 10,
   "metadata": {},
   "outputs": [],
   "source": [
    "# Convert the value to gigabytes by dividing by 1024\n",
    "plans['gb_per_month_included'] = plans['mb_per_month_included']/1024\n"
   ]
  },
  {
   "cell_type": "markdown",
   "metadata": {},
   "source": [
    "\n",
    "<br>The code shown is an attempt to convert the values in the 'mb_per_month_included' column to gigabytes (GB) by dividing by 1024. Let's explain what happens in the code:\r\n",
    "\r\n",
    "<br>plans['gb_per_month_included'] = plans['mb_per_month_included']/1024:\r\n",
    "<br>This code adds a new column named 'gb_per_month_included' to DataFrame 'plans'. This column is filled with the result of dividing the value in the 'mb_per_month_included' column by 1024, which is the conversion from megabytes (MB) to gigabytes (GB).\r\n",
    "\r\n",
    "<br>plans['mb_per_month_included']: Gets the value from the 'mb_per_month_included' column, namely the number of megabytes per month for each plan.\r\n",
    "\r\n",
    "<br>plans['mb_per_month_included']/1024: Divide the 'mb_per_month_included' value by 1024 to convert it to gigabytes (1 gigabyte = 1024 megabytes).\r\n",
    "\r\n",
    "<br>The results of this division are stored in a new column 'gb_per_month_included'.\r\n",
    "\r\n",
    "<br>The result of this operation is the addition of the 'gb_per_month_included' column which contains a value in gigabytes (GB) which is equivalent to the value in megabytes (MB) from the 'mb_per_month_included' column, but in gigabytes."
   ]
  },
  {
   "cell_type": "code",
   "execution_count": 11,
   "metadata": {
    "scrolled": true
   },
   "outputs": [
    {
     "name": "stdout",
     "output_type": "stream",
     "text": [
      "<class 'pandas.core.frame.DataFrame'>\n",
      "RangeIndex: 2 entries, 0 to 1\n",
      "Data columns (total 9 columns):\n",
      " #   Column                 Non-Null Count  Dtype  \n",
      "---  ------                 --------------  -----  \n",
      " 0   messages_included      2 non-null      int64  \n",
      " 1   mb_per_month_included  2 non-null      int64  \n",
      " 2   minutes_included       2 non-null      int64  \n",
      " 3   usd_monthly_pay        2 non-null      int64  \n",
      " 4   usd_per_gb             2 non-null      int64  \n",
      " 5   usd_per_message        2 non-null      float64\n",
      " 6   usd_per_minute         2 non-null      float64\n",
      " 7   plan_name              2 non-null      object \n",
      " 8   gb_per_month_included  2 non-null      float64\n",
      "dtypes: float64(3), int64(5), object(1)\n",
      "memory usage: 276.0+ bytes\n"
     ]
    }
   ],
   "source": [
    "# Check information changes\n",
    "plans.info()"
   ]
  },
  {
   "cell_type": "code",
   "execution_count": 12,
   "metadata": {
    "scrolled": true
   },
   "outputs": [
    {
     "data": {
      "text/html": [
       "<div>\n",
       "<style scoped>\n",
       "    .dataframe tbody tr th:only-of-type {\n",
       "        vertical-align: middle;\n",
       "    }\n",
       "\n",
       "    .dataframe tbody tr th {\n",
       "        vertical-align: top;\n",
       "    }\n",
       "\n",
       "    .dataframe thead th {\n",
       "        text-align: right;\n",
       "    }\n",
       "</style>\n",
       "<table border=\"1\" class=\"dataframe\">\n",
       "  <thead>\n",
       "    <tr style=\"text-align: right;\">\n",
       "      <th></th>\n",
       "      <th>messages_included</th>\n",
       "      <th>mb_per_month_included</th>\n",
       "      <th>minutes_included</th>\n",
       "      <th>usd_monthly_pay</th>\n",
       "      <th>usd_per_gb</th>\n",
       "      <th>usd_per_message</th>\n",
       "      <th>usd_per_minute</th>\n",
       "      <th>plan_name</th>\n",
       "      <th>gb_per_month_included</th>\n",
       "    </tr>\n",
       "  </thead>\n",
       "  <tbody>\n",
       "    <tr>\n",
       "      <th>0</th>\n",
       "      <td>50</td>\n",
       "      <td>15360</td>\n",
       "      <td>500</td>\n",
       "      <td>20</td>\n",
       "      <td>10</td>\n",
       "      <td>0.03</td>\n",
       "      <td>0.03</td>\n",
       "      <td>surf</td>\n",
       "      <td>15.0</td>\n",
       "    </tr>\n",
       "    <tr>\n",
       "      <th>1</th>\n",
       "      <td>1000</td>\n",
       "      <td>30720</td>\n",
       "      <td>3000</td>\n",
       "      <td>70</td>\n",
       "      <td>7</td>\n",
       "      <td>0.01</td>\n",
       "      <td>0.01</td>\n",
       "      <td>ultimate</td>\n",
       "      <td>30.0</td>\n",
       "    </tr>\n",
       "  </tbody>\n",
       "</table>\n",
       "</div>"
      ],
      "text/plain": [
       "   messages_included  mb_per_month_included  minutes_included  \\\n",
       "0                 50                  15360               500   \n",
       "1               1000                  30720              3000   \n",
       "\n",
       "   usd_monthly_pay  usd_per_gb  usd_per_message  usd_per_minute plan_name  \\\n",
       "0               20          10             0.03            0.03      surf   \n",
       "1               70           7             0.01            0.01  ultimate   \n",
       "\n",
       "   gb_per_month_included  \n",
       "0                   15.0  \n",
       "1                   30.0  "
      ]
     },
     "execution_count": 12,
     "metadata": {},
     "output_type": "execute_result"
    }
   ],
   "source": [
    "# Show sample data\n",
    "plans.head()"
   ]
  },
  {
   "cell_type": "markdown",
   "metadata": {},
   "source": [
    "[Back to Content](#back)"
   ]
  },
  {
   "cell_type": "markdown",
   "metadata": {},
   "source": [
    "<a id='step2.1.2'></a>\n",
    "### **2.1.2 Enriching Data Quality**"
   ]
  },
  {
   "cell_type": "markdown",
   "metadata": {},
   "source": [
    "<a id='step2.2'></a>\n",
    "## **2.2 Users**"
   ]
  },
  {
   "cell_type": "code",
   "execution_count": 13,
   "metadata": {},
   "outputs": [
    {
     "name": "stdout",
     "output_type": "stream",
     "text": [
      "<class 'pandas.core.frame.DataFrame'>\n",
      "RangeIndex: 500 entries, 0 to 499\n",
      "Data columns (total 8 columns):\n",
      " #   Column      Non-Null Count  Dtype \n",
      "---  ------      --------------  ----- \n",
      " 0   user_id     500 non-null    int64 \n",
      " 1   first_name  500 non-null    object\n",
      " 2   last_name   500 non-null    object\n",
      " 3   age         500 non-null    int64 \n",
      " 4   city        500 non-null    object\n",
      " 5   reg_date    500 non-null    object\n",
      " 6   plan        500 non-null    object\n",
      " 7   churn_date  34 non-null     object\n",
      "dtypes: int64(2), object(6)\n",
      "memory usage: 31.4+ KB\n"
     ]
    }
   ],
   "source": [
    "# Show general information/summary about the user's DataFrame\n",
    "users.info()"
   ]
  },
  {
   "cell_type": "code",
   "execution_count": 14,
   "metadata": {},
   "outputs": [
    {
     "data": {
      "text/html": [
       "<div>\n",
       "<style scoped>\n",
       "    .dataframe tbody tr th:only-of-type {\n",
       "        vertical-align: middle;\n",
       "    }\n",
       "\n",
       "    .dataframe tbody tr th {\n",
       "        vertical-align: top;\n",
       "    }\n",
       "\n",
       "    .dataframe thead th {\n",
       "        text-align: right;\n",
       "    }\n",
       "</style>\n",
       "<table border=\"1\" class=\"dataframe\">\n",
       "  <thead>\n",
       "    <tr style=\"text-align: right;\">\n",
       "      <th></th>\n",
       "      <th>user_id</th>\n",
       "      <th>first_name</th>\n",
       "      <th>last_name</th>\n",
       "      <th>age</th>\n",
       "      <th>city</th>\n",
       "      <th>reg_date</th>\n",
       "      <th>plan</th>\n",
       "      <th>churn_date</th>\n",
       "    </tr>\n",
       "  </thead>\n",
       "  <tbody>\n",
       "    <tr>\n",
       "      <th>0</th>\n",
       "      <td>1000</td>\n",
       "      <td>Anamaria</td>\n",
       "      <td>Bauer</td>\n",
       "      <td>45</td>\n",
       "      <td>Atlanta-Sandy Springs-Roswell, GA MSA</td>\n",
       "      <td>2018-12-24</td>\n",
       "      <td>ultimate</td>\n",
       "      <td>NaN</td>\n",
       "    </tr>\n",
       "    <tr>\n",
       "      <th>1</th>\n",
       "      <td>1001</td>\n",
       "      <td>Mickey</td>\n",
       "      <td>Wilkerson</td>\n",
       "      <td>28</td>\n",
       "      <td>Seattle-Tacoma-Bellevue, WA MSA</td>\n",
       "      <td>2018-08-13</td>\n",
       "      <td>surf</td>\n",
       "      <td>NaN</td>\n",
       "    </tr>\n",
       "    <tr>\n",
       "      <th>2</th>\n",
       "      <td>1002</td>\n",
       "      <td>Carlee</td>\n",
       "      <td>Hoffman</td>\n",
       "      <td>36</td>\n",
       "      <td>Las Vegas-Henderson-Paradise, NV MSA</td>\n",
       "      <td>2018-10-21</td>\n",
       "      <td>surf</td>\n",
       "      <td>NaN</td>\n",
       "    </tr>\n",
       "    <tr>\n",
       "      <th>3</th>\n",
       "      <td>1003</td>\n",
       "      <td>Reynaldo</td>\n",
       "      <td>Jenkins</td>\n",
       "      <td>52</td>\n",
       "      <td>Tulsa, OK MSA</td>\n",
       "      <td>2018-01-28</td>\n",
       "      <td>surf</td>\n",
       "      <td>NaN</td>\n",
       "    </tr>\n",
       "    <tr>\n",
       "      <th>4</th>\n",
       "      <td>1004</td>\n",
       "      <td>Leonila</td>\n",
       "      <td>Thompson</td>\n",
       "      <td>40</td>\n",
       "      <td>Seattle-Tacoma-Bellevue, WA MSA</td>\n",
       "      <td>2018-05-23</td>\n",
       "      <td>surf</td>\n",
       "      <td>NaN</td>\n",
       "    </tr>\n",
       "  </tbody>\n",
       "</table>\n",
       "</div>"
      ],
      "text/plain": [
       "   user_id first_name  last_name  age                                   city  \\\n",
       "0     1000   Anamaria      Bauer   45  Atlanta-Sandy Springs-Roswell, GA MSA   \n",
       "1     1001     Mickey  Wilkerson   28        Seattle-Tacoma-Bellevue, WA MSA   \n",
       "2     1002     Carlee    Hoffman   36   Las Vegas-Henderson-Paradise, NV MSA   \n",
       "3     1003   Reynaldo    Jenkins   52                          Tulsa, OK MSA   \n",
       "4     1004    Leonila   Thompson   40        Seattle-Tacoma-Bellevue, WA MSA   \n",
       "\n",
       "     reg_date      plan churn_date  \n",
       "0  2018-12-24  ultimate        NaN  \n",
       "1  2018-08-13      surf        NaN  \n",
       "2  2018-10-21      surf        NaN  \n",
       "3  2018-01-28      surf        NaN  \n",
       "4  2018-05-23      surf        NaN  "
      ]
     },
     "execution_count": 14,
     "metadata": {},
     "output_type": "execute_result"
    }
   ],
   "source": [
    "# Show sample user data\n",
    "users.head()\n"
   ]
  },
  {
   "cell_type": "code",
   "execution_count": 15,
   "metadata": {},
   "outputs": [
    {
     "data": {
      "text/html": [
       "<div>\n",
       "<style scoped>\n",
       "    .dataframe tbody tr th:only-of-type {\n",
       "        vertical-align: middle;\n",
       "    }\n",
       "\n",
       "    .dataframe tbody tr th {\n",
       "        vertical-align: top;\n",
       "    }\n",
       "\n",
       "    .dataframe thead th {\n",
       "        text-align: right;\n",
       "    }\n",
       "</style>\n",
       "<table border=\"1\" class=\"dataframe\">\n",
       "  <thead>\n",
       "    <tr style=\"text-align: right;\">\n",
       "      <th></th>\n",
       "      <th>user_id</th>\n",
       "      <th>age</th>\n",
       "    </tr>\n",
       "  </thead>\n",
       "  <tbody>\n",
       "    <tr>\n",
       "      <th>count</th>\n",
       "      <td>500.000000</td>\n",
       "      <td>500.000000</td>\n",
       "    </tr>\n",
       "    <tr>\n",
       "      <th>mean</th>\n",
       "      <td>1249.500000</td>\n",
       "      <td>45.486000</td>\n",
       "    </tr>\n",
       "    <tr>\n",
       "      <th>std</th>\n",
       "      <td>144.481833</td>\n",
       "      <td>16.972269</td>\n",
       "    </tr>\n",
       "    <tr>\n",
       "      <th>min</th>\n",
       "      <td>1000.000000</td>\n",
       "      <td>18.000000</td>\n",
       "    </tr>\n",
       "    <tr>\n",
       "      <th>25%</th>\n",
       "      <td>1124.750000</td>\n",
       "      <td>30.000000</td>\n",
       "    </tr>\n",
       "    <tr>\n",
       "      <th>50%</th>\n",
       "      <td>1249.500000</td>\n",
       "      <td>46.000000</td>\n",
       "    </tr>\n",
       "    <tr>\n",
       "      <th>75%</th>\n",
       "      <td>1374.250000</td>\n",
       "      <td>61.000000</td>\n",
       "    </tr>\n",
       "    <tr>\n",
       "      <th>max</th>\n",
       "      <td>1499.000000</td>\n",
       "      <td>75.000000</td>\n",
       "    </tr>\n",
       "  </tbody>\n",
       "</table>\n",
       "</div>"
      ],
      "text/plain": [
       "           user_id         age\n",
       "count   500.000000  500.000000\n",
       "mean   1249.500000   45.486000\n",
       "std     144.481833   16.972269\n",
       "min    1000.000000   18.000000\n",
       "25%    1124.750000   30.000000\n",
       "50%    1249.500000   46.000000\n",
       "75%    1374.250000   61.000000\n",
       "max    1499.000000   75.000000"
      ]
     },
     "execution_count": 15,
     "metadata": {},
     "output_type": "execute_result"
    }
   ],
   "source": [
    "users.describe()"
   ]
  },
  {
   "cell_type": "code",
   "execution_count": 16,
   "metadata": {},
   "outputs": [
    {
     "data": {
      "text/plain": [
       "user_id         0\n",
       "first_name      0\n",
       "last_name       0\n",
       "age             0\n",
       "city            0\n",
       "reg_date        0\n",
       "plan            0\n",
       "churn_date    466\n",
       "dtype: int64"
      ]
     },
     "execution_count": 16,
     "metadata": {},
     "output_type": "execute_result"
    }
   ],
   "source": [
    "users.isna().sum()"
   ]
  },
  {
   "cell_type": "code",
   "execution_count": 17,
   "metadata": {},
   "outputs": [
    {
     "data": {
      "text/plain": [
       "0"
      ]
     },
     "execution_count": 17,
     "metadata": {},
     "output_type": "execute_result"
    }
   ],
   "source": [
    "users.duplicated().sum()"
   ]
  },
  {
   "cell_type": "code",
   "execution_count": 18,
   "metadata": {},
   "outputs": [
    {
     "data": {
      "text/plain": [
       "user_id        int64\n",
       "first_name    object\n",
       "last_name     object\n",
       "age            int64\n",
       "city          object\n",
       "reg_date      object\n",
       "plan          object\n",
       "churn_date    object\n",
       "dtype: object"
      ]
     },
     "execution_count": 18,
     "metadata": {},
     "output_type": "execute_result"
    }
   ],
   "source": [
    "users.dtypes"
   ]
  },
  {
   "cell_type": "code",
   "execution_count": 19,
   "metadata": {},
   "outputs": [
    {
     "data": {
      "text/plain": [
       "(500, 8)"
      ]
     },
     "execution_count": 19,
     "metadata": {},
     "output_type": "execute_result"
    }
   ],
   "source": [
    "users.shape"
   ]
  },
  {
   "cell_type": "markdown",
   "metadata": {},
   "source": [
    "<br>Based on the information above, the following is an analysis related to potential problems in DataFrame users and suggestions for improvements:\r\n",
    "\r\n",
    "1. Column Data Type reg_date and churn_date:\r\n",
    "<br>Problem: The reg_date and churn_date columns currently have a string (object) data type which should be converted to a datetime data type to facilitate date analysis.\r\n",
    "<br>Fix: Convert reg_date and churn_date columns to datetime data type using pd.to_datetime.\r\n",
    "\r\n",
    "    \r\n",
    "2. Churn_date Column with Missing Data (NaN):\r\n",
    "<br>Problem: There are many empty values (NaN) in the churn_date column. This may indicate that most users are still using the service (haven't churned) or that the data is not being recorded correctly.\r\n",
    "<br>Improvement: If this column must have valid data, then it is necessary to ensure that this data is filled in on December 1 2018, namely the date of the service package being used when this data was created.\r\n",
    "    \r\n",
    "    \r\n",
    "3. Plan column\r\n",
    "<br>Problem: There are only 2 types, namely 'surf' and 'ultimate'\r\n",
    "<br>Improvement: Changed the data type to category\r\n",
    "    \r\n",
    "    \r\n",
    "4. No Duplicate Data:\r\n",
    "<br>Problem: There are no duplicate data in the DataFrame, which is good.\r\n",
    "<br>Fix: No further action is required for this issue."
   ]
  },
  {
   "cell_type": "markdown",
   "metadata": {},
   "source": [
    " "
   ]
  },
  {
   "cell_type": "markdown",
   "metadata": {},
   "source": [
    "<a id='step2.2.1'></a>\n",
    "### **2.2.1 Fixing Data**"
   ]
  },
  {
   "cell_type": "code",
   "execution_count": 20,
   "metadata": {},
   "outputs": [],
   "source": [
    "# Convert 'plan' column to category type\n",
    "users['plan'] = users['plan'].astype('category')"
   ]
  },
  {
   "cell_type": "code",
   "execution_count": 21,
   "metadata": {},
   "outputs": [],
   "source": [
    "# Convert 'reg_date' column to datetime data type\n",
    "users['reg_date'] = pd.to_datetime(users['reg_date'])"
   ]
  },
  {
   "cell_type": "code",
   "execution_count": 22,
   "metadata": {},
   "outputs": [],
   "source": [
    "# Replace the NaN value with the date December 01, 2018,\n",
    "# The service plan was in use when this data was generated\n",
    "users['churn_date'].fillna('2018-12-01', inplace=True)\n",
    "\n",
    "# Convert column 'churn_date' to datetime data type\n",
    "users['churn_date'] = pd.to_datetime(users['churn_date'])"
   ]
  },
  {
   "cell_type": "code",
   "execution_count": 23,
   "metadata": {},
   "outputs": [
    {
     "name": "stdout",
     "output_type": "stream",
     "text": [
      "<class 'pandas.core.frame.DataFrame'>\n",
      "RangeIndex: 500 entries, 0 to 499\n",
      "Data columns (total 8 columns):\n",
      " #   Column      Non-Null Count  Dtype         \n",
      "---  ------      --------------  -----         \n",
      " 0   user_id     500 non-null    int64         \n",
      " 1   first_name  500 non-null    object        \n",
      " 2   last_name   500 non-null    object        \n",
      " 3   age         500 non-null    int64         \n",
      " 4   city        500 non-null    object        \n",
      " 5   reg_date    500 non-null    datetime64[ns]\n",
      " 6   plan        500 non-null    category      \n",
      " 7   churn_date  500 non-null    datetime64[ns]\n",
      "dtypes: category(1), datetime64[ns](2), int64(2), object(3)\n",
      "memory usage: 28.1+ KB\n"
     ]
    }
   ],
   "source": [
    "# Check information changes\n",
    "users.info()"
   ]
  },
  {
   "cell_type": "markdown",
   "metadata": {},
   "source": [
    "<br>The code shown is a series of steps to perform data transformation and cleaning on DataFrame users. Let's explain each step:\r\n",
    "\r\n",
    "<br>Convert 'plan' Column to Category Type:\r\n",
    "<br>Purpose: Change the data type of the 'plan' column to a category type, which is memory efficient and useful if this column has a limited number of unique values, namely 'surf' and 'ultimate'.\r\n",
    "<br>Implementation: Using .astype('category') to perform data type conversion.\r\n",
    "\r\n",
    "<br>Convert Column 'reg_date' to DateTime Data Type:\r\n",
    "<br>Purpose: Change the data type of column 'reg_date' to datetime data type to enable date-based analysis.\r\n",
    "<br>Implementation: Using pd.to_datetime to perform data type conversion.\r\n",
    "\r\n",
    "<br>Filling in NaN Values in the 'churn_date' Column:\r\n",
    "<br>Purpose: Replace the NaN value in the 'churn_date' column with a specific date to indicate that the service package was still in use when the data was recorded.\r\n",
    "<br>Implementation: Use .fillna() with the last subscription date ('2018-12-01' in this case) to fill in NaN values.\r\n",
    "    \r\n",
    "<br>Convert Column 'churn_date' to DateTime Data Type:\r\n",
    "<br>Purpose: Change the data type of column 'churn_date' to datetime data type after filling in NaN values.\r\n",
    "<br>Implementation: Using pd.to_datetime to perform data type conversion.\r\n",
    "    \r\n",
    "<br>DataFrame Information Checking:\r\n",
    "<br>Purpose: Check data type changes and non-null values after data transformation and cleaning.\r\n",
    "<br>Implementation: Using users.info() to get information about the data type and number of non-null values in each column.\r\n",
    "    \r\n",
    "<br>The final result after transformation and cleaning is a DataFrame users with changes to the appropriate data types, especially the 'plan', 'reg_date', and 'churn_date' columns, as well as filling in NaN values in the 'churn_date' column according to the specified date."
   ]
  },
  {
   "cell_type": "markdown",
   "metadata": {},
   "source": [
    "<a id='step2.2.2'></a>\n",
    "### **2.2.2 Enriching Data Quality**"
   ]
  },
  {
   "cell_type": "code",
   "execution_count": 24,
   "metadata": {},
   "outputs": [
    {
     "data": {
      "text/plain": [
       "array(['December', 'August', 'October', 'January', 'May', 'November',\n",
       "       'July', 'April', 'March', 'June', 'February', 'September'],\n",
       "      dtype=object)"
      ]
     },
     "execution_count": 24,
     "metadata": {},
     "output_type": "execute_result"
    }
   ],
   "source": [
    "# Save the month names taken from 'reg_date' into a new column 'reg_month'\n",
    "users['reg_month'] = users['reg_date'].dt.month_name()\n",
    "\n",
    "# Returns unique values\n",
    "users['reg_month'].unique()"
   ]
  },
  {
   "cell_type": "markdown",
   "metadata": {},
   "source": [
    "<br>The code shown is to create a new column 'reg_month' which contains the names of months taken from the 'reg_date' column, then displays the unique values from the 'reg_month' column. The following is an explanation of the steps:\n",
    "\n",
    "<br>Create a New Column 'reg_month':\n",
    "<br>Use users['reg_date'].dt.month_name() to take the month name from the 'reg_date' column and store it in a new 'reg_month' column.\n",
    "<br>The dt.month_name() function is used to retrieve the month name from each date in text format, such as \"January\", \"February\", etc.\n",
    "\n",
    "\n",
    "<br>Displaying Unique Values from Column 'reg_month':\n",
    "<br>Use users['reg_month'].unique() to get the unique value from the 'reg_month' column, which contains the month names from the previous step.\n",
    "    \n",
    "    \n",
    "<br>The end result is that we get a unique list of month names that appear in the 'reg_month' column. This list is the result of retrieving the month names from the 'reg_date' column for each entry in the 'users' DataFrame. These values are the names of the months that appear in the user's registration data ('reg_date')."
   ]
  },
  {
   "cell_type": "code",
   "execution_count": 25,
   "metadata": {},
   "outputs": [
    {
     "data": {
      "text/plain": [
       "array(['December', 'November', 'September', 'October', 'July', 'August'],\n",
       "      dtype=object)"
      ]
     },
     "execution_count": 25,
     "metadata": {},
     "output_type": "execute_result"
    }
   ],
   "source": [
    "# Save the month names taken from 'churn_date' into a new column 'churn_month'\n",
    "users['churn_month'] = users['churn_date'].dt.month_name()\n",
    "\n",
    "# Returns unique values\n",
    "users['churn_month'].unique()"
   ]
  },
  {
   "cell_type": "markdown",
   "metadata": {},
   "source": [
    "<br>The code shown is to create a new column 'churn_month' which contains the names of months taken from the 'churn_date' column, then displays the unique values from the 'churn_month' column. The following is an explanation of the steps:\n",
    "\n",
    "<br>Create a New Column 'churn_month':\n",
    "<br>Use users['churn_date'].dt.month_name() to take the month name from the 'churn_date' column and store it in a new column 'churn_month'.\n",
    "<br>The dt.month_name() function is used to retrieve the month name from each date in text format, such as \"January\", \"February\", etc.\n",
    "    \n",
    "    \n",
    "<br>Displaying Unique Values from Column 'churn_month':\n",
    "<br>Use users['churn_month'].unique() to get the unique value from the 'churn_month' column, which contains the month names from the previous step.\n",
    "    \n",
    "    \n",
    "<br>The end result is that we get a unique list of month names that appear in the 'churn_month' column. This list is the result of retrieving the month names from the 'churn_date' column for each entry in the 'users' DataFrame. These values are the names of the months that appear in the service churn data ('churn_date')."
   ]
  },
  {
   "cell_type": "code",
   "execution_count": 26,
   "metadata": {},
   "outputs": [
    {
     "name": "stdout",
     "output_type": "stream",
     "text": [
      "<class 'pandas.core.frame.DataFrame'>\n",
      "RangeIndex: 500 entries, 0 to 499\n",
      "Data columns (total 10 columns):\n",
      " #   Column       Non-Null Count  Dtype         \n",
      "---  ------       --------------  -----         \n",
      " 0   user_id      500 non-null    int64         \n",
      " 1   first_name   500 non-null    object        \n",
      " 2   last_name    500 non-null    object        \n",
      " 3   age          500 non-null    int64         \n",
      " 4   city         500 non-null    object        \n",
      " 5   reg_date     500 non-null    datetime64[ns]\n",
      " 6   plan         500 non-null    category      \n",
      " 7   churn_date   500 non-null    datetime64[ns]\n",
      " 8   reg_month    500 non-null    object        \n",
      " 9   churn_month  500 non-null    object        \n",
      "dtypes: category(1), datetime64[ns](2), int64(2), object(5)\n",
      "memory usage: 35.9+ KB\n"
     ]
    }
   ],
   "source": [
    "# Check information changes\n",
    "users.info()"
   ]
  },
  {
   "cell_type": "code",
   "execution_count": 27,
   "metadata": {},
   "outputs": [
    {
     "data": {
      "text/html": [
       "<div>\n",
       "<style scoped>\n",
       "    .dataframe tbody tr th:only-of-type {\n",
       "        vertical-align: middle;\n",
       "    }\n",
       "\n",
       "    .dataframe tbody tr th {\n",
       "        vertical-align: top;\n",
       "    }\n",
       "\n",
       "    .dataframe thead th {\n",
       "        text-align: right;\n",
       "    }\n",
       "</style>\n",
       "<table border=\"1\" class=\"dataframe\">\n",
       "  <thead>\n",
       "    <tr style=\"text-align: right;\">\n",
       "      <th></th>\n",
       "      <th>user_id</th>\n",
       "      <th>first_name</th>\n",
       "      <th>last_name</th>\n",
       "      <th>age</th>\n",
       "      <th>city</th>\n",
       "      <th>reg_date</th>\n",
       "      <th>plan</th>\n",
       "      <th>churn_date</th>\n",
       "      <th>reg_month</th>\n",
       "      <th>churn_month</th>\n",
       "    </tr>\n",
       "  </thead>\n",
       "  <tbody>\n",
       "    <tr>\n",
       "      <th>0</th>\n",
       "      <td>1000</td>\n",
       "      <td>Anamaria</td>\n",
       "      <td>Bauer</td>\n",
       "      <td>45</td>\n",
       "      <td>Atlanta-Sandy Springs-Roswell, GA MSA</td>\n",
       "      <td>2018-12-24</td>\n",
       "      <td>ultimate</td>\n",
       "      <td>2018-12-01</td>\n",
       "      <td>December</td>\n",
       "      <td>December</td>\n",
       "    </tr>\n",
       "    <tr>\n",
       "      <th>1</th>\n",
       "      <td>1001</td>\n",
       "      <td>Mickey</td>\n",
       "      <td>Wilkerson</td>\n",
       "      <td>28</td>\n",
       "      <td>Seattle-Tacoma-Bellevue, WA MSA</td>\n",
       "      <td>2018-08-13</td>\n",
       "      <td>surf</td>\n",
       "      <td>2018-12-01</td>\n",
       "      <td>August</td>\n",
       "      <td>December</td>\n",
       "    </tr>\n",
       "    <tr>\n",
       "      <th>2</th>\n",
       "      <td>1002</td>\n",
       "      <td>Carlee</td>\n",
       "      <td>Hoffman</td>\n",
       "      <td>36</td>\n",
       "      <td>Las Vegas-Henderson-Paradise, NV MSA</td>\n",
       "      <td>2018-10-21</td>\n",
       "      <td>surf</td>\n",
       "      <td>2018-12-01</td>\n",
       "      <td>October</td>\n",
       "      <td>December</td>\n",
       "    </tr>\n",
       "    <tr>\n",
       "      <th>3</th>\n",
       "      <td>1003</td>\n",
       "      <td>Reynaldo</td>\n",
       "      <td>Jenkins</td>\n",
       "      <td>52</td>\n",
       "      <td>Tulsa, OK MSA</td>\n",
       "      <td>2018-01-28</td>\n",
       "      <td>surf</td>\n",
       "      <td>2018-12-01</td>\n",
       "      <td>January</td>\n",
       "      <td>December</td>\n",
       "    </tr>\n",
       "    <tr>\n",
       "      <th>4</th>\n",
       "      <td>1004</td>\n",
       "      <td>Leonila</td>\n",
       "      <td>Thompson</td>\n",
       "      <td>40</td>\n",
       "      <td>Seattle-Tacoma-Bellevue, WA MSA</td>\n",
       "      <td>2018-05-23</td>\n",
       "      <td>surf</td>\n",
       "      <td>2018-12-01</td>\n",
       "      <td>May</td>\n",
       "      <td>December</td>\n",
       "    </tr>\n",
       "  </tbody>\n",
       "</table>\n",
       "</div>"
      ],
      "text/plain": [
       "   user_id first_name  last_name  age                                   city  \\\n",
       "0     1000   Anamaria      Bauer   45  Atlanta-Sandy Springs-Roswell, GA MSA   \n",
       "1     1001     Mickey  Wilkerson   28        Seattle-Tacoma-Bellevue, WA MSA   \n",
       "2     1002     Carlee    Hoffman   36   Las Vegas-Henderson-Paradise, NV MSA   \n",
       "3     1003   Reynaldo    Jenkins   52                          Tulsa, OK MSA   \n",
       "4     1004    Leonila   Thompson   40        Seattle-Tacoma-Bellevue, WA MSA   \n",
       "\n",
       "    reg_date      plan churn_date reg_month churn_month  \n",
       "0 2018-12-24  ultimate 2018-12-01  December    December  \n",
       "1 2018-08-13      surf 2018-12-01    August    December  \n",
       "2 2018-10-21      surf 2018-12-01   October    December  \n",
       "3 2018-01-28      surf 2018-12-01   January    December  \n",
       "4 2018-05-23      surf 2018-12-01       May    December  "
      ]
     },
     "execution_count": 27,
     "metadata": {},
     "output_type": "execute_result"
    }
   ],
   "source": [
    "# Check for data sample changes\n",
    "users.head()"
   ]
  },
  {
   "cell_type": "markdown",
   "metadata": {},
   "source": [
    "[Back to Content](#back)"
   ]
  },
  {
   "cell_type": "markdown",
   "metadata": {},
   "source": [
    "<a id='step2.3'></a>\n",
    "## **2.3 Call**"
   ]
  },
  {
   "cell_type": "code",
   "execution_count": 28,
   "metadata": {},
   "outputs": [
    {
     "name": "stdout",
     "output_type": "stream",
     "text": [
      "<class 'pandas.core.frame.DataFrame'>\n",
      "RangeIndex: 137735 entries, 0 to 137734\n",
      "Data columns (total 4 columns):\n",
      " #   Column     Non-Null Count   Dtype  \n",
      "---  ------     --------------   -----  \n",
      " 0   id         137735 non-null  object \n",
      " 1   user_id    137735 non-null  int64  \n",
      " 2   call_date  137735 non-null  object \n",
      " 3   duration   137735 non-null  float64\n",
      "dtypes: float64(1), int64(1), object(2)\n",
      "memory usage: 4.2+ MB\n"
     ]
    }
   ],
   "source": [
    "# Show general information/summary about the calling DataFrame\n",
    "calls.info()"
   ]
  },
  {
   "cell_type": "code",
   "execution_count": 29,
   "metadata": {},
   "outputs": [
    {
     "data": {
      "text/html": [
       "<div>\n",
       "<style scoped>\n",
       "    .dataframe tbody tr th:only-of-type {\n",
       "        vertical-align: middle;\n",
       "    }\n",
       "\n",
       "    .dataframe tbody tr th {\n",
       "        vertical-align: top;\n",
       "    }\n",
       "\n",
       "    .dataframe thead th {\n",
       "        text-align: right;\n",
       "    }\n",
       "</style>\n",
       "<table border=\"1\" class=\"dataframe\">\n",
       "  <thead>\n",
       "    <tr style=\"text-align: right;\">\n",
       "      <th></th>\n",
       "      <th>id</th>\n",
       "      <th>user_id</th>\n",
       "      <th>call_date</th>\n",
       "      <th>duration</th>\n",
       "    </tr>\n",
       "  </thead>\n",
       "  <tbody>\n",
       "    <tr>\n",
       "      <th>0</th>\n",
       "      <td>1000_93</td>\n",
       "      <td>1000</td>\n",
       "      <td>2018-12-27</td>\n",
       "      <td>8.52</td>\n",
       "    </tr>\n",
       "    <tr>\n",
       "      <th>1</th>\n",
       "      <td>1000_145</td>\n",
       "      <td>1000</td>\n",
       "      <td>2018-12-27</td>\n",
       "      <td>13.66</td>\n",
       "    </tr>\n",
       "    <tr>\n",
       "      <th>2</th>\n",
       "      <td>1000_247</td>\n",
       "      <td>1000</td>\n",
       "      <td>2018-12-27</td>\n",
       "      <td>14.48</td>\n",
       "    </tr>\n",
       "    <tr>\n",
       "      <th>3</th>\n",
       "      <td>1000_309</td>\n",
       "      <td>1000</td>\n",
       "      <td>2018-12-28</td>\n",
       "      <td>5.76</td>\n",
       "    </tr>\n",
       "    <tr>\n",
       "      <th>4</th>\n",
       "      <td>1000_380</td>\n",
       "      <td>1000</td>\n",
       "      <td>2018-12-30</td>\n",
       "      <td>4.22</td>\n",
       "    </tr>\n",
       "  </tbody>\n",
       "</table>\n",
       "</div>"
      ],
      "text/plain": [
       "         id  user_id   call_date  duration\n",
       "0   1000_93     1000  2018-12-27      8.52\n",
       "1  1000_145     1000  2018-12-27     13.66\n",
       "2  1000_247     1000  2018-12-27     14.48\n",
       "3  1000_309     1000  2018-12-28      5.76\n",
       "4  1000_380     1000  2018-12-30      4.22"
      ]
     },
     "execution_count": 29,
     "metadata": {},
     "output_type": "execute_result"
    }
   ],
   "source": [
    "# Show sample data containing calls\n",
    "calls.head()\n"
   ]
  },
  {
   "cell_type": "code",
   "execution_count": 30,
   "metadata": {},
   "outputs": [
    {
     "data": {
      "text/html": [
       "<div>\n",
       "<style scoped>\n",
       "    .dataframe tbody tr th:only-of-type {\n",
       "        vertical-align: middle;\n",
       "    }\n",
       "\n",
       "    .dataframe tbody tr th {\n",
       "        vertical-align: top;\n",
       "    }\n",
       "\n",
       "    .dataframe thead th {\n",
       "        text-align: right;\n",
       "    }\n",
       "</style>\n",
       "<table border=\"1\" class=\"dataframe\">\n",
       "  <thead>\n",
       "    <tr style=\"text-align: right;\">\n",
       "      <th></th>\n",
       "      <th>user_id</th>\n",
       "      <th>duration</th>\n",
       "    </tr>\n",
       "  </thead>\n",
       "  <tbody>\n",
       "    <tr>\n",
       "      <th>count</th>\n",
       "      <td>137735.000000</td>\n",
       "      <td>137735.000000</td>\n",
       "    </tr>\n",
       "    <tr>\n",
       "      <th>mean</th>\n",
       "      <td>1247.658046</td>\n",
       "      <td>6.745927</td>\n",
       "    </tr>\n",
       "    <tr>\n",
       "      <th>std</th>\n",
       "      <td>139.416268</td>\n",
       "      <td>5.839241</td>\n",
       "    </tr>\n",
       "    <tr>\n",
       "      <th>min</th>\n",
       "      <td>1000.000000</td>\n",
       "      <td>0.000000</td>\n",
       "    </tr>\n",
       "    <tr>\n",
       "      <th>25%</th>\n",
       "      <td>1128.000000</td>\n",
       "      <td>1.290000</td>\n",
       "    </tr>\n",
       "    <tr>\n",
       "      <th>50%</th>\n",
       "      <td>1247.000000</td>\n",
       "      <td>5.980000</td>\n",
       "    </tr>\n",
       "    <tr>\n",
       "      <th>75%</th>\n",
       "      <td>1365.000000</td>\n",
       "      <td>10.690000</td>\n",
       "    </tr>\n",
       "    <tr>\n",
       "      <th>max</th>\n",
       "      <td>1499.000000</td>\n",
       "      <td>37.600000</td>\n",
       "    </tr>\n",
       "  </tbody>\n",
       "</table>\n",
       "</div>"
      ],
      "text/plain": [
       "             user_id       duration\n",
       "count  137735.000000  137735.000000\n",
       "mean     1247.658046       6.745927\n",
       "std       139.416268       5.839241\n",
       "min      1000.000000       0.000000\n",
       "25%      1128.000000       1.290000\n",
       "50%      1247.000000       5.980000\n",
       "75%      1365.000000      10.690000\n",
       "max      1499.000000      37.600000"
      ]
     },
     "execution_count": 30,
     "metadata": {},
     "output_type": "execute_result"
    }
   ],
   "source": [
    "calls.describe()"
   ]
  },
  {
   "cell_type": "code",
   "execution_count": 31,
   "metadata": {},
   "outputs": [
    {
     "data": {
      "text/plain": [
       "id           0\n",
       "user_id      0\n",
       "call_date    0\n",
       "duration     0\n",
       "dtype: int64"
      ]
     },
     "execution_count": 31,
     "metadata": {},
     "output_type": "execute_result"
    }
   ],
   "source": [
    "calls.isna().sum()"
   ]
  },
  {
   "cell_type": "code",
   "execution_count": 32,
   "metadata": {},
   "outputs": [
    {
     "data": {
      "text/plain": [
       "0"
      ]
     },
     "execution_count": 32,
     "metadata": {},
     "output_type": "execute_result"
    }
   ],
   "source": [
    "calls.duplicated().sum()"
   ]
  },
  {
   "cell_type": "code",
   "execution_count": 33,
   "metadata": {},
   "outputs": [
    {
     "data": {
      "text/plain": [
       "id            object\n",
       "user_id        int64\n",
       "call_date     object\n",
       "duration     float64\n",
       "dtype: object"
      ]
     },
     "execution_count": 33,
     "metadata": {},
     "output_type": "execute_result"
    }
   ],
   "source": [
    "calls.dtypes"
   ]
  },
  {
   "cell_type": "code",
   "execution_count": 34,
   "metadata": {},
   "outputs": [
    {
     "data": {
      "text/plain": [
       "(137735, 4)"
      ]
     },
     "execution_count": 34,
     "metadata": {},
     "output_type": "execute_result"
    }
   ],
   "source": [
    "calls.shape"
   ]
  },
  {
   "cell_type": "markdown",
   "metadata": {},
   "source": [
    "<br>Information related to DataFrame calls. Here is a detailed explanation:\r\n",
    "\r\n",
    "<br>General Information DataFrame calls:\r\n",
    "<br>RangeIndex: This DataFrame has 137,735 entries (rows) and a RangeIndex from 0 to 137,734.\r\n",
    "<br>There are 4 columns in this DataFrame.\r\n",
    "\r\n",
    "    \r\n",
    "<br>Columns Data:\r\n",
    "<br>id: Saves the call ID.\r\n",
    "<br>user_id: Stores the ID of the user who made the call.\r\n",
    "<br>call_date: Stores the call date.\r\n",
    "<br>duration: Stores the call duration in minutes.\r\n",
    "    \r\n",
    "    \r\n",
    "<br>Column Data Type:\r\n",
    "<br>id: Object data type (string), which is appropriate because it contains an ID.\r\n",
    "<br>user_id: Integer data type (int64), which is appropriate because it contains the user ID.\r\n",
    "<br>call_date: Object data type (string), should be changed to datetime data type to facilitate date-based analysis.\r\n",
    "<br>duration: Float data type (float64), which is appropriate because it contains the call duration in minutes.\r\n",
    "\r\n",
    "    \r\n",
    "<br>Description of Numerical Column Statistics:\r\n",
    "<br>user_id: Descriptive statistics for the user_id column.\r\n",
    "<br>duration: Descriptive statistics for the duration column.\r\n",
    "\r\n",
    "    \r\n",
    "<br>Missing Values:\r\n",
    "<br>There are no missing values (NaN) in this DataFrame.\r\n",
    "\r\n",
    "    \r\n",
    "<br>Duplicate Data:\r\n",
    "<br>There is no duplicate data in this DataFrame.\r\n",
    "\r\n",
    "    \r\n",
    "<br>In summary, DataFrame calls look pretty clean and have no missing or duplicate values. However, it would be better if the call_date column was changed to the datetime data type to facilitate date-based analysis."
   ]
  },
  {
   "cell_type": "markdown",
   "metadata": {},
   "source": [
    " "
   ]
  },
  {
   "cell_type": "markdown",
   "metadata": {},
   "source": [
    "<a id='step2.3.1'></a>\n",
    "### **2.3.1 Fixing Data**"
   ]
  },
  {
   "cell_type": "code",
   "execution_count": 35,
   "metadata": {},
   "outputs": [],
   "source": [
    "# Rounds the value up and then converts it to an integer\n",
    "calls['duration'] = calls['duration'].apply(np.ceil).astype('int')\n",
    "\n",
    "# Convert data type 'call_date' to 'datetime64[ns]'\n",
    "calls['call_date'] = pd.to_datetime(calls['call_date'], format='%Y-%m-%d')"
   ]
  },
  {
   "cell_type": "markdown",
   "metadata": {},
   "source": [
    "<br>The code shown is to perform two processes on DataFrame calls: rounding up on the 'duration' column and data type conversion on the 'call_date' column. The following is an explanation of the steps:\n",
    "\n",
    "    \n",
    "<br>Call Duration Rounding Up and Converting to Integer:\n",
    "<br>calls['duration'].apply(np.ceil): Use the apply function to apply the np.ceil (ceil = ceiling) function to the 'duration' column. This function rounds each call duration value up (for example, from 5.2 to 6.0).\n",
    "<br>.astype('int'): Changes the rounded data type to integer data type (int).\n",
    "<br>The goal of this step is to convert the call duration from a float data type (for example, 5.2) to an integer (for example, 6), which is more suitable for representing call duration in minutes.\n",
    "\n",
    "    \n",
    "<br>Column Data Type Conversion 'call_date':\n",
    "<br>calls['call_date'] = pd.to_datetime(calls['call_date'], format='%Y-%m-%d'): Using pd.to_datetime to convert column data type 'call_date' to data type datetime (datetime64[ns]). The format='%Y-%m-%d' parameter is used to determine the appropriate date format for the 'call_date' column.\n",
    "\n",
    "    \n",
    "<br>The goal of this step is to ensure that the 'call_date' column has the datetime data type, which makes it easier to perform date-based analysis and manipulation.\n",
    "\n",
    "    \n",
    "<br>The final result is a DataFrame calls that has undergone two changes: the call duration has been rounded up and changed to an integer data type, and the 'call_date' column has been changed to a datetime data type. These two changes improve the consistency and ease of processing data in a DataFrame."
   ]
  },
  {
   "cell_type": "markdown",
   "metadata": {},
   "source": [
    "<a id='step2.3.2'></a>\n",
    "### **2.3.2 Enriching Data Quality**"
   ]
  },
  {
   "cell_type": "code",
   "execution_count": 36,
   "metadata": {},
   "outputs": [
    {
     "data": {
      "text/plain": [
       "array(['December', 'September', 'October', 'November', 'August', 'July',\n",
       "       'June', 'May', 'March', 'April', 'February', 'January'],\n",
       "      dtype=object)"
      ]
     },
     "execution_count": 36,
     "metadata": {},
     "output_type": "execute_result"
    }
   ],
   "source": [
    "# Extracts the month name from the 'call_date' column and saves it to the 'call_month' column\n",
    "calls['call_month'] = calls['call_date'].dt.month_name()\n",
    "\n",
    "# Returns unique values\n",
    "calls['call_month'].unique()"
   ]
  },
  {
   "cell_type": "markdown",
   "metadata": {},
   "source": [
    "<br>The code shown is to extract the month name from the 'call_date' column and store it in a new column 'call_month'. The following is an explanation of the steps:\n",
    "\n",
    "<br>Extracting Month Names from 'call_date' Column:\n",
    "<br>calls['call_date'].dt.month_name(): Uses .dt.month_name() to retrieve the month name of each date in the 'call_date' column. This function will return the names of the months in text format (e.g., \"January\", \"February\", etc.).\n",
    "\n",
    "    \n",
    "<br>Saving Results to New Column 'call_month':\n",
    "<br>calls['call_month'] = ...: The results of the month name extraction above are stored in a new column 'call_month'.\n",
    "\n",
    "    \n",
    "<br>Displaying Unique Values from Column 'call_month':\n",
    "<br>calls['call_month'].unique(): Uses .unique() to get unique values from the 'call_month' column.\n",
    "\n",
    "    \n",
    "<br>The final result is that we get a unique list of month names that appear in the 'call_date' column, which has been extracted and stored in the 'call_month' column. This allows us to see the different months in which calls were made."
   ]
  },
  {
   "cell_type": "code",
   "execution_count": 37,
   "metadata": {},
   "outputs": [
    {
     "name": "stdout",
     "output_type": "stream",
     "text": [
      "<class 'pandas.core.frame.DataFrame'>\n",
      "RangeIndex: 137735 entries, 0 to 137734\n",
      "Data columns (total 5 columns):\n",
      " #   Column      Non-Null Count   Dtype         \n",
      "---  ------      --------------   -----         \n",
      " 0   id          137735 non-null  object        \n",
      " 1   user_id     137735 non-null  int64         \n",
      " 2   call_date   137735 non-null  datetime64[ns]\n",
      " 3   duration    137735 non-null  int32         \n",
      " 4   call_month  137735 non-null  object        \n",
      "dtypes: datetime64[ns](1), int32(1), int64(1), object(2)\n",
      "memory usage: 4.7+ MB\n"
     ]
    }
   ],
   "source": [
    "# Check information changes\n",
    "calls.info()"
   ]
  },
  {
   "cell_type": "code",
   "execution_count": 38,
   "metadata": {
    "scrolled": true
   },
   "outputs": [
    {
     "data": {
      "text/html": [
       "<div>\n",
       "<style scoped>\n",
       "    .dataframe tbody tr th:only-of-type {\n",
       "        vertical-align: middle;\n",
       "    }\n",
       "\n",
       "    .dataframe tbody tr th {\n",
       "        vertical-align: top;\n",
       "    }\n",
       "\n",
       "    .dataframe thead th {\n",
       "        text-align: right;\n",
       "    }\n",
       "</style>\n",
       "<table border=\"1\" class=\"dataframe\">\n",
       "  <thead>\n",
       "    <tr style=\"text-align: right;\">\n",
       "      <th></th>\n",
       "      <th>id</th>\n",
       "      <th>user_id</th>\n",
       "      <th>call_date</th>\n",
       "      <th>duration</th>\n",
       "      <th>call_month</th>\n",
       "    </tr>\n",
       "  </thead>\n",
       "  <tbody>\n",
       "    <tr>\n",
       "      <th>0</th>\n",
       "      <td>1000_93</td>\n",
       "      <td>1000</td>\n",
       "      <td>2018-12-27</td>\n",
       "      <td>9</td>\n",
       "      <td>December</td>\n",
       "    </tr>\n",
       "    <tr>\n",
       "      <th>1</th>\n",
       "      <td>1000_145</td>\n",
       "      <td>1000</td>\n",
       "      <td>2018-12-27</td>\n",
       "      <td>14</td>\n",
       "      <td>December</td>\n",
       "    </tr>\n",
       "    <tr>\n",
       "      <th>2</th>\n",
       "      <td>1000_247</td>\n",
       "      <td>1000</td>\n",
       "      <td>2018-12-27</td>\n",
       "      <td>15</td>\n",
       "      <td>December</td>\n",
       "    </tr>\n",
       "    <tr>\n",
       "      <th>3</th>\n",
       "      <td>1000_309</td>\n",
       "      <td>1000</td>\n",
       "      <td>2018-12-28</td>\n",
       "      <td>6</td>\n",
       "      <td>December</td>\n",
       "    </tr>\n",
       "    <tr>\n",
       "      <th>4</th>\n",
       "      <td>1000_380</td>\n",
       "      <td>1000</td>\n",
       "      <td>2018-12-30</td>\n",
       "      <td>5</td>\n",
       "      <td>December</td>\n",
       "    </tr>\n",
       "  </tbody>\n",
       "</table>\n",
       "</div>"
      ],
      "text/plain": [
       "         id  user_id  call_date  duration call_month\n",
       "0   1000_93     1000 2018-12-27         9   December\n",
       "1  1000_145     1000 2018-12-27        14   December\n",
       "2  1000_247     1000 2018-12-27        15   December\n",
       "3  1000_309     1000 2018-12-28         6   December\n",
       "4  1000_380     1000 2018-12-30         5   December"
      ]
     },
     "execution_count": 38,
     "metadata": {},
     "output_type": "execute_result"
    }
   ],
   "source": [
    "# Check for data sample changes\n",
    "calls.head()"
   ]
  },
  {
   "cell_type": "markdown",
   "metadata": {},
   "source": [
    "[Back to Content](#back)"
   ]
  },
  {
   "cell_type": "markdown",
   "metadata": {},
   "source": [
    "<a id='step2.4'></a>\n",
    "## **2.4 Message/SMS**"
   ]
  },
  {
   "cell_type": "code",
   "execution_count": 39,
   "metadata": {},
   "outputs": [
    {
     "name": "stdout",
     "output_type": "stream",
     "text": [
      "<class 'pandas.core.frame.DataFrame'>\n",
      "RangeIndex: 76051 entries, 0 to 76050\n",
      "Data columns (total 3 columns):\n",
      " #   Column        Non-Null Count  Dtype \n",
      "---  ------        --------------  ----- \n",
      " 0   id            76051 non-null  object\n",
      " 1   user_id       76051 non-null  int64 \n",
      " 2   message_date  76051 non-null  object\n",
      "dtypes: int64(1), object(2)\n",
      "memory usage: 1.7+ MB\n"
     ]
    }
   ],
   "source": [
    "# Display general information/summary about SMS DataFrame\n",
    "messages.info()"
   ]
  },
  {
   "cell_type": "code",
   "execution_count": 40,
   "metadata": {},
   "outputs": [
    {
     "data": {
      "text/html": [
       "<div>\n",
       "<style scoped>\n",
       "    .dataframe tbody tr th:only-of-type {\n",
       "        vertical-align: middle;\n",
       "    }\n",
       "\n",
       "    .dataframe tbody tr th {\n",
       "        vertical-align: top;\n",
       "    }\n",
       "\n",
       "    .dataframe thead th {\n",
       "        text-align: right;\n",
       "    }\n",
       "</style>\n",
       "<table border=\"1\" class=\"dataframe\">\n",
       "  <thead>\n",
       "    <tr style=\"text-align: right;\">\n",
       "      <th></th>\n",
       "      <th>id</th>\n",
       "      <th>user_id</th>\n",
       "      <th>message_date</th>\n",
       "    </tr>\n",
       "  </thead>\n",
       "  <tbody>\n",
       "    <tr>\n",
       "      <th>0</th>\n",
       "      <td>1000_125</td>\n",
       "      <td>1000</td>\n",
       "      <td>2018-12-27</td>\n",
       "    </tr>\n",
       "    <tr>\n",
       "      <th>1</th>\n",
       "      <td>1000_160</td>\n",
       "      <td>1000</td>\n",
       "      <td>2018-12-31</td>\n",
       "    </tr>\n",
       "    <tr>\n",
       "      <th>2</th>\n",
       "      <td>1000_223</td>\n",
       "      <td>1000</td>\n",
       "      <td>2018-12-31</td>\n",
       "    </tr>\n",
       "    <tr>\n",
       "      <th>3</th>\n",
       "      <td>1000_251</td>\n",
       "      <td>1000</td>\n",
       "      <td>2018-12-27</td>\n",
       "    </tr>\n",
       "    <tr>\n",
       "      <th>4</th>\n",
       "      <td>1000_255</td>\n",
       "      <td>1000</td>\n",
       "      <td>2018-12-26</td>\n",
       "    </tr>\n",
       "  </tbody>\n",
       "</table>\n",
       "</div>"
      ],
      "text/plain": [
       "         id  user_id message_date\n",
       "0  1000_125     1000   2018-12-27\n",
       "1  1000_160     1000   2018-12-31\n",
       "2  1000_223     1000   2018-12-31\n",
       "3  1000_251     1000   2018-12-27\n",
       "4  1000_255     1000   2018-12-26"
      ]
     },
     "execution_count": 40,
     "metadata": {},
     "output_type": "execute_result"
    }
   ],
   "source": [
    "# Show sample data for SMS\n",
    "messages.head()\n"
   ]
  },
  {
   "cell_type": "code",
   "execution_count": 41,
   "metadata": {},
   "outputs": [
    {
     "data": {
      "text/html": [
       "<div>\n",
       "<style scoped>\n",
       "    .dataframe tbody tr th:only-of-type {\n",
       "        vertical-align: middle;\n",
       "    }\n",
       "\n",
       "    .dataframe tbody tr th {\n",
       "        vertical-align: top;\n",
       "    }\n",
       "\n",
       "    .dataframe thead th {\n",
       "        text-align: right;\n",
       "    }\n",
       "</style>\n",
       "<table border=\"1\" class=\"dataframe\">\n",
       "  <thead>\n",
       "    <tr style=\"text-align: right;\">\n",
       "      <th></th>\n",
       "      <th>user_id</th>\n",
       "    </tr>\n",
       "  </thead>\n",
       "  <tbody>\n",
       "    <tr>\n",
       "      <th>count</th>\n",
       "      <td>76051.000000</td>\n",
       "    </tr>\n",
       "    <tr>\n",
       "      <th>mean</th>\n",
       "      <td>1245.972768</td>\n",
       "    </tr>\n",
       "    <tr>\n",
       "      <th>std</th>\n",
       "      <td>139.843635</td>\n",
       "    </tr>\n",
       "    <tr>\n",
       "      <th>min</th>\n",
       "      <td>1000.000000</td>\n",
       "    </tr>\n",
       "    <tr>\n",
       "      <th>25%</th>\n",
       "      <td>1123.000000</td>\n",
       "    </tr>\n",
       "    <tr>\n",
       "      <th>50%</th>\n",
       "      <td>1251.000000</td>\n",
       "    </tr>\n",
       "    <tr>\n",
       "      <th>75%</th>\n",
       "      <td>1362.000000</td>\n",
       "    </tr>\n",
       "    <tr>\n",
       "      <th>max</th>\n",
       "      <td>1497.000000</td>\n",
       "    </tr>\n",
       "  </tbody>\n",
       "</table>\n",
       "</div>"
      ],
      "text/plain": [
       "            user_id\n",
       "count  76051.000000\n",
       "mean    1245.972768\n",
       "std      139.843635\n",
       "min     1000.000000\n",
       "25%     1123.000000\n",
       "50%     1251.000000\n",
       "75%     1362.000000\n",
       "max     1497.000000"
      ]
     },
     "execution_count": 41,
     "metadata": {},
     "output_type": "execute_result"
    }
   ],
   "source": [
    "messages.describe()"
   ]
  },
  {
   "cell_type": "code",
   "execution_count": 42,
   "metadata": {},
   "outputs": [
    {
     "data": {
      "text/plain": [
       "id              0\n",
       "user_id         0\n",
       "message_date    0\n",
       "dtype: int64"
      ]
     },
     "execution_count": 42,
     "metadata": {},
     "output_type": "execute_result"
    }
   ],
   "source": [
    "messages.isna().sum()"
   ]
  },
  {
   "cell_type": "code",
   "execution_count": 43,
   "metadata": {},
   "outputs": [
    {
     "data": {
      "text/plain": [
       "0"
      ]
     },
     "execution_count": 43,
     "metadata": {},
     "output_type": "execute_result"
    }
   ],
   "source": [
    "messages.duplicated().sum()"
   ]
  },
  {
   "cell_type": "code",
   "execution_count": 44,
   "metadata": {},
   "outputs": [
    {
     "data": {
      "text/plain": [
       "id              object\n",
       "user_id          int64\n",
       "message_date    object\n",
       "dtype: object"
      ]
     },
     "execution_count": 44,
     "metadata": {},
     "output_type": "execute_result"
    }
   ],
   "source": [
    "messages.dtypes"
   ]
  },
  {
   "cell_type": "code",
   "execution_count": 45,
   "metadata": {},
   "outputs": [
    {
     "data": {
      "text/plain": [
       "(76051, 3)"
      ]
     },
     "execution_count": 45,
     "metadata": {},
     "output_type": "execute_result"
    }
   ],
   "source": [
    "messages.shape"
   ]
  },
  {
   "cell_type": "markdown",
   "metadata": {},
   "source": [
    "<br>The following is an explanation of DataFrame messages based on the information above:\n",
    "\n",
    "    \n",
    "<br>General Information DataFrame messages:\n",
    "<br>RangeIndex: This DataFrame has 76,051 entries (rows) and a RangeIndex from 0 to 76,050.\n",
    "<br>There are 3 columns in this DataFrame.\n",
    "\n",
    "    \n",
    "<br>Columns Data:\n",
    "<br>id: Stores the message ID.\n",
    "<br>user_id: Stores the ID of the user who sent the message.\n",
    "<br>message_date: Stores the date the message was sent.\n",
    "\n",
    "    \n",
    "<br>Column Data Type:\n",
    "<br>id: Object data type (string), which is appropriate because it contains an ID.\n",
    "<br>user_id: Integer data type (int64), which is appropriate because it contains the user ID.\n",
    "<br>message_date: Object data type (string), should be changed to datetime data type to facilitate date-based analysis.\n",
    "\n",
    "    \n",
    "<br>Description of Numerical Column Statistics:\n",
    "<br>user_id: Descriptive statistics for the user_id column.\n",
    "\n",
    "    \n",
    "<br>Missing Values:\n",
    "<br>There are no missing values (NaN) in this DataFrame.\n",
    "\n",
    "    \n",
    "<br>Duplicate Data:\n",
    "<br>There is no duplicate data in this DataFrame.\n",
    "\n",
    "    \n",
    "<br>In summary, the DataFrame messages look pretty clean and have no missing or duplicate values. However, it would be better if the message_date column was changed to the datetime data type to facilitate date-based analysis."
   ]
  },
  {
   "cell_type": "markdown",
   "metadata": {},
   "source": [
    " "
   ]
  },
  {
   "cell_type": "markdown",
   "metadata": {},
   "source": [
    "<a id='step2.4.1'></a>\n",
    "### **2.4.1 Fixing Data**"
   ]
  },
  {
   "cell_type": "code",
   "execution_count": 46,
   "metadata": {},
   "outputs": [],
   "source": [
    "# Convert message_date data type to 'datetime64[ns]'\n",
    "messages['message_date'] = pd.to_datetime(messages['message_date'], format='%Y-%m-%d')"
   ]
  },
  {
   "cell_type": "markdown",
   "metadata": {},
   "source": [
    "<br>The code shown is to convert the data type of the 'message_date' column in the messages DataFrame to the datetime data type (datetime64[ns]). The following is an explanation of the steps:\n",
    "\n",
    "    \n",
    "<br>Column Data Type Conversion 'message_date':\n",
    "<br>pd.to_datetime(messages['message_date'], format='%Y-%m-%d'): Use pd.to_datetime to convert column data type 'message_date' to datetime data type (datetime64[ns]) . The format='%Y-%m-%d' parameter is used to determine the appropriate date format for the 'message_date' column.\n",
    "\n",
    "    \n",
    "<br>The goal of this step is to ensure that the 'message_date' column has the datetime data type, which makes it easier to perform date-based analysis and manipulation.\n",
    "\n",
    "\n",
    "<br>The final result is a DataFrame messages that has undergone a change in data type in the 'message_date' column, making it possible to perform further operations and analysis involving dates correctly."
   ]
  },
  {
   "cell_type": "markdown",
   "metadata": {},
   "source": [
    "<a id='step2.4.2'></a>\n",
    "### **2.4.2 Enriching Data Quality**"
   ]
  },
  {
   "cell_type": "code",
   "execution_count": 47,
   "metadata": {},
   "outputs": [
    {
     "data": {
      "text/plain": [
       "array(['December', 'November', 'August', 'October', 'September', 'June',\n",
       "       'July', 'May', 'April', 'March', 'February', 'January'],\n",
       "      dtype=object)"
      ]
     },
     "execution_count": 47,
     "metadata": {},
     "output_type": "execute_result"
    }
   ],
   "source": [
    "# Extracts the month name from the 'message_date' column and saves it to the 'message_month' column\n",
    "messages['message_month'] = messages['message_date'].dt.month_name()\n",
    "\n",
    "# Returns unique values\n",
    "messages['message_month'].unique()"
   ]
  },
  {
   "cell_type": "markdown",
   "metadata": {},
   "source": [
    "<br>The code shown is to extract the month name from the 'message_date' column and store it in a new column 'message_month'. The following is an explanation of the steps:\n",
    "\n",
    "    \n",
    "<br>Extracting Month Names from 'message_date' Column:\n",
    "<br>messages['message_date'].dt.month_name(): Uses .dt.month_name() to retrieve the month name of each date in the 'message_date' column. This function will return the names of the months in text format (e.g., \"January\", \"February\", etc.).\n",
    "\n",
    "    \n",
    "<br>Saving Results to New Column 'message_month':\n",
    "<br>messages['message_month'] = ...: The results of the month name extraction above are stored in a new column 'message_month'.\n",
    "\n",
    "    \n",
    "<br>Displaying Unique Values from Column 'message_month':\n",
    "<br>messages['message_month'].unique(): Use .unique() to get unique values from the 'message_month' column.\n",
    "\n",
    "    \n",
    "<br>The end result is that we get a unique list of month names that appear in the 'message_date' column, which has been extracted and stored in the 'message_month' column. This allows us to see the different months in which messages were sent."
   ]
  },
  {
   "cell_type": "code",
   "execution_count": 48,
   "metadata": {},
   "outputs": [
    {
     "name": "stdout",
     "output_type": "stream",
     "text": [
      "<class 'pandas.core.frame.DataFrame'>\n",
      "RangeIndex: 76051 entries, 0 to 76050\n",
      "Data columns (total 4 columns):\n",
      " #   Column         Non-Null Count  Dtype         \n",
      "---  ------         --------------  -----         \n",
      " 0   id             76051 non-null  object        \n",
      " 1   user_id        76051 non-null  int64         \n",
      " 2   message_date   76051 non-null  datetime64[ns]\n",
      " 3   message_month  76051 non-null  object        \n",
      "dtypes: datetime64[ns](1), int64(1), object(2)\n",
      "memory usage: 2.3+ MB\n"
     ]
    }
   ],
   "source": [
    "# Check information changes\n",
    "messages.info()"
   ]
  },
  {
   "cell_type": "code",
   "execution_count": 49,
   "metadata": {},
   "outputs": [
    {
     "data": {
      "text/html": [
       "<div>\n",
       "<style scoped>\n",
       "    .dataframe tbody tr th:only-of-type {\n",
       "        vertical-align: middle;\n",
       "    }\n",
       "\n",
       "    .dataframe tbody tr th {\n",
       "        vertical-align: top;\n",
       "    }\n",
       "\n",
       "    .dataframe thead th {\n",
       "        text-align: right;\n",
       "    }\n",
       "</style>\n",
       "<table border=\"1\" class=\"dataframe\">\n",
       "  <thead>\n",
       "    <tr style=\"text-align: right;\">\n",
       "      <th></th>\n",
       "      <th>id</th>\n",
       "      <th>user_id</th>\n",
       "      <th>message_date</th>\n",
       "      <th>message_month</th>\n",
       "    </tr>\n",
       "  </thead>\n",
       "  <tbody>\n",
       "    <tr>\n",
       "      <th>0</th>\n",
       "      <td>1000_125</td>\n",
       "      <td>1000</td>\n",
       "      <td>2018-12-27</td>\n",
       "      <td>December</td>\n",
       "    </tr>\n",
       "    <tr>\n",
       "      <th>1</th>\n",
       "      <td>1000_160</td>\n",
       "      <td>1000</td>\n",
       "      <td>2018-12-31</td>\n",
       "      <td>December</td>\n",
       "    </tr>\n",
       "    <tr>\n",
       "      <th>2</th>\n",
       "      <td>1000_223</td>\n",
       "      <td>1000</td>\n",
       "      <td>2018-12-31</td>\n",
       "      <td>December</td>\n",
       "    </tr>\n",
       "    <tr>\n",
       "      <th>3</th>\n",
       "      <td>1000_251</td>\n",
       "      <td>1000</td>\n",
       "      <td>2018-12-27</td>\n",
       "      <td>December</td>\n",
       "    </tr>\n",
       "    <tr>\n",
       "      <th>4</th>\n",
       "      <td>1000_255</td>\n",
       "      <td>1000</td>\n",
       "      <td>2018-12-26</td>\n",
       "      <td>December</td>\n",
       "    </tr>\n",
       "  </tbody>\n",
       "</table>\n",
       "</div>"
      ],
      "text/plain": [
       "         id  user_id message_date message_month\n",
       "0  1000_125     1000   2018-12-27      December\n",
       "1  1000_160     1000   2018-12-31      December\n",
       "2  1000_223     1000   2018-12-31      December\n",
       "3  1000_251     1000   2018-12-27      December\n",
       "4  1000_255     1000   2018-12-26      December"
      ]
     },
     "execution_count": 49,
     "metadata": {},
     "output_type": "execute_result"
    }
   ],
   "source": [
    "# Check for data sample changes\n",
    "messages.head()"
   ]
  },
  {
   "cell_type": "markdown",
   "metadata": {},
   "source": [
    "[Back to Content](#back)"
   ]
  },
  {
   "cell_type": "markdown",
   "metadata": {},
   "source": [
    "<a id='step2.5'></a>\n",
    "## **2.5 Internet** "
   ]
  },
  {
   "cell_type": "code",
   "execution_count": 50,
   "metadata": {},
   "outputs": [
    {
     "name": "stdout",
     "output_type": "stream",
     "text": [
      "<class 'pandas.core.frame.DataFrame'>\n",
      "RangeIndex: 104825 entries, 0 to 104824\n",
      "Data columns (total 4 columns):\n",
      " #   Column        Non-Null Count   Dtype  \n",
      "---  ------        --------------   -----  \n",
      " 0   id            104825 non-null  object \n",
      " 1   user_id       104825 non-null  int64  \n",
      " 2   session_date  104825 non-null  object \n",
      " 3   mb_used       104825 non-null  float64\n",
      "dtypes: float64(1), int64(1), object(2)\n",
      "memory usage: 3.2+ MB\n"
     ]
    }
   ],
   "source": [
    "# Show general information/summary about internet DataFrame\n",
    "internet.info()"
   ]
  },
  {
   "cell_type": "code",
   "execution_count": 51,
   "metadata": {},
   "outputs": [
    {
     "data": {
      "text/html": [
       "<div>\n",
       "<style scoped>\n",
       "    .dataframe tbody tr th:only-of-type {\n",
       "        vertical-align: middle;\n",
       "    }\n",
       "\n",
       "    .dataframe tbody tr th {\n",
       "        vertical-align: top;\n",
       "    }\n",
       "\n",
       "    .dataframe thead th {\n",
       "        text-align: right;\n",
       "    }\n",
       "</style>\n",
       "<table border=\"1\" class=\"dataframe\">\n",
       "  <thead>\n",
       "    <tr style=\"text-align: right;\">\n",
       "      <th></th>\n",
       "      <th>id</th>\n",
       "      <th>user_id</th>\n",
       "      <th>session_date</th>\n",
       "      <th>mb_used</th>\n",
       "    </tr>\n",
       "  </thead>\n",
       "  <tbody>\n",
       "    <tr>\n",
       "      <th>0</th>\n",
       "      <td>1000_13</td>\n",
       "      <td>1000</td>\n",
       "      <td>2018-12-29</td>\n",
       "      <td>89.86</td>\n",
       "    </tr>\n",
       "    <tr>\n",
       "      <th>1</th>\n",
       "      <td>1000_204</td>\n",
       "      <td>1000</td>\n",
       "      <td>2018-12-31</td>\n",
       "      <td>0.00</td>\n",
       "    </tr>\n",
       "    <tr>\n",
       "      <th>2</th>\n",
       "      <td>1000_379</td>\n",
       "      <td>1000</td>\n",
       "      <td>2018-12-28</td>\n",
       "      <td>660.40</td>\n",
       "    </tr>\n",
       "    <tr>\n",
       "      <th>3</th>\n",
       "      <td>1000_413</td>\n",
       "      <td>1000</td>\n",
       "      <td>2018-12-26</td>\n",
       "      <td>270.99</td>\n",
       "    </tr>\n",
       "    <tr>\n",
       "      <th>4</th>\n",
       "      <td>1000_442</td>\n",
       "      <td>1000</td>\n",
       "      <td>2018-12-27</td>\n",
       "      <td>880.22</td>\n",
       "    </tr>\n",
       "  </tbody>\n",
       "</table>\n",
       "</div>"
      ],
      "text/plain": [
       "         id  user_id session_date  mb_used\n",
       "0   1000_13     1000   2018-12-29    89.86\n",
       "1  1000_204     1000   2018-12-31     0.00\n",
       "2  1000_379     1000   2018-12-28   660.40\n",
       "3  1000_413     1000   2018-12-26   270.99\n",
       "4  1000_442     1000   2018-12-27   880.22"
      ]
     },
     "execution_count": 51,
     "metadata": {},
     "output_type": "execute_result"
    }
   ],
   "source": [
    "# Show sample data for internet traffic\n",
    "internet.head()"
   ]
  },
  {
   "cell_type": "code",
   "execution_count": 52,
   "metadata": {},
   "outputs": [
    {
     "data": {
      "text/html": [
       "<div>\n",
       "<style scoped>\n",
       "    .dataframe tbody tr th:only-of-type {\n",
       "        vertical-align: middle;\n",
       "    }\n",
       "\n",
       "    .dataframe tbody tr th {\n",
       "        vertical-align: top;\n",
       "    }\n",
       "\n",
       "    .dataframe thead th {\n",
       "        text-align: right;\n",
       "    }\n",
       "</style>\n",
       "<table border=\"1\" class=\"dataframe\">\n",
       "  <thead>\n",
       "    <tr style=\"text-align: right;\">\n",
       "      <th></th>\n",
       "      <th>user_id</th>\n",
       "      <th>mb_used</th>\n",
       "    </tr>\n",
       "  </thead>\n",
       "  <tbody>\n",
       "    <tr>\n",
       "      <th>count</th>\n",
       "      <td>104825.000000</td>\n",
       "      <td>104825.000000</td>\n",
       "    </tr>\n",
       "    <tr>\n",
       "      <th>mean</th>\n",
       "      <td>1242.496361</td>\n",
       "      <td>366.713701</td>\n",
       "    </tr>\n",
       "    <tr>\n",
       "      <th>std</th>\n",
       "      <td>142.053913</td>\n",
       "      <td>277.170542</td>\n",
       "    </tr>\n",
       "    <tr>\n",
       "      <th>min</th>\n",
       "      <td>1000.000000</td>\n",
       "      <td>0.000000</td>\n",
       "    </tr>\n",
       "    <tr>\n",
       "      <th>25%</th>\n",
       "      <td>1122.000000</td>\n",
       "      <td>136.080000</td>\n",
       "    </tr>\n",
       "    <tr>\n",
       "      <th>50%</th>\n",
       "      <td>1236.000000</td>\n",
       "      <td>343.980000</td>\n",
       "    </tr>\n",
       "    <tr>\n",
       "      <th>75%</th>\n",
       "      <td>1367.000000</td>\n",
       "      <td>554.610000</td>\n",
       "    </tr>\n",
       "    <tr>\n",
       "      <th>max</th>\n",
       "      <td>1499.000000</td>\n",
       "      <td>1693.470000</td>\n",
       "    </tr>\n",
       "  </tbody>\n",
       "</table>\n",
       "</div>"
      ],
      "text/plain": [
       "             user_id        mb_used\n",
       "count  104825.000000  104825.000000\n",
       "mean     1242.496361     366.713701\n",
       "std       142.053913     277.170542\n",
       "min      1000.000000       0.000000\n",
       "25%      1122.000000     136.080000\n",
       "50%      1236.000000     343.980000\n",
       "75%      1367.000000     554.610000\n",
       "max      1499.000000    1693.470000"
      ]
     },
     "execution_count": 52,
     "metadata": {},
     "output_type": "execute_result"
    }
   ],
   "source": [
    "internet.describe()"
   ]
  },
  {
   "cell_type": "code",
   "execution_count": 53,
   "metadata": {},
   "outputs": [
    {
     "data": {
      "text/plain": [
       "id              0\n",
       "user_id         0\n",
       "session_date    0\n",
       "mb_used         0\n",
       "dtype: int64"
      ]
     },
     "execution_count": 53,
     "metadata": {},
     "output_type": "execute_result"
    }
   ],
   "source": [
    "internet.isna().sum()"
   ]
  },
  {
   "cell_type": "code",
   "execution_count": 54,
   "metadata": {},
   "outputs": [
    {
     "data": {
      "text/plain": [
       "0"
      ]
     },
     "execution_count": 54,
     "metadata": {},
     "output_type": "execute_result"
    }
   ],
   "source": [
    "internet.duplicated().sum()"
   ]
  },
  {
   "cell_type": "code",
   "execution_count": 55,
   "metadata": {},
   "outputs": [
    {
     "data": {
      "text/plain": [
       "id               object\n",
       "user_id           int64\n",
       "session_date     object\n",
       "mb_used         float64\n",
       "dtype: object"
      ]
     },
     "execution_count": 55,
     "metadata": {},
     "output_type": "execute_result"
    }
   ],
   "source": [
    "internet.dtypes"
   ]
  },
  {
   "cell_type": "code",
   "execution_count": 56,
   "metadata": {},
   "outputs": [
    {
     "data": {
      "text/plain": [
       "(104825, 4)"
      ]
     },
     "execution_count": 56,
     "metadata": {},
     "output_type": "execute_result"
    }
   ],
   "source": [
    "internet.shape"
   ]
  },
  {
   "cell_type": "markdown",
   "metadata": {},
   "source": [
    "<br>The following is an explanation of internet DataFrame based on the information above:\n",
    "\n",
    "    \n",
    "<br>Internet DataFrame General Information:\n",
    "<br>RangeIndex: This DataFrame has 104,825 entries (rows) and a RangeIndex from 0 to 104,824.\n",
    "There are 4 columns in this DataFrame.\n",
    "\n",
    "    \n",
    "<br>Columns Data:\n",
    "<br>id: Stores the internet session ID.\n",
    "<br>user_id: Stores the ID of the user who initiated the internet session.\n",
    "<br>session_date: Stores the date of the internet session.\n",
    "<br>mb_used: Stores internet data usage in megabytes.\n",
    "\n",
    "    \n",
    "<br>Column Data Type:\n",
    "<br>id: Object data type (string), which is appropriate because it contains an ID.\n",
    "<br>user_id: Integer data type (int64), which is appropriate because it contains the user ID.\n",
    "<br>session_date: Object data type (string), should be changed to datetime data type to facilitate date-based analysis.\n",
    "<br>mb_used: Float data type (float64), which is appropriate because it contains internet data usage in megabytes.\n",
    "\n",
    "    \n",
    "<br>Description of Numerical Column Statistics:\n",
    "<br>user_id: Descriptive statistics for the user_id column.\n",
    "<br>mb_used: Descriptive statistics for the mb_used column.\n",
    "\n",
    "    \n",
    "<br>Missing Values:\n",
    "<br>There are no missing values (NaN) in this DataFrame.\n",
    "\n",
    "    \n",
    "<br>Duplicate Data:\n",
    "<br>There is no duplicate data in this DataFrame.\n",
    "\n",
    "    \n",
    "<br>In summary, the internet DataFrame looks pretty clean and has no missing or duplicate values. However, it would be better if the session_date column was changed to the datetime data type to facilitate date-based analysis."
   ]
  },
  {
   "cell_type": "markdown",
   "metadata": {},
   "source": [
    " "
   ]
  },
  {
   "cell_type": "markdown",
   "metadata": {},
   "source": [
    "<a id='step2.5.1'></a>\n",
    "### **2.5.1 Fixing Data**"
   ]
  },
  {
   "cell_type": "code",
   "execution_count": 57,
   "metadata": {},
   "outputs": [],
   "source": [
    "# Convert the value to gigabytes by dividing by 1024\n",
    "internet['mb_used'] = internet['mb_used']/1024\n",
    "\n",
    "# Rounds the value and then converts it to an integer\n",
    "internet['mb_used'] = internet['mb_used'].apply(np.ceil).astype('int')\n",
    "\n",
    "# Rename column 'mb_per_month_included' to 'gb_per_month_included'\n",
    "internet = internet.rename(columns={'mb_used': 'gb_used'})\n",
    "\n",
    "# Convert message_date data type to 'datetime64[ns]'\n",
    "internet['session_date'] = pd.to_datetime(internet['session_date'], format='%Y-%m-%d')"
   ]
  },
  {
   "cell_type": "markdown",
   "metadata": {},
   "source": [
    "<br>The code shown is to perform some transformations on an internet DataFrame. The following is an explanation of the steps:\n",
    "\n",
    "    \n",
    "<br>Convert Data Usage to Gigabytes:\n",
    "<br>internet['mb_used'] = internet['mb_used']/1024: Use this to convert data usage from megabytes to gigabytes by dividing by 1024.\n",
    "\n",
    "    \n",
    "<br>Rounding and Conversion to Integer:\n",
    "<br>internet['mb_used'] = internet['mb_used'].apply(np.ceil).astype('int'): Rounds the data usage value up using the np.ceil function and converts it to an integer data type.\n",
    "\n",
    "    \n",
    "<br>Column Renaming:\n",
    "<br>internet = internet.rename(columns={'mb_used': 'gb_used'}): Renames the column 'mb_used' to 'gb_used', according to the change in data usage from megabytes to gigabytes.\n",
    "\n",
    "    \n",
    "<br>Column Data Type Conversion 'session_date':\n",
    "<br>internet['session_date'] = pd.to_datetime(internet['session_date'], format='%Y-%m-%d'): Using pd.to_datetime to convert column data type 'session_date' to data type datetime (datetime64[ns]). The format='%Y-%m-%d' parameter is used to determine the appropriate date format for the 'session_date' column.\n",
    "\n",
    "    \n",
    "<br>In summary, these steps aim to convert data usage to gigabytes, perform rounding and conversion to integers, rename columns, and convert date column data types to facilitate date-based analysis in an internet DataFrame."
   ]
  },
  {
   "cell_type": "markdown",
   "metadata": {},
   "source": [
    "<a id='step2.5.2'></a>\n",
    "### **2.5.2 Enriching Data Quality**"
   ]
  },
  {
   "cell_type": "code",
   "execution_count": 58,
   "metadata": {},
   "outputs": [
    {
     "data": {
      "text/plain": [
       "array(['December', 'August', 'November', 'October', 'September', 'July',\n",
       "       'June', 'May', 'March', 'April', 'February', 'January'],\n",
       "      dtype=object)"
      ]
     },
     "execution_count": 58,
     "metadata": {},
     "output_type": "execute_result"
    }
   ],
   "source": [
    "# Extracts the month name from the 'session_date' column and saves it to the 'session_month' column\n",
    "internet['session_month'] = internet['session_date'].dt.month_name()\n",
    "\n",
    "# Returns unique values\n",
    "internet['session_month'].unique()"
   ]
  },
  {
   "cell_type": "markdown",
   "metadata": {},
   "source": [
    "<br>The code shown is to extract the month name from the 'session_date' column and store it in a new column 'session_month'. The following is an explanation of the steps:\n",
    "\n",
    "    \n",
    "<br>Extracting Month Names from 'session_date' Column:\n",
    "<br>internet['session_date'].dt.month_name(): Uses .dt.month_name() to retrieve the month name of each date in the 'session_date' column. This function will return the names of the months in text format (e.g., \"January\", \"February\", etc.).\n",
    "\n",
    "    \n",
    "<br>Saving Results to New Column 'session_month':\n",
    "<br>internet['session_month'] = ...: The results of the month name extraction above are stored in a new column 'session_month'.\n",
    "\n",
    "    \n",
    "<br>Displaying Unique Values from Column 'session_month':\n",
    "<br>internet['session_month'].unique(): Use .unique() to get unique values from the 'session_month' column.\n",
    "\n",
    "    \n",
    "<br>The end result is that we get a unique list of month names that appear in the 'session_date' column, which has been extracted and stored in the 'session_month' column. This allows us to see the different months in which internet sessions were conducted."
   ]
  },
  {
   "cell_type": "code",
   "execution_count": 59,
   "metadata": {},
   "outputs": [
    {
     "name": "stdout",
     "output_type": "stream",
     "text": [
      "<class 'pandas.core.frame.DataFrame'>\n",
      "RangeIndex: 104825 entries, 0 to 104824\n",
      "Data columns (total 5 columns):\n",
      " #   Column         Non-Null Count   Dtype         \n",
      "---  ------         --------------   -----         \n",
      " 0   id             104825 non-null  object        \n",
      " 1   user_id        104825 non-null  int64         \n",
      " 2   session_date   104825 non-null  datetime64[ns]\n",
      " 3   gb_used        104825 non-null  int32         \n",
      " 4   session_month  104825 non-null  object        \n",
      "dtypes: datetime64[ns](1), int32(1), int64(1), object(2)\n",
      "memory usage: 3.6+ MB\n"
     ]
    }
   ],
   "source": [
    "# Check information changes\n",
    "internet.info()"
   ]
  },
  {
   "cell_type": "code",
   "execution_count": 60,
   "metadata": {},
   "outputs": [
    {
     "data": {
      "text/html": [
       "<div>\n",
       "<style scoped>\n",
       "    .dataframe tbody tr th:only-of-type {\n",
       "        vertical-align: middle;\n",
       "    }\n",
       "\n",
       "    .dataframe tbody tr th {\n",
       "        vertical-align: top;\n",
       "    }\n",
       "\n",
       "    .dataframe thead th {\n",
       "        text-align: right;\n",
       "    }\n",
       "</style>\n",
       "<table border=\"1\" class=\"dataframe\">\n",
       "  <thead>\n",
       "    <tr style=\"text-align: right;\">\n",
       "      <th></th>\n",
       "      <th>id</th>\n",
       "      <th>user_id</th>\n",
       "      <th>session_date</th>\n",
       "      <th>gb_used</th>\n",
       "      <th>session_month</th>\n",
       "    </tr>\n",
       "  </thead>\n",
       "  <tbody>\n",
       "    <tr>\n",
       "      <th>0</th>\n",
       "      <td>1000_13</td>\n",
       "      <td>1000</td>\n",
       "      <td>2018-12-29</td>\n",
       "      <td>1</td>\n",
       "      <td>December</td>\n",
       "    </tr>\n",
       "    <tr>\n",
       "      <th>1</th>\n",
       "      <td>1000_204</td>\n",
       "      <td>1000</td>\n",
       "      <td>2018-12-31</td>\n",
       "      <td>0</td>\n",
       "      <td>December</td>\n",
       "    </tr>\n",
       "    <tr>\n",
       "      <th>2</th>\n",
       "      <td>1000_379</td>\n",
       "      <td>1000</td>\n",
       "      <td>2018-12-28</td>\n",
       "      <td>1</td>\n",
       "      <td>December</td>\n",
       "    </tr>\n",
       "    <tr>\n",
       "      <th>3</th>\n",
       "      <td>1000_413</td>\n",
       "      <td>1000</td>\n",
       "      <td>2018-12-26</td>\n",
       "      <td>1</td>\n",
       "      <td>December</td>\n",
       "    </tr>\n",
       "    <tr>\n",
       "      <th>4</th>\n",
       "      <td>1000_442</td>\n",
       "      <td>1000</td>\n",
       "      <td>2018-12-27</td>\n",
       "      <td>1</td>\n",
       "      <td>December</td>\n",
       "    </tr>\n",
       "  </tbody>\n",
       "</table>\n",
       "</div>"
      ],
      "text/plain": [
       "         id  user_id session_date  gb_used session_month\n",
       "0   1000_13     1000   2018-12-29        1      December\n",
       "1  1000_204     1000   2018-12-31        0      December\n",
       "2  1000_379     1000   2018-12-28        1      December\n",
       "3  1000_413     1000   2018-12-26        1      December\n",
       "4  1000_442     1000   2018-12-27        1      December"
      ]
     },
     "execution_count": 60,
     "metadata": {},
     "output_type": "execute_result"
    }
   ],
   "source": [
    "# Check for data sample changes\n",
    "internet.head()"
   ]
  },
  {
   "cell_type": "markdown",
   "metadata": {},
   "source": [
    "[Back to Content](#back)"
   ]
  },
  {
   "cell_type": "markdown",
   "metadata": {},
   "source": [
    "<a id='step3'><a>\n",
    "# **Step 3. Process of Analyzing Data**"
   ]
  },
  {
   "cell_type": "markdown",
   "metadata": {},
   "source": [
    "<a id='step3.1'></a>\n",
    "## **3.1 Study the Terms and Conditions Regarding Prepaid Packages**"
   ]
  },
  {
   "cell_type": "code",
   "execution_count": 61,
   "metadata": {},
   "outputs": [
    {
     "data": {
      "text/html": [
       "<div>\n",
       "<style scoped>\n",
       "    .dataframe tbody tr th:only-of-type {\n",
       "        vertical-align: middle;\n",
       "    }\n",
       "\n",
       "    .dataframe tbody tr th {\n",
       "        vertical-align: top;\n",
       "    }\n",
       "\n",
       "    .dataframe thead th {\n",
       "        text-align: right;\n",
       "    }\n",
       "</style>\n",
       "<table border=\"1\" class=\"dataframe\">\n",
       "  <thead>\n",
       "    <tr style=\"text-align: right;\">\n",
       "      <th></th>\n",
       "      <th>messages_included</th>\n",
       "      <th>mb_per_month_included</th>\n",
       "      <th>minutes_included</th>\n",
       "      <th>usd_monthly_pay</th>\n",
       "      <th>usd_per_gb</th>\n",
       "      <th>usd_per_message</th>\n",
       "      <th>usd_per_minute</th>\n",
       "      <th>plan_name</th>\n",
       "      <th>gb_per_month_included</th>\n",
       "    </tr>\n",
       "  </thead>\n",
       "  <tbody>\n",
       "    <tr>\n",
       "      <th>0</th>\n",
       "      <td>50</td>\n",
       "      <td>15360</td>\n",
       "      <td>500</td>\n",
       "      <td>20</td>\n",
       "      <td>10</td>\n",
       "      <td>0.03</td>\n",
       "      <td>0.03</td>\n",
       "      <td>surf</td>\n",
       "      <td>15.0</td>\n",
       "    </tr>\n",
       "    <tr>\n",
       "      <th>1</th>\n",
       "      <td>1000</td>\n",
       "      <td>30720</td>\n",
       "      <td>3000</td>\n",
       "      <td>70</td>\n",
       "      <td>7</td>\n",
       "      <td>0.01</td>\n",
       "      <td>0.01</td>\n",
       "      <td>ultimate</td>\n",
       "      <td>30.0</td>\n",
       "    </tr>\n",
       "  </tbody>\n",
       "</table>\n",
       "</div>"
      ],
      "text/plain": [
       "   messages_included  mb_per_month_included  minutes_included  \\\n",
       "0                 50                  15360               500   \n",
       "1               1000                  30720              3000   \n",
       "\n",
       "   usd_monthly_pay  usd_per_gb  usd_per_message  usd_per_minute plan_name  \\\n",
       "0               20          10             0.03            0.03      surf   \n",
       "1               70           7             0.01            0.01  ultimate   \n",
       "\n",
       "   gb_per_month_included  \n",
       "0                   15.0  \n",
       "1                   30.0  "
      ]
     },
     "execution_count": 61,
     "metadata": {},
     "output_type": "execute_result"
    }
   ],
   "source": [
    "# Display the prepaid plan terms and make sure you understand them\n",
    "plans.head()"
   ]
  },
  {
   "cell_type": "markdown",
   "metadata": {},
   "source": [
    "<a id='step3.2'></a>\n",
    "## **3.2 Aggregating Data per User**"
   ]
  },
  {
   "cell_type": "code",
   "execution_count": 62,
   "metadata": {},
   "outputs": [
    {
     "name": "stdout",
     "output_type": "stream",
     "text": [
      "<class 'pandas.core.frame.DataFrame'>\n",
      "RangeIndex: 500 entries, 0 to 499\n",
      "Data columns (total 5 columns):\n",
      " #   Column      Non-Null Count  Dtype   \n",
      "---  ------      --------------  -----   \n",
      " 0   user_id     500 non-null    int64   \n",
      " 1   first_name  500 non-null    object  \n",
      " 2   last_name   500 non-null    object  \n",
      " 3   city        500 non-null    object  \n",
      " 4   plan        500 non-null    category\n",
      "dtypes: category(1), int64(1), object(3)\n",
      "memory usage: 16.4+ KB\n"
     ]
    }
   ],
   "source": [
    "# Count the number of calls made by each user per month. Save the results.\n",
    "\n",
    "# Create a dataframe as a reference for calculating statistics\n",
    "user_stats = users[['user_id', 'first_name', 'last_name', 'city', 'plan']]\n",
    "\n",
    "# Check information changes\n",
    "user_stats.info()"
   ]
  },
  {
   "cell_type": "code",
   "execution_count": 63,
   "metadata": {},
   "outputs": [
    {
     "data": {
      "text/html": [
       "<div>\n",
       "<style scoped>\n",
       "    .dataframe tbody tr th:only-of-type {\n",
       "        vertical-align: middle;\n",
       "    }\n",
       "\n",
       "    .dataframe tbody tr th {\n",
       "        vertical-align: top;\n",
       "    }\n",
       "\n",
       "    .dataframe thead th {\n",
       "        text-align: right;\n",
       "    }\n",
       "</style>\n",
       "<table border=\"1\" class=\"dataframe\">\n",
       "  <thead>\n",
       "    <tr style=\"text-align: right;\">\n",
       "      <th></th>\n",
       "      <th>user_id</th>\n",
       "      <th>first_name</th>\n",
       "      <th>last_name</th>\n",
       "      <th>city</th>\n",
       "      <th>plan</th>\n",
       "    </tr>\n",
       "  </thead>\n",
       "  <tbody>\n",
       "    <tr>\n",
       "      <th>0</th>\n",
       "      <td>1000</td>\n",
       "      <td>Anamaria</td>\n",
       "      <td>Bauer</td>\n",
       "      <td>Atlanta-Sandy Springs-Roswell, GA MSA</td>\n",
       "      <td>ultimate</td>\n",
       "    </tr>\n",
       "    <tr>\n",
       "      <th>1</th>\n",
       "      <td>1001</td>\n",
       "      <td>Mickey</td>\n",
       "      <td>Wilkerson</td>\n",
       "      <td>Seattle-Tacoma-Bellevue, WA MSA</td>\n",
       "      <td>surf</td>\n",
       "    </tr>\n",
       "    <tr>\n",
       "      <th>2</th>\n",
       "      <td>1002</td>\n",
       "      <td>Carlee</td>\n",
       "      <td>Hoffman</td>\n",
       "      <td>Las Vegas-Henderson-Paradise, NV MSA</td>\n",
       "      <td>surf</td>\n",
       "    </tr>\n",
       "    <tr>\n",
       "      <th>3</th>\n",
       "      <td>1003</td>\n",
       "      <td>Reynaldo</td>\n",
       "      <td>Jenkins</td>\n",
       "      <td>Tulsa, OK MSA</td>\n",
       "      <td>surf</td>\n",
       "    </tr>\n",
       "    <tr>\n",
       "      <th>4</th>\n",
       "      <td>1004</td>\n",
       "      <td>Leonila</td>\n",
       "      <td>Thompson</td>\n",
       "      <td>Seattle-Tacoma-Bellevue, WA MSA</td>\n",
       "      <td>surf</td>\n",
       "    </tr>\n",
       "  </tbody>\n",
       "</table>\n",
       "</div>"
      ],
      "text/plain": [
       "   user_id first_name  last_name                                   city  \\\n",
       "0     1000   Anamaria      Bauer  Atlanta-Sandy Springs-Roswell, GA MSA   \n",
       "1     1001     Mickey  Wilkerson        Seattle-Tacoma-Bellevue, WA MSA   \n",
       "2     1002     Carlee    Hoffman   Las Vegas-Henderson-Paradise, NV MSA   \n",
       "3     1003   Reynaldo    Jenkins                          Tulsa, OK MSA   \n",
       "4     1004    Leonila   Thompson        Seattle-Tacoma-Bellevue, WA MSA   \n",
       "\n",
       "       plan  \n",
       "0  ultimate  \n",
       "1      surf  \n",
       "2      surf  \n",
       "3      surf  \n",
       "4      surf  "
      ]
     },
     "execution_count": 63,
     "metadata": {},
     "output_type": "execute_result"
    }
   ],
   "source": [
    "# Check for data sample changes\n",
    "user_stats.head()"
   ]
  },
  {
   "cell_type": "code",
   "execution_count": 64,
   "metadata": {},
   "outputs": [
    {
     "name": "stdout",
     "output_type": "stream",
     "text": [
      "<class 'pandas.core.frame.DataFrame'>\n",
      "RangeIndex: 2258 entries, 0 to 2257\n",
      "Data columns (total 3 columns):\n",
      " #   Column           Non-Null Count  Dtype \n",
      "---  ------           --------------  ----- \n",
      " 0   user_id          2258 non-null   int64 \n",
      " 1   call_month       2258 non-null   object\n",
      " 2   calls_per_month  2258 non-null   int64 \n",
      "dtypes: int64(2), object(1)\n",
      "memory usage: 53.1+ KB\n"
     ]
    }
   ],
   "source": [
    "# Count the number of calls made by each user per month\n",
    "calls_per_month = calls.groupby(['user_id', 'call_month']).size().reset_index(name='calls_per_month')\n",
    "\n",
    "# Check information changes\n",
    "calls_per_month.info()"
   ]
  },
  {
   "cell_type": "code",
   "execution_count": 65,
   "metadata": {},
   "outputs": [
    {
     "data": {
      "text/html": [
       "<div>\n",
       "<style scoped>\n",
       "    .dataframe tbody tr th:only-of-type {\n",
       "        vertical-align: middle;\n",
       "    }\n",
       "\n",
       "    .dataframe tbody tr th {\n",
       "        vertical-align: top;\n",
       "    }\n",
       "\n",
       "    .dataframe thead th {\n",
       "        text-align: right;\n",
       "    }\n",
       "</style>\n",
       "<table border=\"1\" class=\"dataframe\">\n",
       "  <thead>\n",
       "    <tr style=\"text-align: right;\">\n",
       "      <th></th>\n",
       "      <th>user_id</th>\n",
       "      <th>call_month</th>\n",
       "      <th>calls_per_month</th>\n",
       "    </tr>\n",
       "  </thead>\n",
       "  <tbody>\n",
       "    <tr>\n",
       "      <th>0</th>\n",
       "      <td>1000</td>\n",
       "      <td>December</td>\n",
       "      <td>16</td>\n",
       "    </tr>\n",
       "    <tr>\n",
       "      <th>1</th>\n",
       "      <td>1001</td>\n",
       "      <td>August</td>\n",
       "      <td>27</td>\n",
       "    </tr>\n",
       "    <tr>\n",
       "      <th>2</th>\n",
       "      <td>1001</td>\n",
       "      <td>December</td>\n",
       "      <td>56</td>\n",
       "    </tr>\n",
       "    <tr>\n",
       "      <th>3</th>\n",
       "      <td>1001</td>\n",
       "      <td>November</td>\n",
       "      <td>64</td>\n",
       "    </tr>\n",
       "    <tr>\n",
       "      <th>4</th>\n",
       "      <td>1001</td>\n",
       "      <td>October</td>\n",
       "      <td>65</td>\n",
       "    </tr>\n",
       "  </tbody>\n",
       "</table>\n",
       "</div>"
      ],
      "text/plain": [
       "   user_id call_month  calls_per_month\n",
       "0     1000   December               16\n",
       "1     1001     August               27\n",
       "2     1001   December               56\n",
       "3     1001   November               64\n",
       "4     1001    October               65"
      ]
     },
     "execution_count": 65,
     "metadata": {},
     "output_type": "execute_result"
    }
   ],
   "source": [
    "# Check for data sample changes\n",
    "calls_per_month.head()"
   ]
  },
  {
   "cell_type": "code",
   "execution_count": 66,
   "metadata": {},
   "outputs": [
    {
     "name": "stdout",
     "output_type": "stream",
     "text": [
      "<class 'pandas.core.frame.DataFrame'>\n",
      "RangeIndex: 2277 entries, 0 to 2276\n",
      "Data columns (total 7 columns):\n",
      " #   Column           Non-Null Count  Dtype   \n",
      "---  ------           --------------  -----   \n",
      " 0   user_id          2277 non-null   int64   \n",
      " 1   first_name       2277 non-null   object  \n",
      " 2   last_name        2277 non-null   object  \n",
      " 3   city             2277 non-null   object  \n",
      " 4   plan             2277 non-null   category\n",
      " 5   call_month       2258 non-null   object  \n",
      " 6   calls_per_month  2277 non-null   float64 \n",
      "dtypes: category(1), float64(1), int64(1), object(4)\n",
      "memory usage: 109.2+ KB\n"
     ]
    }
   ],
   "source": [
    "# Combine information on the number of calls per month into user_stats\n",
    "user_stats = user_stats.merge(calls_per_month, on='user_id', how='left')\n",
    "\n",
    "# Replace missing values in the calls_per_month column with 0\n",
    "user_stats['calls_per_month'].fillna(0, inplace=True)\n",
    "\n",
    "# Check information changes\n",
    "user_stats.info()"
   ]
  },
  {
   "cell_type": "code",
   "execution_count": 67,
   "metadata": {},
   "outputs": [
    {
     "data": {
      "text/html": [
       "<div>\n",
       "<style scoped>\n",
       "    .dataframe tbody tr th:only-of-type {\n",
       "        vertical-align: middle;\n",
       "    }\n",
       "\n",
       "    .dataframe tbody tr th {\n",
       "        vertical-align: top;\n",
       "    }\n",
       "\n",
       "    .dataframe thead th {\n",
       "        text-align: right;\n",
       "    }\n",
       "</style>\n",
       "<table border=\"1\" class=\"dataframe\">\n",
       "  <thead>\n",
       "    <tr style=\"text-align: right;\">\n",
       "      <th></th>\n",
       "      <th>user_id</th>\n",
       "      <th>first_name</th>\n",
       "      <th>last_name</th>\n",
       "      <th>city</th>\n",
       "      <th>plan</th>\n",
       "      <th>call_month</th>\n",
       "      <th>calls_per_month</th>\n",
       "    </tr>\n",
       "  </thead>\n",
       "  <tbody>\n",
       "    <tr>\n",
       "      <th>0</th>\n",
       "      <td>1000</td>\n",
       "      <td>Anamaria</td>\n",
       "      <td>Bauer</td>\n",
       "      <td>Atlanta-Sandy Springs-Roswell, GA MSA</td>\n",
       "      <td>ultimate</td>\n",
       "      <td>December</td>\n",
       "      <td>16.0</td>\n",
       "    </tr>\n",
       "    <tr>\n",
       "      <th>1</th>\n",
       "      <td>1001</td>\n",
       "      <td>Mickey</td>\n",
       "      <td>Wilkerson</td>\n",
       "      <td>Seattle-Tacoma-Bellevue, WA MSA</td>\n",
       "      <td>surf</td>\n",
       "      <td>August</td>\n",
       "      <td>27.0</td>\n",
       "    </tr>\n",
       "    <tr>\n",
       "      <th>2</th>\n",
       "      <td>1001</td>\n",
       "      <td>Mickey</td>\n",
       "      <td>Wilkerson</td>\n",
       "      <td>Seattle-Tacoma-Bellevue, WA MSA</td>\n",
       "      <td>surf</td>\n",
       "      <td>December</td>\n",
       "      <td>56.0</td>\n",
       "    </tr>\n",
       "    <tr>\n",
       "      <th>3</th>\n",
       "      <td>1001</td>\n",
       "      <td>Mickey</td>\n",
       "      <td>Wilkerson</td>\n",
       "      <td>Seattle-Tacoma-Bellevue, WA MSA</td>\n",
       "      <td>surf</td>\n",
       "      <td>November</td>\n",
       "      <td>64.0</td>\n",
       "    </tr>\n",
       "    <tr>\n",
       "      <th>4</th>\n",
       "      <td>1001</td>\n",
       "      <td>Mickey</td>\n",
       "      <td>Wilkerson</td>\n",
       "      <td>Seattle-Tacoma-Bellevue, WA MSA</td>\n",
       "      <td>surf</td>\n",
       "      <td>October</td>\n",
       "      <td>65.0</td>\n",
       "    </tr>\n",
       "  </tbody>\n",
       "</table>\n",
       "</div>"
      ],
      "text/plain": [
       "   user_id first_name  last_name                                   city  \\\n",
       "0     1000   Anamaria      Bauer  Atlanta-Sandy Springs-Roswell, GA MSA   \n",
       "1     1001     Mickey  Wilkerson        Seattle-Tacoma-Bellevue, WA MSA   \n",
       "2     1001     Mickey  Wilkerson        Seattle-Tacoma-Bellevue, WA MSA   \n",
       "3     1001     Mickey  Wilkerson        Seattle-Tacoma-Bellevue, WA MSA   \n",
       "4     1001     Mickey  Wilkerson        Seattle-Tacoma-Bellevue, WA MSA   \n",
       "\n",
       "       plan call_month  calls_per_month  \n",
       "0  ultimate   December             16.0  \n",
       "1      surf     August             27.0  \n",
       "2      surf   December             56.0  \n",
       "3      surf   November             64.0  \n",
       "4      surf    October             65.0  "
      ]
     },
     "execution_count": 67,
     "metadata": {},
     "output_type": "execute_result"
    }
   ],
   "source": [
    "# Check for data sample changes\n",
    "user_stats.head()"
   ]
  },
  {
   "cell_type": "code",
   "execution_count": 68,
   "metadata": {},
   "outputs": [],
   "source": [
    "# Calculate the number of minutes spent by each user on calls per month. Save the results."
   ]
  },
  {
   "cell_type": "code",
   "execution_count": 69,
   "metadata": {},
   "outputs": [
    {
     "name": "stdout",
     "output_type": "stream",
     "text": [
      "<class 'pandas.core.frame.DataFrame'>\n",
      "RangeIndex: 2277 entries, 0 to 2276\n",
      "Data columns (total 8 columns):\n",
      " #   Column           Non-Null Count  Dtype   \n",
      "---  ------           --------------  -----   \n",
      " 0   user_id          2277 non-null   int64   \n",
      " 1   first_name       2277 non-null   object  \n",
      " 2   last_name        2277 non-null   object  \n",
      " 3   city             2277 non-null   object  \n",
      " 4   plan             2277 non-null   category\n",
      " 5   call_month       2258 non-null   object  \n",
      " 6   calls_per_month  2277 non-null   float64 \n",
      " 7   call_minutes     2277 non-null   float64 \n",
      "dtypes: category(1), float64(2), int64(1), object(4)\n",
      "memory usage: 127.0+ KB\n"
     ]
    }
   ],
   "source": [
    "# Calculate the number of call minutes spent by each user per month\n",
    "call_minutes_per_month = calls.groupby(['user_id', 'call_month'])['duration'].sum().reset_index()\n",
    "call_minutes_per_month.rename(columns={'duration': 'call_minutes'}, inplace=True)\n",
    "\n",
    "# Combine information on the number of call minutes per month into user_stats\n",
    "user_stats = user_stats.merge(call_minutes_per_month, on=['user_id', 'call_month'], how='left')\n",
    "\n",
    "# Replace missing values in the call_minutes column with 0\n",
    "user_stats['call_minutes'].fillna(0, inplace=True)\n",
    "\n",
    "# Check information changes\n",
    "user_stats.info()"
   ]
  },
  {
   "cell_type": "code",
   "execution_count": 70,
   "metadata": {},
   "outputs": [
    {
     "data": {
      "text/html": [
       "<div>\n",
       "<style scoped>\n",
       "    .dataframe tbody tr th:only-of-type {\n",
       "        vertical-align: middle;\n",
       "    }\n",
       "\n",
       "    .dataframe tbody tr th {\n",
       "        vertical-align: top;\n",
       "    }\n",
       "\n",
       "    .dataframe thead th {\n",
       "        text-align: right;\n",
       "    }\n",
       "</style>\n",
       "<table border=\"1\" class=\"dataframe\">\n",
       "  <thead>\n",
       "    <tr style=\"text-align: right;\">\n",
       "      <th></th>\n",
       "      <th>user_id</th>\n",
       "      <th>first_name</th>\n",
       "      <th>last_name</th>\n",
       "      <th>city</th>\n",
       "      <th>plan</th>\n",
       "      <th>call_month</th>\n",
       "      <th>calls_per_month</th>\n",
       "      <th>call_minutes</th>\n",
       "    </tr>\n",
       "  </thead>\n",
       "  <tbody>\n",
       "    <tr>\n",
       "      <th>0</th>\n",
       "      <td>1000</td>\n",
       "      <td>Anamaria</td>\n",
       "      <td>Bauer</td>\n",
       "      <td>Atlanta-Sandy Springs-Roswell, GA MSA</td>\n",
       "      <td>ultimate</td>\n",
       "      <td>December</td>\n",
       "      <td>16.0</td>\n",
       "      <td>124.0</td>\n",
       "    </tr>\n",
       "    <tr>\n",
       "      <th>1</th>\n",
       "      <td>1001</td>\n",
       "      <td>Mickey</td>\n",
       "      <td>Wilkerson</td>\n",
       "      <td>Seattle-Tacoma-Bellevue, WA MSA</td>\n",
       "      <td>surf</td>\n",
       "      <td>August</td>\n",
       "      <td>27.0</td>\n",
       "      <td>182.0</td>\n",
       "    </tr>\n",
       "    <tr>\n",
       "      <th>2</th>\n",
       "      <td>1001</td>\n",
       "      <td>Mickey</td>\n",
       "      <td>Wilkerson</td>\n",
       "      <td>Seattle-Tacoma-Bellevue, WA MSA</td>\n",
       "      <td>surf</td>\n",
       "      <td>December</td>\n",
       "      <td>56.0</td>\n",
       "      <td>412.0</td>\n",
       "    </tr>\n",
       "    <tr>\n",
       "      <th>3</th>\n",
       "      <td>1001</td>\n",
       "      <td>Mickey</td>\n",
       "      <td>Wilkerson</td>\n",
       "      <td>Seattle-Tacoma-Bellevue, WA MSA</td>\n",
       "      <td>surf</td>\n",
       "      <td>November</td>\n",
       "      <td>64.0</td>\n",
       "      <td>426.0</td>\n",
       "    </tr>\n",
       "    <tr>\n",
       "      <th>4</th>\n",
       "      <td>1001</td>\n",
       "      <td>Mickey</td>\n",
       "      <td>Wilkerson</td>\n",
       "      <td>Seattle-Tacoma-Bellevue, WA MSA</td>\n",
       "      <td>surf</td>\n",
       "      <td>October</td>\n",
       "      <td>65.0</td>\n",
       "      <td>393.0</td>\n",
       "    </tr>\n",
       "  </tbody>\n",
       "</table>\n",
       "</div>"
      ],
      "text/plain": [
       "   user_id first_name  last_name                                   city  \\\n",
       "0     1000   Anamaria      Bauer  Atlanta-Sandy Springs-Roswell, GA MSA   \n",
       "1     1001     Mickey  Wilkerson        Seattle-Tacoma-Bellevue, WA MSA   \n",
       "2     1001     Mickey  Wilkerson        Seattle-Tacoma-Bellevue, WA MSA   \n",
       "3     1001     Mickey  Wilkerson        Seattle-Tacoma-Bellevue, WA MSA   \n",
       "4     1001     Mickey  Wilkerson        Seattle-Tacoma-Bellevue, WA MSA   \n",
       "\n",
       "       plan call_month  calls_per_month  call_minutes  \n",
       "0  ultimate   December             16.0         124.0  \n",
       "1      surf     August             27.0         182.0  \n",
       "2      surf   December             56.0         412.0  \n",
       "3      surf   November             64.0         426.0  \n",
       "4      surf    October             65.0         393.0  "
      ]
     },
     "execution_count": 70,
     "metadata": {},
     "output_type": "execute_result"
    }
   ],
   "source": [
    "# Check for data sample changes\n",
    "user_stats.head()"
   ]
  },
  {
   "cell_type": "code",
   "execution_count": 71,
   "metadata": {},
   "outputs": [],
   "source": [
    "# Count the number of SMS sent by each user per month. Save the results."
   ]
  },
  {
   "cell_type": "code",
   "execution_count": 72,
   "metadata": {},
   "outputs": [
    {
     "name": "stdout",
     "output_type": "stream",
     "text": [
      "<class 'pandas.core.frame.DataFrame'>\n",
      "RangeIndex: 2277 entries, 0 to 2276\n",
      "Data columns (total 10 columns):\n",
      " #   Column           Non-Null Count  Dtype   \n",
      "---  ------           --------------  -----   \n",
      " 0   user_id          2277 non-null   int64   \n",
      " 1   first_name       2277 non-null   object  \n",
      " 2   last_name        2277 non-null   object  \n",
      " 3   city             2277 non-null   object  \n",
      " 4   plan             2277 non-null   category\n",
      " 5   call_month       2258 non-null   object  \n",
      " 6   calls_per_month  2277 non-null   float64 \n",
      " 7   call_minutes     2277 non-null   float64 \n",
      " 8   message_month    1773 non-null   object  \n",
      " 9   sms_per_month    2277 non-null   float64 \n",
      "dtypes: category(1), float64(3), int64(1), object(5)\n",
      "memory usage: 162.6+ KB\n"
     ]
    }
   ],
   "source": [
    "# Count the number of messages sent by each user per month\n",
    "sms_per_month = messages.groupby(['user_id', 'message_month']).size().reset_index(name='sms_per_month')\n",
    "\n",
    "# Combine information on the number of messages per month into user_stats\n",
    "user_stats = user_stats.merge(sms_per_month, left_on=['user_id', 'call_month'], right_on=['user_id', 'message_month'], how='left')\n",
    "\n",
    "# Replace missing values in the sms_per_month column with 0\n",
    "user_stats['sms_per_month'].fillna(0, inplace=True)\n",
    "\n",
    "# Check information changes\n",
    "user_stats.info()"
   ]
  },
  {
   "cell_type": "code",
   "execution_count": 73,
   "metadata": {},
   "outputs": [
    {
     "data": {
      "text/html": [
       "<div>\n",
       "<style scoped>\n",
       "    .dataframe tbody tr th:only-of-type {\n",
       "        vertical-align: middle;\n",
       "    }\n",
       "\n",
       "    .dataframe tbody tr th {\n",
       "        vertical-align: top;\n",
       "    }\n",
       "\n",
       "    .dataframe thead th {\n",
       "        text-align: right;\n",
       "    }\n",
       "</style>\n",
       "<table border=\"1\" class=\"dataframe\">\n",
       "  <thead>\n",
       "    <tr style=\"text-align: right;\">\n",
       "      <th></th>\n",
       "      <th>user_id</th>\n",
       "      <th>first_name</th>\n",
       "      <th>last_name</th>\n",
       "      <th>city</th>\n",
       "      <th>plan</th>\n",
       "      <th>call_month</th>\n",
       "      <th>calls_per_month</th>\n",
       "      <th>call_minutes</th>\n",
       "      <th>message_month</th>\n",
       "      <th>sms_per_month</th>\n",
       "    </tr>\n",
       "  </thead>\n",
       "  <tbody>\n",
       "    <tr>\n",
       "      <th>0</th>\n",
       "      <td>1000</td>\n",
       "      <td>Anamaria</td>\n",
       "      <td>Bauer</td>\n",
       "      <td>Atlanta-Sandy Springs-Roswell, GA MSA</td>\n",
       "      <td>ultimate</td>\n",
       "      <td>December</td>\n",
       "      <td>16.0</td>\n",
       "      <td>124.0</td>\n",
       "      <td>December</td>\n",
       "      <td>11.0</td>\n",
       "    </tr>\n",
       "    <tr>\n",
       "      <th>1</th>\n",
       "      <td>1001</td>\n",
       "      <td>Mickey</td>\n",
       "      <td>Wilkerson</td>\n",
       "      <td>Seattle-Tacoma-Bellevue, WA MSA</td>\n",
       "      <td>surf</td>\n",
       "      <td>August</td>\n",
       "      <td>27.0</td>\n",
       "      <td>182.0</td>\n",
       "      <td>August</td>\n",
       "      <td>30.0</td>\n",
       "    </tr>\n",
       "    <tr>\n",
       "      <th>2</th>\n",
       "      <td>1001</td>\n",
       "      <td>Mickey</td>\n",
       "      <td>Wilkerson</td>\n",
       "      <td>Seattle-Tacoma-Bellevue, WA MSA</td>\n",
       "      <td>surf</td>\n",
       "      <td>December</td>\n",
       "      <td>56.0</td>\n",
       "      <td>412.0</td>\n",
       "      <td>December</td>\n",
       "      <td>44.0</td>\n",
       "    </tr>\n",
       "    <tr>\n",
       "      <th>3</th>\n",
       "      <td>1001</td>\n",
       "      <td>Mickey</td>\n",
       "      <td>Wilkerson</td>\n",
       "      <td>Seattle-Tacoma-Bellevue, WA MSA</td>\n",
       "      <td>surf</td>\n",
       "      <td>November</td>\n",
       "      <td>64.0</td>\n",
       "      <td>426.0</td>\n",
       "      <td>November</td>\n",
       "      <td>36.0</td>\n",
       "    </tr>\n",
       "    <tr>\n",
       "      <th>4</th>\n",
       "      <td>1001</td>\n",
       "      <td>Mickey</td>\n",
       "      <td>Wilkerson</td>\n",
       "      <td>Seattle-Tacoma-Bellevue, WA MSA</td>\n",
       "      <td>surf</td>\n",
       "      <td>October</td>\n",
       "      <td>65.0</td>\n",
       "      <td>393.0</td>\n",
       "      <td>October</td>\n",
       "      <td>53.0</td>\n",
       "    </tr>\n",
       "  </tbody>\n",
       "</table>\n",
       "</div>"
      ],
      "text/plain": [
       "   user_id first_name  last_name                                   city  \\\n",
       "0     1000   Anamaria      Bauer  Atlanta-Sandy Springs-Roswell, GA MSA   \n",
       "1     1001     Mickey  Wilkerson        Seattle-Tacoma-Bellevue, WA MSA   \n",
       "2     1001     Mickey  Wilkerson        Seattle-Tacoma-Bellevue, WA MSA   \n",
       "3     1001     Mickey  Wilkerson        Seattle-Tacoma-Bellevue, WA MSA   \n",
       "4     1001     Mickey  Wilkerson        Seattle-Tacoma-Bellevue, WA MSA   \n",
       "\n",
       "       plan call_month  calls_per_month  call_minutes message_month  \\\n",
       "0  ultimate   December             16.0         124.0      December   \n",
       "1      surf     August             27.0         182.0        August   \n",
       "2      surf   December             56.0         412.0      December   \n",
       "3      surf   November             64.0         426.0      November   \n",
       "4      surf    October             65.0         393.0       October   \n",
       "\n",
       "   sms_per_month  \n",
       "0           11.0  \n",
       "1           30.0  \n",
       "2           44.0  \n",
       "3           36.0  \n",
       "4           53.0  "
      ]
     },
     "execution_count": 73,
     "metadata": {},
     "output_type": "execute_result"
    }
   ],
   "source": [
    "# Check for data sample changes\n",
    "user_stats.head()"
   ]
  },
  {
   "cell_type": "code",
   "execution_count": 74,
   "metadata": {},
   "outputs": [],
   "source": [
    "# Calculate the volume of internet traffic used by each user per month. Save the results."
   ]
  },
  {
   "cell_type": "code",
   "execution_count": 75,
   "metadata": {},
   "outputs": [
    {
     "name": "stdout",
     "output_type": "stream",
     "text": [
      "<class 'pandas.core.frame.DataFrame'>\n",
      "RangeIndex: 2277 entries, 0 to 2276\n",
      "Data columns (total 12 columns):\n",
      " #   Column                 Non-Null Count  Dtype   \n",
      "---  ------                 --------------  -----   \n",
      " 0   user_id                2277 non-null   int64   \n",
      " 1   first_name             2277 non-null   object  \n",
      " 2   last_name              2277 non-null   object  \n",
      " 3   city                   2277 non-null   object  \n",
      " 4   plan                   2277 non-null   category\n",
      " 5   call_month             2258 non-null   object  \n",
      " 6   calls_per_month        2277 non-null   float64 \n",
      " 7   call_minutes           2277 non-null   float64 \n",
      " 8   message_month          1773 non-null   object  \n",
      " 9   sms_per_month          2277 non-null   float64 \n",
      " 10  session_month          2243 non-null   object  \n",
      " 11  internet_gb_per_month  2277 non-null   float64 \n",
      "dtypes: category(1), float64(4), int64(1), object(6)\n",
      "memory usage: 198.2+ KB\n"
     ]
    }
   ],
   "source": [
    "# Calculate the volume of internet traffic used by each user per month\n",
    "internet_traffic_per_month = internet.groupby(['user_id', 'session_month'])['gb_used'].sum().reset_index()\n",
    "internet_traffic_per_month.rename(columns={'gb_used': 'internet_gb_per_month'}, inplace=True)\n",
    "\n",
    "# Combine information on the volume of internet traffic per month into user_stats\n",
    "user_stats = user_stats.merge(internet_traffic_per_month, left_on=['user_id', 'call_month'], right_on=['user_id', 'session_month'], how='left')\n",
    "\n",
    "# Replace missing values in internet_gb_per_month column with 0\n",
    "user_stats['internet_gb_per_month'].fillna(0, inplace=True)\n",
    "\n",
    "# Check information changes\n",
    "user_stats.info()"
   ]
  },
  {
   "cell_type": "code",
   "execution_count": 76,
   "metadata": {},
   "outputs": [
    {
     "data": {
      "text/html": [
       "<div>\n",
       "<style scoped>\n",
       "    .dataframe tbody tr th:only-of-type {\n",
       "        vertical-align: middle;\n",
       "    }\n",
       "\n",
       "    .dataframe tbody tr th {\n",
       "        vertical-align: top;\n",
       "    }\n",
       "\n",
       "    .dataframe thead th {\n",
       "        text-align: right;\n",
       "    }\n",
       "</style>\n",
       "<table border=\"1\" class=\"dataframe\">\n",
       "  <thead>\n",
       "    <tr style=\"text-align: right;\">\n",
       "      <th></th>\n",
       "      <th>user_id</th>\n",
       "      <th>first_name</th>\n",
       "      <th>last_name</th>\n",
       "      <th>city</th>\n",
       "      <th>plan</th>\n",
       "      <th>call_month</th>\n",
       "      <th>calls_per_month</th>\n",
       "      <th>call_minutes</th>\n",
       "      <th>message_month</th>\n",
       "      <th>sms_per_month</th>\n",
       "      <th>session_month</th>\n",
       "      <th>internet_gb_per_month</th>\n",
       "    </tr>\n",
       "  </thead>\n",
       "  <tbody>\n",
       "    <tr>\n",
       "      <th>0</th>\n",
       "      <td>1000</td>\n",
       "      <td>Anamaria</td>\n",
       "      <td>Bauer</td>\n",
       "      <td>Atlanta-Sandy Springs-Roswell, GA MSA</td>\n",
       "      <td>ultimate</td>\n",
       "      <td>December</td>\n",
       "      <td>16.0</td>\n",
       "      <td>124.0</td>\n",
       "      <td>December</td>\n",
       "      <td>11.0</td>\n",
       "      <td>December</td>\n",
       "      <td>4.0</td>\n",
       "    </tr>\n",
       "    <tr>\n",
       "      <th>1</th>\n",
       "      <td>1001</td>\n",
       "      <td>Mickey</td>\n",
       "      <td>Wilkerson</td>\n",
       "      <td>Seattle-Tacoma-Bellevue, WA MSA</td>\n",
       "      <td>surf</td>\n",
       "      <td>August</td>\n",
       "      <td>27.0</td>\n",
       "      <td>182.0</td>\n",
       "      <td>August</td>\n",
       "      <td>30.0</td>\n",
       "      <td>August</td>\n",
       "      <td>21.0</td>\n",
       "    </tr>\n",
       "    <tr>\n",
       "      <th>2</th>\n",
       "      <td>1001</td>\n",
       "      <td>Mickey</td>\n",
       "      <td>Wilkerson</td>\n",
       "      <td>Seattle-Tacoma-Bellevue, WA MSA</td>\n",
       "      <td>surf</td>\n",
       "      <td>December</td>\n",
       "      <td>56.0</td>\n",
       "      <td>412.0</td>\n",
       "      <td>December</td>\n",
       "      <td>44.0</td>\n",
       "      <td>December</td>\n",
       "      <td>55.0</td>\n",
       "    </tr>\n",
       "    <tr>\n",
       "      <th>3</th>\n",
       "      <td>1001</td>\n",
       "      <td>Mickey</td>\n",
       "      <td>Wilkerson</td>\n",
       "      <td>Seattle-Tacoma-Bellevue, WA MSA</td>\n",
       "      <td>surf</td>\n",
       "      <td>November</td>\n",
       "      <td>64.0</td>\n",
       "      <td>426.0</td>\n",
       "      <td>November</td>\n",
       "      <td>36.0</td>\n",
       "      <td>November</td>\n",
       "      <td>49.0</td>\n",
       "    </tr>\n",
       "    <tr>\n",
       "      <th>4</th>\n",
       "      <td>1001</td>\n",
       "      <td>Mickey</td>\n",
       "      <td>Wilkerson</td>\n",
       "      <td>Seattle-Tacoma-Bellevue, WA MSA</td>\n",
       "      <td>surf</td>\n",
       "      <td>October</td>\n",
       "      <td>65.0</td>\n",
       "      <td>393.0</td>\n",
       "      <td>October</td>\n",
       "      <td>53.0</td>\n",
       "      <td>October</td>\n",
       "      <td>50.0</td>\n",
       "    </tr>\n",
       "  </tbody>\n",
       "</table>\n",
       "</div>"
      ],
      "text/plain": [
       "   user_id first_name  last_name                                   city  \\\n",
       "0     1000   Anamaria      Bauer  Atlanta-Sandy Springs-Roswell, GA MSA   \n",
       "1     1001     Mickey  Wilkerson        Seattle-Tacoma-Bellevue, WA MSA   \n",
       "2     1001     Mickey  Wilkerson        Seattle-Tacoma-Bellevue, WA MSA   \n",
       "3     1001     Mickey  Wilkerson        Seattle-Tacoma-Bellevue, WA MSA   \n",
       "4     1001     Mickey  Wilkerson        Seattle-Tacoma-Bellevue, WA MSA   \n",
       "\n",
       "       plan call_month  calls_per_month  call_minutes message_month  \\\n",
       "0  ultimate   December             16.0         124.0      December   \n",
       "1      surf     August             27.0         182.0        August   \n",
       "2      surf   December             56.0         412.0      December   \n",
       "3      surf   November             64.0         426.0      November   \n",
       "4      surf    October             65.0         393.0       October   \n",
       "\n",
       "   sms_per_month session_month  internet_gb_per_month  \n",
       "0           11.0      December                    4.0  \n",
       "1           30.0        August                   21.0  \n",
       "2           44.0      December                   55.0  \n",
       "3           36.0      November                   49.0  \n",
       "4           53.0       October                   50.0  "
      ]
     },
     "execution_count": 76,
     "metadata": {},
     "output_type": "execute_result"
    }
   ],
   "source": [
    "# Check for data sample changes\n",
    "user_stats.head()"
   ]
  },
  {
   "cell_type": "code",
   "execution_count": 77,
   "metadata": {},
   "outputs": [
    {
     "name": "stdout",
     "output_type": "stream",
     "text": [
      "Percentage of empty values in call_month column: 0.83%\n",
      "Percentage of empty values in message_month column: 22.13%\n",
      "Percentage of empty values in session_month column: 1.49%\n"
     ]
    }
   ],
   "source": [
    "# Calculates the percentage of blank values for each column\n",
    "missing_call_month = (user_stats['call_month'].isnull().sum() / len(user_stats)) * 100\n",
    "missing_message_month = (user_stats['message_month'].isnull().sum() / len(user_stats)) * 100\n",
    "missing_session_month = (user_stats['session_month'].isnull().sum() / len(user_stats)) * 100\n",
    "\n",
    "print(f'Percentage of empty values in call_month column: {missing_call_month:.2f}%')\n",
    "print(f'Percentage of empty values in message_month column: {missing_message_month:.2f}%')\n",
    "print(f'Percentage of empty values in session_month column: {missing_session_month:.2f}%')"
   ]
  },
  {
   "cell_type": "markdown",
   "metadata": {},
   "source": [
    "Relevance of Blank Data: Blank data is information that is valid and has meaning. For example, if call_month, message_month or session_month are empty, it could mean that the user did not make calls, send messages or use the internet during that month.\n",
    "    \n",
    "\n",
    "Minimal Impact: The number of blank values in these columns is relatively small (less than 50%) compared to the total number of rows. Therefore, leaving these values blank will not have a significant impact on the overall analysis results."
   ]
  },
  {
   "cell_type": "code",
   "execution_count": 78,
   "metadata": {},
   "outputs": [],
   "source": [
    "# Calculate monthly revenue for each user"
   ]
  },
  {
   "cell_type": "code",
   "execution_count": 79,
   "metadata": {},
   "outputs": [
    {
     "data": {
      "text/html": [
       "<div>\n",
       "<style scoped>\n",
       "    .dataframe tbody tr th:only-of-type {\n",
       "        vertical-align: middle;\n",
       "    }\n",
       "\n",
       "    .dataframe tbody tr th {\n",
       "        vertical-align: top;\n",
       "    }\n",
       "\n",
       "    .dataframe thead th {\n",
       "        text-align: right;\n",
       "    }\n",
       "</style>\n",
       "<table border=\"1\" class=\"dataframe\">\n",
       "  <thead>\n",
       "    <tr style=\"text-align: right;\">\n",
       "      <th></th>\n",
       "      <th>user_id</th>\n",
       "      <th>first_name</th>\n",
       "      <th>last_name</th>\n",
       "      <th>city</th>\n",
       "      <th>plan</th>\n",
       "      <th>call_month</th>\n",
       "      <th>calls_per_month</th>\n",
       "      <th>call_minutes</th>\n",
       "      <th>message_month</th>\n",
       "      <th>sms_per_month</th>\n",
       "      <th>session_month</th>\n",
       "      <th>internet_gb_per_month</th>\n",
       "      <th>usd_monthly_pay</th>\n",
       "    </tr>\n",
       "  </thead>\n",
       "  <tbody>\n",
       "    <tr>\n",
       "      <th>0</th>\n",
       "      <td>1000</td>\n",
       "      <td>Anamaria</td>\n",
       "      <td>Bauer</td>\n",
       "      <td>Atlanta-Sandy Springs-Roswell, GA MSA</td>\n",
       "      <td>ultimate</td>\n",
       "      <td>December</td>\n",
       "      <td>16.0</td>\n",
       "      <td>124.0</td>\n",
       "      <td>December</td>\n",
       "      <td>11.0</td>\n",
       "      <td>December</td>\n",
       "      <td>4.0</td>\n",
       "      <td>70</td>\n",
       "    </tr>\n",
       "    <tr>\n",
       "      <th>1</th>\n",
       "      <td>1001</td>\n",
       "      <td>Mickey</td>\n",
       "      <td>Wilkerson</td>\n",
       "      <td>Seattle-Tacoma-Bellevue, WA MSA</td>\n",
       "      <td>surf</td>\n",
       "      <td>August</td>\n",
       "      <td>27.0</td>\n",
       "      <td>182.0</td>\n",
       "      <td>August</td>\n",
       "      <td>30.0</td>\n",
       "      <td>August</td>\n",
       "      <td>21.0</td>\n",
       "      <td>20</td>\n",
       "    </tr>\n",
       "    <tr>\n",
       "      <th>2</th>\n",
       "      <td>1001</td>\n",
       "      <td>Mickey</td>\n",
       "      <td>Wilkerson</td>\n",
       "      <td>Seattle-Tacoma-Bellevue, WA MSA</td>\n",
       "      <td>surf</td>\n",
       "      <td>December</td>\n",
       "      <td>56.0</td>\n",
       "      <td>412.0</td>\n",
       "      <td>December</td>\n",
       "      <td>44.0</td>\n",
       "      <td>December</td>\n",
       "      <td>55.0</td>\n",
       "      <td>20</td>\n",
       "    </tr>\n",
       "    <tr>\n",
       "      <th>3</th>\n",
       "      <td>1001</td>\n",
       "      <td>Mickey</td>\n",
       "      <td>Wilkerson</td>\n",
       "      <td>Seattle-Tacoma-Bellevue, WA MSA</td>\n",
       "      <td>surf</td>\n",
       "      <td>November</td>\n",
       "      <td>64.0</td>\n",
       "      <td>426.0</td>\n",
       "      <td>November</td>\n",
       "      <td>36.0</td>\n",
       "      <td>November</td>\n",
       "      <td>49.0</td>\n",
       "      <td>20</td>\n",
       "    </tr>\n",
       "    <tr>\n",
       "      <th>4</th>\n",
       "      <td>1001</td>\n",
       "      <td>Mickey</td>\n",
       "      <td>Wilkerson</td>\n",
       "      <td>Seattle-Tacoma-Bellevue, WA MSA</td>\n",
       "      <td>surf</td>\n",
       "      <td>October</td>\n",
       "      <td>65.0</td>\n",
       "      <td>393.0</td>\n",
       "      <td>October</td>\n",
       "      <td>53.0</td>\n",
       "      <td>October</td>\n",
       "      <td>50.0</td>\n",
       "      <td>20</td>\n",
       "    </tr>\n",
       "  </tbody>\n",
       "</table>\n",
       "</div>"
      ],
      "text/plain": [
       "   user_id first_name  last_name                                   city  \\\n",
       "0     1000   Anamaria      Bauer  Atlanta-Sandy Springs-Roswell, GA MSA   \n",
       "1     1001     Mickey  Wilkerson        Seattle-Tacoma-Bellevue, WA MSA   \n",
       "2     1001     Mickey  Wilkerson        Seattle-Tacoma-Bellevue, WA MSA   \n",
       "3     1001     Mickey  Wilkerson        Seattle-Tacoma-Bellevue, WA MSA   \n",
       "4     1001     Mickey  Wilkerson        Seattle-Tacoma-Bellevue, WA MSA   \n",
       "\n",
       "       plan call_month  calls_per_month  call_minutes message_month  \\\n",
       "0  ultimate   December             16.0         124.0      December   \n",
       "1      surf     August             27.0         182.0        August   \n",
       "2      surf   December             56.0         412.0      December   \n",
       "3      surf   November             64.0         426.0      November   \n",
       "4      surf    October             65.0         393.0       October   \n",
       "\n",
       "   sms_per_month session_month  internet_gb_per_month  usd_monthly_pay  \n",
       "0           11.0      December                    4.0               70  \n",
       "1           30.0        August                   21.0               20  \n",
       "2           44.0      December                   55.0               20  \n",
       "3           36.0      November                   49.0               20  \n",
       "4           53.0       October                   50.0               20  "
      ]
     },
     "execution_count": 79,
     "metadata": {},
     "output_type": "execute_result"
    }
   ],
   "source": [
    "# Combine user_stats with plans based on 'plan_name' to get plan details for each user\n",
    "user_stats = user_stats.merge(plans[['plan_name', 'usd_monthly_pay']], left_on='plan', right_on='plan_name', how='left')\n",
    "\n",
    "# Removed redundant 'plan_name' column\n",
    "user_stats.drop('plan_name', axis=1, inplace=True)\n",
    "\n",
    "# Returns the updated user_stats DataFrame\n",
    "user_stats.head()"
   ]
  },
  {
   "cell_type": "code",
   "execution_count": 80,
   "metadata": {},
   "outputs": [
    {
     "data": {
      "text/html": [
       "<div>\n",
       "<style scoped>\n",
       "    .dataframe tbody tr th:only-of-type {\n",
       "        vertical-align: middle;\n",
       "    }\n",
       "\n",
       "    .dataframe tbody tr th {\n",
       "        vertical-align: top;\n",
       "    }\n",
       "\n",
       "    .dataframe thead th {\n",
       "        text-align: right;\n",
       "    }\n",
       "</style>\n",
       "<table border=\"1\" class=\"dataframe\">\n",
       "  <thead>\n",
       "    <tr style=\"text-align: right;\">\n",
       "      <th></th>\n",
       "      <th>user_id</th>\n",
       "      <th>first_name</th>\n",
       "      <th>last_name</th>\n",
       "      <th>city</th>\n",
       "      <th>plan</th>\n",
       "      <th>call_month</th>\n",
       "      <th>calls_per_month</th>\n",
       "      <th>call_minutes</th>\n",
       "      <th>message_month</th>\n",
       "      <th>sms_per_month</th>\n",
       "      <th>session_month</th>\n",
       "      <th>internet_gb_per_month</th>\n",
       "      <th>usd_monthly_pay</th>\n",
       "      <th>additional_cost_total</th>\n",
       "    </tr>\n",
       "  </thead>\n",
       "  <tbody>\n",
       "    <tr>\n",
       "      <th>0</th>\n",
       "      <td>1000</td>\n",
       "      <td>Anamaria</td>\n",
       "      <td>Bauer</td>\n",
       "      <td>Atlanta-Sandy Springs-Roswell, GA MSA</td>\n",
       "      <td>ultimate</td>\n",
       "      <td>December</td>\n",
       "      <td>16.0</td>\n",
       "      <td>124.0</td>\n",
       "      <td>December</td>\n",
       "      <td>11.0</td>\n",
       "      <td>December</td>\n",
       "      <td>4.0</td>\n",
       "      <td>70</td>\n",
       "      <td>0.00</td>\n",
       "    </tr>\n",
       "    <tr>\n",
       "      <th>1</th>\n",
       "      <td>1001</td>\n",
       "      <td>Mickey</td>\n",
       "      <td>Wilkerson</td>\n",
       "      <td>Seattle-Tacoma-Bellevue, WA MSA</td>\n",
       "      <td>surf</td>\n",
       "      <td>August</td>\n",
       "      <td>27.0</td>\n",
       "      <td>182.0</td>\n",
       "      <td>August</td>\n",
       "      <td>30.0</td>\n",
       "      <td>August</td>\n",
       "      <td>21.0</td>\n",
       "      <td>20</td>\n",
       "      <td>60.00</td>\n",
       "    </tr>\n",
       "    <tr>\n",
       "      <th>2</th>\n",
       "      <td>1001</td>\n",
       "      <td>Mickey</td>\n",
       "      <td>Wilkerson</td>\n",
       "      <td>Seattle-Tacoma-Bellevue, WA MSA</td>\n",
       "      <td>surf</td>\n",
       "      <td>December</td>\n",
       "      <td>56.0</td>\n",
       "      <td>412.0</td>\n",
       "      <td>December</td>\n",
       "      <td>44.0</td>\n",
       "      <td>December</td>\n",
       "      <td>55.0</td>\n",
       "      <td>20</td>\n",
       "      <td>400.00</td>\n",
       "    </tr>\n",
       "    <tr>\n",
       "      <th>3</th>\n",
       "      <td>1001</td>\n",
       "      <td>Mickey</td>\n",
       "      <td>Wilkerson</td>\n",
       "      <td>Seattle-Tacoma-Bellevue, WA MSA</td>\n",
       "      <td>surf</td>\n",
       "      <td>November</td>\n",
       "      <td>64.0</td>\n",
       "      <td>426.0</td>\n",
       "      <td>November</td>\n",
       "      <td>36.0</td>\n",
       "      <td>November</td>\n",
       "      <td>49.0</td>\n",
       "      <td>20</td>\n",
       "      <td>340.00</td>\n",
       "    </tr>\n",
       "    <tr>\n",
       "      <th>4</th>\n",
       "      <td>1001</td>\n",
       "      <td>Mickey</td>\n",
       "      <td>Wilkerson</td>\n",
       "      <td>Seattle-Tacoma-Bellevue, WA MSA</td>\n",
       "      <td>surf</td>\n",
       "      <td>October</td>\n",
       "      <td>65.0</td>\n",
       "      <td>393.0</td>\n",
       "      <td>October</td>\n",
       "      <td>53.0</td>\n",
       "      <td>October</td>\n",
       "      <td>50.0</td>\n",
       "      <td>20</td>\n",
       "      <td>350.09</td>\n",
       "    </tr>\n",
       "  </tbody>\n",
       "</table>\n",
       "</div>"
      ],
      "text/plain": [
       "   user_id first_name  last_name                                   city  \\\n",
       "0     1000   Anamaria      Bauer  Atlanta-Sandy Springs-Roswell, GA MSA   \n",
       "1     1001     Mickey  Wilkerson        Seattle-Tacoma-Bellevue, WA MSA   \n",
       "2     1001     Mickey  Wilkerson        Seattle-Tacoma-Bellevue, WA MSA   \n",
       "3     1001     Mickey  Wilkerson        Seattle-Tacoma-Bellevue, WA MSA   \n",
       "4     1001     Mickey  Wilkerson        Seattle-Tacoma-Bellevue, WA MSA   \n",
       "\n",
       "       plan call_month  calls_per_month  call_minutes message_month  \\\n",
       "0  ultimate   December             16.0         124.0      December   \n",
       "1      surf     August             27.0         182.0        August   \n",
       "2      surf   December             56.0         412.0      December   \n",
       "3      surf   November             64.0         426.0      November   \n",
       "4      surf    October             65.0         393.0       October   \n",
       "\n",
       "   sms_per_month session_month  internet_gb_per_month  usd_monthly_pay  \\\n",
       "0           11.0      December                    4.0               70   \n",
       "1           30.0        August                   21.0               20   \n",
       "2           44.0      December                   55.0               20   \n",
       "3           36.0      November                   49.0               20   \n",
       "4           53.0       October                   50.0               20   \n",
       "\n",
       "   additional_cost_total  \n",
       "0                   0.00  \n",
       "1                  60.00  \n",
       "2                 400.00  \n",
       "3                 340.00  \n",
       "4                 350.09  "
      ]
     },
     "execution_count": 80,
     "metadata": {},
     "output_type": "execute_result"
    }
   ],
   "source": [
    "def calculate_additional_cost(row):\n",
    "     if row['plan'] == 'surf':\n",
    "         additional_minutes_charge = max(0, row['call_minutes'] - 500) * 0.03\n",
    "         additional_messages_charge = max(0, row['sms_per_month'] - 50) * 0.03\n",
    "         additional_data_charge = max(0, row['internet_gb_per_month'] - 15) * 10\n",
    "     elif row['plan'] == 'ultimate':\n",
    "         additional_minutes_charge = max(0, row['call_minutes'] - 3000) * 0.01\n",
    "         additional_messages_charge = max(0, row['sms_per_month'] - 1000) * 0.01\n",
    "         additional_data_charge = max(0, row['internet_gb_per_month'] - 30) * 7\n",
    "     else:\n",
    "         additional_minutes_charge = 0\n",
    "         additional_messages_charge = 0\n",
    "         additional_data_charge = 0\n",
    "    \n",
    "     total_additional_charge = additional_minutes_charge + additional_messages_charge + additional_data_charge\n",
    "     return max(0, total_additional_charge)\n",
    "\n",
    "# Use the function to calculate additional costs\n",
    "user_stats['additional_cost_total'] = user_stats.apply(calculate_additional_cost, axis=1)\n",
    "\n",
    "# Returns the updated user_stats DataFrame\n",
    "user_stats.head()"
   ]
  },
  {
   "cell_type": "code",
   "execution_count": 81,
   "metadata": {},
   "outputs": [
    {
     "data": {
      "text/html": [
       "<div>\n",
       "<style scoped>\n",
       "    .dataframe tbody tr th:only-of-type {\n",
       "        vertical-align: middle;\n",
       "    }\n",
       "\n",
       "    .dataframe tbody tr th {\n",
       "        vertical-align: top;\n",
       "    }\n",
       "\n",
       "    .dataframe thead th {\n",
       "        text-align: right;\n",
       "    }\n",
       "</style>\n",
       "<table border=\"1\" class=\"dataframe\">\n",
       "  <thead>\n",
       "    <tr style=\"text-align: right;\">\n",
       "      <th></th>\n",
       "      <th>user_id</th>\n",
       "      <th>first_name</th>\n",
       "      <th>last_name</th>\n",
       "      <th>city</th>\n",
       "      <th>plan</th>\n",
       "      <th>call_month</th>\n",
       "      <th>calls_per_month</th>\n",
       "      <th>call_minutes</th>\n",
       "      <th>message_month</th>\n",
       "      <th>sms_per_month</th>\n",
       "      <th>session_month</th>\n",
       "      <th>internet_gb_per_month</th>\n",
       "      <th>usd_monthly_pay</th>\n",
       "      <th>additional_cost_total</th>\n",
       "      <th>monthly_revenue</th>\n",
       "    </tr>\n",
       "  </thead>\n",
       "  <tbody>\n",
       "    <tr>\n",
       "      <th>0</th>\n",
       "      <td>1000</td>\n",
       "      <td>Anamaria</td>\n",
       "      <td>Bauer</td>\n",
       "      <td>Atlanta-Sandy Springs-Roswell, GA MSA</td>\n",
       "      <td>ultimate</td>\n",
       "      <td>December</td>\n",
       "      <td>16.0</td>\n",
       "      <td>124.0</td>\n",
       "      <td>December</td>\n",
       "      <td>11.0</td>\n",
       "      <td>December</td>\n",
       "      <td>4.0</td>\n",
       "      <td>70</td>\n",
       "      <td>0.00</td>\n",
       "      <td>70.00</td>\n",
       "    </tr>\n",
       "    <tr>\n",
       "      <th>1</th>\n",
       "      <td>1001</td>\n",
       "      <td>Mickey</td>\n",
       "      <td>Wilkerson</td>\n",
       "      <td>Seattle-Tacoma-Bellevue, WA MSA</td>\n",
       "      <td>surf</td>\n",
       "      <td>August</td>\n",
       "      <td>27.0</td>\n",
       "      <td>182.0</td>\n",
       "      <td>August</td>\n",
       "      <td>30.0</td>\n",
       "      <td>August</td>\n",
       "      <td>21.0</td>\n",
       "      <td>20</td>\n",
       "      <td>60.00</td>\n",
       "      <td>80.00</td>\n",
       "    </tr>\n",
       "    <tr>\n",
       "      <th>2</th>\n",
       "      <td>1001</td>\n",
       "      <td>Mickey</td>\n",
       "      <td>Wilkerson</td>\n",
       "      <td>Seattle-Tacoma-Bellevue, WA MSA</td>\n",
       "      <td>surf</td>\n",
       "      <td>December</td>\n",
       "      <td>56.0</td>\n",
       "      <td>412.0</td>\n",
       "      <td>December</td>\n",
       "      <td>44.0</td>\n",
       "      <td>December</td>\n",
       "      <td>55.0</td>\n",
       "      <td>20</td>\n",
       "      <td>400.00</td>\n",
       "      <td>420.00</td>\n",
       "    </tr>\n",
       "    <tr>\n",
       "      <th>3</th>\n",
       "      <td>1001</td>\n",
       "      <td>Mickey</td>\n",
       "      <td>Wilkerson</td>\n",
       "      <td>Seattle-Tacoma-Bellevue, WA MSA</td>\n",
       "      <td>surf</td>\n",
       "      <td>November</td>\n",
       "      <td>64.0</td>\n",
       "      <td>426.0</td>\n",
       "      <td>November</td>\n",
       "      <td>36.0</td>\n",
       "      <td>November</td>\n",
       "      <td>49.0</td>\n",
       "      <td>20</td>\n",
       "      <td>340.00</td>\n",
       "      <td>360.00</td>\n",
       "    </tr>\n",
       "    <tr>\n",
       "      <th>4</th>\n",
       "      <td>1001</td>\n",
       "      <td>Mickey</td>\n",
       "      <td>Wilkerson</td>\n",
       "      <td>Seattle-Tacoma-Bellevue, WA MSA</td>\n",
       "      <td>surf</td>\n",
       "      <td>October</td>\n",
       "      <td>65.0</td>\n",
       "      <td>393.0</td>\n",
       "      <td>October</td>\n",
       "      <td>53.0</td>\n",
       "      <td>October</td>\n",
       "      <td>50.0</td>\n",
       "      <td>20</td>\n",
       "      <td>350.09</td>\n",
       "      <td>370.09</td>\n",
       "    </tr>\n",
       "  </tbody>\n",
       "</table>\n",
       "</div>"
      ],
      "text/plain": [
       "   user_id first_name  last_name                                   city  \\\n",
       "0     1000   Anamaria      Bauer  Atlanta-Sandy Springs-Roswell, GA MSA   \n",
       "1     1001     Mickey  Wilkerson        Seattle-Tacoma-Bellevue, WA MSA   \n",
       "2     1001     Mickey  Wilkerson        Seattle-Tacoma-Bellevue, WA MSA   \n",
       "3     1001     Mickey  Wilkerson        Seattle-Tacoma-Bellevue, WA MSA   \n",
       "4     1001     Mickey  Wilkerson        Seattle-Tacoma-Bellevue, WA MSA   \n",
       "\n",
       "       plan call_month  calls_per_month  call_minutes message_month  \\\n",
       "0  ultimate   December             16.0         124.0      December   \n",
       "1      surf     August             27.0         182.0        August   \n",
       "2      surf   December             56.0         412.0      December   \n",
       "3      surf   November             64.0         426.0      November   \n",
       "4      surf    October             65.0         393.0       October   \n",
       "\n",
       "   sms_per_month session_month  internet_gb_per_month  usd_monthly_pay  \\\n",
       "0           11.0      December                    4.0               70   \n",
       "1           30.0        August                   21.0               20   \n",
       "2           44.0      December                   55.0               20   \n",
       "3           36.0      November                   49.0               20   \n",
       "4           53.0       October                   50.0               20   \n",
       "\n",
       "   additional_cost_total  monthly_revenue  \n",
       "0                   0.00            70.00  \n",
       "1                  60.00            80.00  \n",
       "2                 400.00           420.00  \n",
       "3                 340.00           360.00  \n",
       "4                 350.09           370.09  "
      ]
     },
     "execution_count": 81,
     "metadata": {},
     "output_type": "execute_result"
    }
   ],
   "source": [
    "# Added 'monthly_revenue' column with the formula usd_monthly_pay + total_additional_cost\n",
    "user_stats['monthly_revenue'] = user_stats['usd_monthly_pay'] + user_stats['additional_cost_total']\n",
    "\n",
    "# Returns the updated user_stats DataFrame\n",
    "user_stats.head()"
   ]
  },
  {
   "cell_type": "code",
   "execution_count": 82,
   "metadata": {},
   "outputs": [
    {
     "name": "stdout",
     "output_type": "stream",
     "text": [
      "Total USD Monthly Pay:\n",
      "plan\n",
      "surf        31160\n",
      "ultimate    50330\n",
      "Name: usd_monthly_pay, dtype: int64\n",
      "\n",
      "Total Additional Cost:\n",
      "plan\n",
      "surf        405353.92\n",
      "ultimate     69174.00\n",
      "Name: additional_cost_total, dtype: float64\n"
     ]
    }
   ],
   "source": [
    "# Group by package type and calculate total usd_monthly_pay and total_additional_fee\n",
    "total_usd_monthly_pay = user_stats.groupby('plan')['usd_monthly_pay'].sum()\n",
    "total_additional_cost = user_stats.groupby('plan')['additional_cost_total'].sum()\n",
    "\n",
    "print(\"Total USD Monthly Pay:\")\n",
    "print(total_usd_monthly_pay)\n",
    "\n",
    "print(\"\\nTotal Additional Cost:\")\n",
    "print(total_additional_cost)"
   ]
  },
  {
   "cell_type": "markdown",
   "metadata": {},
   "source": [
    "[Back to Content](#back)"
   ]
  },
  {
   "cell_type": "markdown",
   "metadata": {},
   "source": [
    "<a id='step3.3'></a>\n",
    "## **3.3 Studying User Behavior**"
   ]
  },
  {
   "cell_type": "markdown",
   "metadata": {},
   "source": [
    "<a id='step3.3.1'></a>\n",
    "### **3.3.1 Call**"
   ]
  },
  {
   "cell_type": "code",
   "execution_count": 83,
   "metadata": {},
   "outputs": [],
   "source": [
    "# Compare the average call duration of each package per month. Make a bar chart to visualize it."
   ]
  },
  {
   "cell_type": "code",
   "execution_count": 84,
   "metadata": {},
   "outputs": [
    {
     "data": {
      "image/png": "[encoded data removed]",
      "text/plain": [
       "<Figure size 640x480 with 1 Axes>"
      ]
     },
     "metadata": {},
     "output_type": "display_data"
    }
   ],
   "source": [
    "# Separate data for each packet\n",
    "surf_data = user_stats[user_stats['plan'] == 'surf']\n",
    "ultimate_data = user_stats[user_stats['plan'] == 'ultimate']\n",
    "\n",
    "# Calculate the average call duration per month for each plan\n",
    "avg_call_duration_surf = surf_data['call_minutes'].mean()\n",
    "avg_call_duration_ultimate = ultimate_data['call_minutes'].mean()\n",
    "\n",
    "# List of package names\n",
    "packages = ['surf', 'ultimate']\n",
    "\n",
    "# List of average call duration per month\n",
    "avg_call_durations = [avg_call_duration_surf, avg_call_duration_ultimate]\n",
    "\n",
    "# Create a bar chart\n",
    "plt.bar(packages, avg_call_durations, color=['blue', 'green'])\n",
    "plt.xlabel('Package')\n",
    "plt.ylabel('Average Calls per Month')\n",
    "plt.title('Average Calls per Month per Package')\n",
    "\n",
    "# Set the maximum limit of the y-axis\n",
    "plt.ylim(0, 500)\n",
    "\n",
    "# Add a label with the average value above the bar\n",
    "for i in range(len(packages)):\n",
    "     plt.text(i, avg_call_durations[i] + 20, f'{avg_call_durations[i]:.2f}', ha='center')\n",
    "\n",
    "plt.show()"
   ]
  },
  {
   "cell_type": "code",
   "execution_count": 85,
   "metadata": {},
   "outputs": [],
   "source": [
    "# Compare the number of minutes users need for each package per month. Make a histogram."
   ]
  },
  {
   "cell_type": "code",
   "execution_count": 86,
   "metadata": {},
   "outputs": [
    {
     "data": {
      "image/png": "[encoded data removed]",
      "text/plain": [
       "<Figure size 640x480 with 1 Axes>"
      ]
     },
     "metadata": {},
     "output_type": "display_data"
    }
   ],
   "source": [
    "# Plot a histogram for each packet\n",
    "plt.hist(surf_data['call_minutes'], alpha=0.5, label='surf', bins=20, color='blue')\n",
    "plt.hist(ultimate_data['call_minutes'], alpha=0.5, label='ultimate', bins=20, color='green')\n",
    "\n",
    "plt.xlabel('Number of Minutes per Month')\n",
    "plt.ylabel('Number of Users')\n",
    "plt.title('Distribution of Number of Minutes per Month per Package')\n",
    "plt.legend()\n",
    "\n",
    "plt.show()"
   ]
  },
  {
   "cell_type": "code",
   "execution_count": 87,
   "metadata": {},
   "outputs": [],
   "source": [
    "# Calculate the average and variance of monthly call duration"
   ]
  },
  {
   "cell_type": "code",
   "execution_count": 88,
   "metadata": {},
   "outputs": [
    {
     "name": "stdout",
     "output_type": "stream",
     "text": [
      "Average monthly call duration for Surf plan: 432.87740693196406\n",
      "Average monthly call duration for Ultimate plan: 431.0486787204451\n",
      "\n",
      "Monthly call duration variance for Surf plan: 53709.82375383687\n",
      "Monthly call duration variance for Ultimate plan: 57666.609047694685\n"
     ]
    }
   ],
   "source": [
    "# Calculate the average and variance of monthly call durations for Surf and Ultimate\n",
    "var_surf_call_duration = surf_data['call_minutes'].var()\n",
    "var_ultimate_call_duration = ultimate_data['call_minutes'].var()\n",
    "\n",
    "print('Average monthly call duration for Surf plan:', avg_call_duration_surf)\n",
    "print('Average monthly call duration for Ultimate plan:', avg_call_duration_ultimate)\n",
    "print('\\nMonthly call duration variance for Surf plan:', var_surf_call_duration)\n",
    "print('Monthly call duration variance for Ultimate plan:', var_ultimate_call_duration)"
   ]
  },
  {
   "cell_type": "markdown",
   "metadata": {},
   "source": [
    "<br>Based on the calculation of the average and variance of monthly call duration for Surf and Ultimate plans, we can make several conclusions:\n",
    "\n",
    "<br>Average Monthly Call Duration:\n",
    "<br>Surf Package: The average monthly call duration for Surf package users is approximately 432.88 minutes.\n",
    "<br>Ultimate Package: The average monthly call duration for Ultimate package users is approximately 431.05 minutes.\n",
    "    \n",
    "<br>Monthly Call Duration Variance:\n",
    "<br>Surf Package: The monthly call duration variance for Surf package users is approximately 53,709.82 minutes.\n",
    "<br>Ultimate Package: The monthly call duration variance for Ultimate package users is approximately 57,666.61 minutes.\n",
    "    \n",
    "<br>Thus, based on the average monthly call duration, there does not appear to be any significant difference between Surf and Ultimate plan users. However, the higher variance in monthly call duration for the Ultimate plan suggests there is greater variation in monthly call usage for this plan."
   ]
  },
  {
   "cell_type": "code",
   "execution_count": 89,
   "metadata": {},
   "outputs": [],
   "source": [
    "# Create a boxplot graph to visualize the distribution of monthly call durations"
   ]
  },
  {
   "cell_type": "code",
   "execution_count": 90,
   "metadata": {},
   "outputs": [
    {
     "data": {
      "image/png": "[encoded data removed]",
      "text/plain": [
       "<Figure size 1000x600 with 1 Axes>"
      ]
     },
     "metadata": {},
     "output_type": "display_data"
    }
   ],
   "source": [
    "# Combine data for plotting\n",
    "data_to_plot = [surf_data['call_minutes'], ultimate_data['call_minutes']]\n",
    "\n",
    "# Create a boxplot\n",
    "plt.figure(figsize=(10, 6))\n",
    "plt.boxplot(data_to_plot, labels=['Surf', 'Ultimate'])\n",
    "plt.xlabel('Package')\n",
    "plt.ylabel('Call Duration (minutes)')\n",
    "plt.title('Monthly Call Duration Distribution per Package')\n",
    "plt.grid(True)\n",
    "\n",
    "# Add the Q1, Q3, and mean values to the boxplot box\n",
    "for i, box_data in enumerate(data_to_plot):\n",
    "     q1 = np.percentile(box_data, 25)\n",
    "     q3 = np.percentile(box_data, 75)\n",
    "     mean = np.mean(box_data)\n",
    "    \n",
    "     plt.text(i + 1, q1, f'        Q1: {q1:.2f}', ha='left', va='bottom', color='blue')\n",
    "     plt.text(i + 1, q3, f'        Q3: {q3:.2f}', ha='left', va='top', color='green')\n",
    "     plt.text(i + 1, mean, f'        Mean: {mean:.2f}', ha='left', va='center', color='red')\n",
    "\n",
    "\n",
    "plt.show()"
   ]
  },
  {
   "cell_type": "markdown",
   "metadata": {},
   "source": [
    "Conclusion\n",
    "\n",
    "<br>Surf Package:\n",
    "<br>Average monthly call duration: 432.88 minutes\n",
    "<br>First Quartile (Q1): 275 minutes\n",
    "<br>Third Quartile (Q3): 577 minutes\n",
    "<br>Variance: 53,709.82\n",
    "\n",
    "<br>Ultimate Package:\n",
    "<br>Average monthly call duration: 431.05 minutes\n",
    "<br>First Quartile (Q1): 260 minutes\n",
    "<br>Third Quartile (Q3): 565.5 minutes\n",
    "<br>Variance: 57,666.61\n",
    "\n",
    "<br>Conclusion:\n",
    "<br>From the analyzed data, the average monthly call duration between the Surf and Ultimate packages is quite close to each other. Data variability, as reflected by variance, is also similar between the two packages. However, the monthly call duration distribution on the Surf plan has slightly higher Q1 and Q3 compared to the Ultimate plan, although the difference is not significant.\n",
    "\n",
    "<br>So, based on this data, there is no big difference in monthly call usage behavior between the Surf and Ultimate packages. However, the Surf plan has a slightly higher overall monthly call duration compared to the Ultimate plan."
   ]
  },
  {
   "cell_type": "markdown",
   "metadata": {},
   "source": [
    "[Back to Content](#back)"
   ]
  },
  {
   "cell_type": "markdown",
   "metadata": {},
   "source": [
    " "
   ]
  },
  {
   "cell_type": "markdown",
   "metadata": {},
   "source": [
    "<a id='step3.3.2'></a>\n",
    "### **3.3.2 Message/SMS**"
   ]
  },
  {
   "cell_type": "code",
   "execution_count": 91,
   "metadata": {},
   "outputs": [],
   "source": [
    "# Compare the number of SMS users tend to send per plan per month"
   ]
  },
  {
   "cell_type": "code",
   "execution_count": 92,
   "metadata": {},
   "outputs": [
    {
     "data": {
      "image/png": "[encoded data removed]",
      "text/plain": [
       "<Figure size 640x480 with 1 Axes>"
      ]
     },
     "metadata": {},
     "output_type": "display_data"
    }
   ],
   "source": [
    "# Plot a histogram for each packet\n",
    "plt.hist(surf_data['sms_per_month'], alpha=0.5, label='Surf', bins=20, color='blue')\n",
    "plt.hist(ultimate_data['sms_per_month'], alpha=0.5, label='Ultimate', bins=20, color='green')\n",
    "\n",
    "plt.xlabel('Number of SMS per Month')\n",
    "plt.ylabel('Number of Users')\n",
    "plt.title('Distribution of Number of SMS per Month per Package')\n",
    "plt.legend()\n",
    "\n",
    "plt.show()"
   ]
  },
  {
   "cell_type": "code",
   "execution_count": 93,
   "metadata": {},
   "outputs": [
    {
     "name": "stdout",
     "output_type": "stream",
     "text": [
      "Average monthly number of SMS for Surf package: 30.63992297817715\n",
      "Average monthly SMS count for Ultimate package: 37.41029207232267\n",
      "\n",
      "Monthly SMS count variance for Surf plan: 1130.4026954340122\n",
      "Monthly SMS count variance for Ultimate plan: 1211.8244621708423\n"
     ]
    }
   ],
   "source": [
    "# Calculate the average number of SMS per month for each package\n",
    "avg_sms_count_surf = surf_data['sms_per_month'].mean()\n",
    "avg_sms_count_ultimate = ultimate_data['sms_per_month'].mean()\n",
    "\n",
    "# Calculate the mean and variance of the monthly number of SMS for Surf and Ultimate\n",
    "var_surf_sms_count = surf_data['sms_per_month'].var()\n",
    "var_ultimate_sms_count = ultimate_data['sms_per_month'].var()\n",
    "\n",
    "print('Average monthly number of SMS for Surf package:', avg_sms_count_surf)\n",
    "print('Average monthly SMS count for Ultimate package:', avg_sms_count_ultimate)\n",
    "print('\\nMonthly SMS count variance for Surf plan:', var_surf_sms_count)\n",
    "print('Monthly SMS count variance for Ultimate plan:', var_ultimate_sms_count)"
   ]
  },
  {
   "cell_type": "code",
   "execution_count": 94,
   "metadata": {},
   "outputs": [
    {
     "data": {
      "image/png": "[encoded data removed]",
      "text/plain": [
       "<Figure size 1000x600 with 1 Axes>"
      ]
     },
     "metadata": {},
     "output_type": "display_data"
    }
   ],
   "source": [
    "# Combine data for plotting\n",
    "data_to_plot = [surf_data['sms_per_month'], ultimate_data['sms_per_month']]\n",
    "\n",
    "# Create a boxplot\n",
    "plt.figure(figsize=(10, 6))\n",
    "plt.boxplot(data_to_plot, labels=['Surf', 'Ultimate'])\n",
    "plt.xlabel('Package')\n",
    "plt.ylabel('number of SMS')\n",
    "plt.title('Distribution of Monthly SMS number per Package')\n",
    "plt.grid(True)\n",
    "\n",
    "# Add the Q1, Q3, and mean values to the boxplot box\n",
    "for i, box_data in enumerate(data_to_plot):\n",
    "     q1 = np.percentile(box_data, 25)\n",
    "     q3 = np.percentile(box_data, 75)\n",
    "     mean = np.mean(box_data)\n",
    "    \n",
    "     plt.text(i + 1, q1, f'        Q1: {q1:.2f}', ha='left', va='bottom', color='blue')\n",
    "     plt.text(i + 1, q3, f'         Q3: {q3:.2f}', ha='left', va='top', color='green')\n",
    "     plt.text(i + 1, mean, f'         Mean: {mean:.2f}', ha='left', va='center', color='red')\n",
    "\n",
    "\n",
    "plt.show()"
   ]
  },
  {
   "cell_type": "markdown",
   "metadata": {},
   "source": [
    "<br>Based on the resulting data, we can formulate conclusions about how users tend to consume internet data packages for Surf and Ultimate packages:\n",
    "\n",
    "<br>Average number of monthly SMS:\n",
    "<br>The Surf plan has an average of around 30.64 SMS per month\n",
    "<br>The Ultimate plan has an average of around 37.41 SMS per month\n",
    "\n",
    "<br>Monthly SMS number variance:\n",
    "<br>The variance for the number of monthly SMS on the Surf plan is around 1130.40\n",
    "<br>The variance for the number of monthly SMS on the Ultimate package is around 1211.82\n",
    "\n",
    "<br>Quartiles (Q1, Q3), and Mean:\n",
    "<br>For the Surf package, Q1 (first quartile) is about 2 , Q3 (third quartile) is about 46 , and mean (average) is about 30.64\n",
    "<br>For the Ultimate plan, Q1 is around 6.5 , Q3 is around 60.5 , and the mean is around 37.41\n",
    "\n",
    "<br>Conclusion:\n",
    "\n",
    "<br>Users of the Ultimate package tend to use more monthly SMS compared to users of the Surf package. This can be seen from the higher average on the Ultimate package. The variance that is almost the same between the two shows a quite significant variation in SMS usage.\n",
    "\n",
    "<br>Quartiles show a more even distribution on the Surf plan, with most users having SMS volumes between Q1 and Q3. Meanwhile in the Ultimate package, the distribution is somewhat more spread out with higher values (outliers) so the median (Q2) is higher."
   ]
  },
  {
   "cell_type": "markdown",
   "metadata": {},
   "source": [
    "[Back to Content](#back)"
   ]
  },
  {
   "cell_type": "markdown",
   "metadata": {},
   "source": [
    " "
   ]
  },
  {
   "cell_type": "markdown",
   "metadata": {},
   "source": [
    "<a id='step3.3.3'></a>\n",
    "### **3.3.3 Internet** "
   ]
  },
  {
   "cell_type": "code",
   "execution_count": 95,
   "metadata": {},
   "outputs": [
    {
     "data": {
      "image/png": "[encoded data removed]",
      "text/plain": [
       "<Figure size 640x480 with 1 Axes>"
      ]
     },
     "metadata": {},
     "output_type": "display_data"
    }
   ],
   "source": [
    "# Plot a histogram for each packet\n",
    "plt.hist(surf_data['internet_gb_per_month'], alpha=0.5, label='Surf', bins=20, color='blue')\n",
    "plt.hist(ultimate_data['internet_gb_per_month'], alpha=0.5, label='Ultimate', bins=20, color='green')\n",
    "\n",
    "plt.xlabel('Internet Traffic Volume (GB) per Month')\n",
    "plt.ylabel('Number of Users')\n",
    "plt.title('Internet Traffic Volume Distribution per Month per Package')\n",
    "plt.legend()\n",
    "\n",
    "plt.show()"
   ]
  },
  {
   "cell_type": "code",
   "execution_count": 96,
   "metadata": {},
   "outputs": [
    {
     "name": "stdout",
     "output_type": "stream",
     "text": [
      "Average monthly data package count for Surf package: 39.83183568677792\n",
      "Average monthly data package count for Ultimate package: 40.92350486787205\n",
      "\n",
      "Variance of the number of monthly data packages for the Surf package: 322.0038156390082\n",
      "Variance in the number of monthly data packages for the Ultimate package: 277.3882907628593\n"
     ]
    }
   ],
   "source": [
    "# Calculate the average number of data packages per month for each package\n",
    "avg_gb_count_surf = surf_data['internet_gb_per_month'].mean()\n",
    "avg_gb_count_ultimate = ultimate_data['internet_gb_per_month'].mean()\n",
    "\n",
    "# Calculate the average and variance of the monthly data plan amounts for Surf and Ultimate\n",
    "var_surf_gb_count = surf_data['internet_gb_per_month'].var()\n",
    "var_ultimate_gb_count = ultimate_data['internet_gb_per_month'].var()\n",
    "\n",
    "print('Average monthly data package count for Surf package:', avg_gb_count_surf)\n",
    "print('Average monthly data package count for Ultimate package:', avg_gb_count_ultimate)\n",
    "print('\\nVariance of the number of monthly data packages for the Surf package:', var_surf_gb_count)\n",
    "print('Variance in the number of monthly data packages for the Ultimate package:', var_ultimate_gb_count)"
   ]
  },
  {
   "cell_type": "code",
   "execution_count": 97,
   "metadata": {},
   "outputs": [
    {
     "data": {
      "image/png": "[encoded data removed]",
      "text/plain": [
       "<Figure size 1000x600 with 1 Axes>"
      ]
     },
     "metadata": {},
     "output_type": "display_data"
    }
   ],
   "source": [
    "# Combine data for plotting\n",
    "data_to_plot = [surf_data['internet_gb_per_month'], ultimate_data['internet_gb_per_month']]\n",
    "\n",
    "# Create a boxplot\n",
    "plt.figure(figsize=(10, 6))\n",
    "plt.boxplot(data_to_plot, labels=['Surf', 'Ultimate'])\n",
    "plt.xlabel('Package')\n",
    "plt.ylabel('number of data packets')\n",
    "plt.title('Distribution of the number of Monthly data packages per Package')\n",
    "plt.grid(True)\n",
    "\n",
    "# Add the Q1, Q3, and mean values to the boxplot box\n",
    "for i, box_data in enumerate(data_to_plot):\n",
    "     q1 = np.percentile(box_data, 25)\n",
    "     q3 = np.percentile(box_data, 75)\n",
    "     mean = np.mean(box_data)\n",
    "    \n",
    "     plt.text(i + 1, q1, f'        Q1: {q1:.2f}', ha='left', va='bottom', color='blue')\n",
    "     plt.text(i + 1, q3, f'        Q3: {q3:.2f}', ha='left', va='top', color='green')\n",
    "     plt.text(i + 1, mean, f'        Mean: {mean:.2f}', ha='left', va='center', color='red')\n",
    "\n",
    "\n",
    "plt.show()"
   ]
  },
  {
   "cell_type": "markdown",
   "metadata": {},
   "source": [
    "<br>Based on the data provided, we can formulate conclusions about how users tend to consume internet data packages for Surf and Ultimate packages:\n",
    "\n",
    "<br>Average monthly data package amount:\n",
    "<br>Surf packages have an average of around 39.83 GB of data package per month\n",
    "<br>The Ultimate package has an average of around 40.92 GB of data package per month\n",
    "\n",
    "<br>Variance in the number of monthly data packages:\n",
    "<br>The variance for the monthly data package amount on the Surf package is around 322.00\n",
    "<br>The variance for the monthly data package amount on the Ultimate package is around 277.39\n",
    "\n",
    "<br>Quartiles (Q1, Q3), and Mean:\n",
    "<br>For the Surf package, Q1 (first quartile) is around 30 , Q3 (third quartile) is around 52 , and mean (average) is around 39.83\n",
    "<br>For the Ultimate package, Q1 is around 32 , Q3 is around 51 , and the mean is around 40.92\n",
    "\n",
    "<br>Conclusion:\n",
    "<br>The average Ultimate plan user uses slightly more monthly data than Surf plan users, although the difference is quite small.\n",
    "<br>The relatively low variance for both indicates that data package usage tends to be quite stable, with not too large variations between users on each package.\n",
    "<br>The quartiles show that the majority of users on both plans had data plan usage between Q1 and Q3, with few outliers on both plans.\n",
    "<br>User behavior in consuming internet data packages tends to be similar between Surf and Ultimate packages, with a slight tendency for Ultimate package users to use slightly more data packages compared to Surf package users. Variability in data package usage is also relatively stable in both packages."
   ]
  },
  {
   "cell_type": "markdown",
   "metadata": {},
   "source": [
    "[Back to Content](#back)"
   ]
  },
  {
   "cell_type": "markdown",
   "metadata": {},
   "source": [
    " "
   ]
  },
  {
   "cell_type": "markdown",
   "metadata": {},
   "source": [
    "<a id='step3.3.4'></a>\n",
    "### **3.3.4 Revenue** "
   ]
  },
  {
   "cell_type": "code",
   "execution_count": 98,
   "metadata": {},
   "outputs": [
    {
     "name": "stdout",
     "output_type": "stream",
     "text": [
      "Monthly Income Statistics for Surf Package:\n",
      "count    1558.000000\n",
      "mean      280.175815\n",
      "std       162.216058\n",
      "min        20.000000\n",
      "25%       171.692500\n",
      "50%       290.000000\n",
      "75%       390.000000\n",
      "max      1210.370000\n",
      "Name: monthly_revenue, dtype: float64\n",
      "\n",
      "Monthly Income Statistics for Ultimate Package:\n",
      "count    719.000000\n",
      "mean     166.208623\n",
      "std       86.986621\n",
      "min       70.000000\n",
      "25%       84.000000\n",
      "50%      154.000000\n",
      "75%      217.000000\n",
      "max      532.000000\n",
      "Name: monthly_revenue, dtype: float64\n"
     ]
    }
   ],
   "source": [
    "surf_revenue = surf_data['monthly_revenue']\n",
    "ultimate_revenue = ultimate_data['monthly_revenue']\n",
    "\n",
    "# Statistical description for the \"Surf\" package\n",
    "surf_stats = surf_revenue.describe()\n",
    "\n",
    "# Statistical description for the \"Ultimate\" package\n",
    "ultimate_stats = ultimate_revenue.describe()\n",
    "\n",
    "print(\"Monthly Income Statistics for Surf Package:\")\n",
    "print(surf_stats)\n",
    "\n",
    "print(\"\\nMonthly Income Statistics for Ultimate Package:\")\n",
    "print(ultimate_stats)"
   ]
  },
  {
   "cell_type": "markdown",
   "metadata": {},
   "source": [
    "<br>Based on the monthly income statistics for the \"Surf\" and \"Ultimate\" packages, we can formulate several conclusions:\n",
    "\n",
    "<br>Surf Package Monthly Income:\n",
    "<br>The average monthly income for Surf plan users is around 280.16USD.\n",
    "<br>The standard deviation of the Surf plan's monthly income is approximately 162.22USD, indicating a fairly large variation from the average.\n",
    "<br>The minimum monthly income generated from the Surf package is 20USD, while the maximum income is 1210.37USD.\n",
    "<br>Most Surf plan users (75&percnt;) have a monthly income below &dollar;390.\n",
    "\n",
    "<br>Ultimate Package Monthly Income:\n",
    "<br>The average monthly income for Ultimate plan users is approximately 166.21USD.\n",
    "<br>The standard deviation of the Ultimate plan's monthly earnings is around 86.99USD, indicating lower variation compared to the Surf plan.\n",
    "<br>The minimum monthly income generated from the Ultimate plan is 70USD, which is the cost of the plan.\n",
    "<br>The maximum monthly revenue generated from the Ultimate plan is 532USD, indicating the potential for users to use additional services.\n",
    "<br>Most Ultimate plan users (75&percnt;) have a monthly income below &dollar;217.\n",
    "\n",
    "<br>Conclusion:\n",
    "<br>The Surf plan has a higher average monthly income compared to the Ultimate plan, indicating that Surf plan users tend to generate higher income.\n",
    "However, monthly income variability is higher on the Surf plan, meaning Surf plan users' income is more variable and can range from high to low income.\n",
    "Ultimate plan users have more stable monthly income with less variability, but average income tends to be lower compared to the Surf plan."
   ]
  },
  {
   "cell_type": "markdown",
   "metadata": {},
   "source": [
    "[Back to Content](#back)"
   ]
  },
  {
   "cell_type": "markdown",
   "metadata": {},
   "source": [
    " "
   ]
  },
  {
   "cell_type": "markdown",
   "metadata": {},
   "source": [
    "<a id='step4'></a>\n",
    "# **Step 4. Hypothesis Testing**"
   ]
  },
  {
   "cell_type": "code",
   "execution_count": 99,
   "metadata": {},
   "outputs": [],
   "source": [
    "# Test the hypothesis"
   ]
  },
  {
   "cell_type": "code",
   "execution_count": 100,
   "metadata": {},
   "outputs": [
    {
     "name": "stdout",
     "output_type": "stream",
     "text": [
      "T-Statistic: 17.699468169100815\n",
      "P-Value: 8.87761090528827e-66\n",
      "We reject the null hypothesis: The average income of Ultimate and Surf package users is different.\n"
     ]
    }
   ],
   "source": [
    "# Separate revenue data for each package\n",
    "surf_revenue = user_stats[user_stats['plan'] == 'surf']['monthly_revenue']\n",
    "ultimate_revenue = user_stats[user_stats['plan'] == 'ultimate']['monthly_revenue']\n",
    "\n",
    "# Do a t-test\n",
    "t_statistic, p_value = stats.ttest_ind(surf_revenue, ultimate_revenue)\n",
    "\n",
    "# Show test results\n",
    "print('T-Statistic:', t_statistic)\n",
    "print('P-Value:', p_value)\n",
    "\n",
    "# Determine alpha (significance level)\n",
    "alpha = 0.05\n",
    "\n",
    "# Compare p-value with alpha\n",
    "if p_value < alpha:\n",
    "     print('We reject the null hypothesis: The average income of Ultimate and Surf package users is different.')\n",
    "else:\n",
    "     print('We fail to reject null hypothesis: There is insufficient evidence that the average income of Ultimate and Surf plan users is different.')"
   ]
  },
  {
   "cell_type": "markdown",
   "metadata": {},
   "source": [
    "<br>The t-test results show a t-statistical value of around 17.7 and a very low p-value, close to zero (8.87e-66), much smaller than the significance level (alpha) previously set (alpha = 0, 05). Therefore, we reject the null hypothesis that the average income of Ultimate and Surf package users is the same.\n",
    "\n",
    "<br>Conclusion:\n",
    "<br>Based on the t-test results, there is sufficient evidence to conclude that the average income of Ultimate and Surf package users is significantly different. Thus, there is a significant difference in the revenue generated by Ultimate and Surf plan users."
   ]
  },
  {
   "cell_type": "markdown",
   "metadata": {},
   "source": [
    "[Test the hypothesis that the average income of users in the NY-NJ area is different from the income of users from other areas.]"
   ]
  },
  {
   "cell_type": "code",
   "execution_count": 101,
   "metadata": {},
   "outputs": [],
   "source": [
    "# Test the hypothesis"
   ]
  },
  {
   "cell_type": "code",
   "execution_count": 102,
   "metadata": {
    "scrolled": true
   },
   "outputs": [
    {
     "data": {
      "text/plain": [
       "array(['Atlanta-Sandy Springs-Roswell, GA MSA',\n",
       "       'Seattle-Tacoma-Bellevue, WA MSA',\n",
       "       'Las Vegas-Henderson-Paradise, NV MSA', 'Tulsa, OK MSA',\n",
       "       'Dallas-Fort Worth-Arlington, TX MSA',\n",
       "       'San Francisco-Oakland-Berkeley, CA MSA',\n",
       "       'Grand Rapids-Kentwood, MI MSA',\n",
       "       'Orlando-Kissimmee-Sanford, FL MSA',\n",
       "       'San Jose-Sunnyvale-Santa Clara, CA MSA',\n",
       "       'Cleveland-Elyria, OH MSA',\n",
       "       'Chicago-Naperville-Elgin, IL-IN-WI MSA', 'Knoxville, TN MSA',\n",
       "       'New York-Newark-Jersey City, NY-NJ-PA MSA', 'Pittsburgh, PA MSA',\n",
       "       'Fresno, CA MSA',\n",
       "       'Washington-Arlington-Alexandria, DC-VA-MD-WV MSA',\n",
       "       'Indianapolis-Carmel-Anderson, IN MSA', 'Jacksonville, FL MSA',\n",
       "       'Los Angeles-Long Beach-Anaheim, CA MSA',\n",
       "       'Omaha-Council Bluffs, NE-IA MSA',\n",
       "       'Houston-The Woodlands-Sugar Land, TX MSA',\n",
       "       'Philadelphia-Camden-Wilmington, PA-NJ-DE-MD MSA',\n",
       "       'Tampa-St. Petersburg-Clearwater, FL MSA',\n",
       "       'Birmingham-Hoover, AL MSA', 'Oklahoma City, OK MSA',\n",
       "       'Charlotte-Concord-Gastonia, NC-SC MSA',\n",
       "       'Denver-Aurora-Lakewood, CO MSA',\n",
       "       'Nashville-Davidson–Murfreesboro–Franklin, TN MSA',\n",
       "       'Columbus, OH MSA', 'Albuquerque, NM MSA',\n",
       "       'Boston-Cambridge-Newton, MA-NH MSA',\n",
       "       'Miami-Fort Lauderdale-West Palm Beach, FL MSA',\n",
       "       'San Diego-Chula Vista-Carlsbad, CA MSA',\n",
       "       'Phoenix-Mesa-Chandler, AZ MSA',\n",
       "       'Portland-Vancouver-Hillsboro, OR-WA MSA',\n",
       "       'Cincinnati, OH-KY-IN MSA', 'Columbia, SC MSA',\n",
       "       'San Antonio-New Braunfels, TX MSA', 'Buffalo-Cheektowaga, NY MSA',\n",
       "       'Memphis, TN-MS-AR MSA',\n",
       "       'Riverside-San Bernardino-Ontario, CA MSA',\n",
       "       'Louisville/Jefferson County, KY-IN MSA',\n",
       "       'Albany-Schenectady-Troy, NY MSA', 'Providence-Warwick, RI-MA MSA',\n",
       "       'Salt Lake City, UT MSA', 'Urban Honolulu, HI MSA',\n",
       "       'El Paso, TX MSA', 'New Haven-Milford, CT MSA',\n",
       "       'North Port-Sarasota-Bradenton, FL MSA', 'Baton Rouge, LA MSA',\n",
       "       'New Orleans-Metairie, LA MSA',\n",
       "       'Bridgeport-Stamford-Norwalk, CT MSA',\n",
       "       'Virginia Beach-Norfolk-Newport News, VA-NC MSA',\n",
       "       'Baltimore-Columbia-Towson, MD MSA', 'Milwaukee-Waukesha, WI MSA',\n",
       "       'Oxnard-Thousand Oaks-Ventura, CA MSA',\n",
       "       'Sacramento–Roseville–Folsom, CA MSA',\n",
       "       'Austin-Round Rock-Georgetown, TX MSA', 'Richmond, VA MSA',\n",
       "       'St. Louis, MO-IL MSA',\n",
       "       'Minneapolis-St. Paul-Bloomington, MN-WI MSA',\n",
       "       'Dayton-Kettering, OH MSA', 'Bakersfield, CA MSA',\n",
       "       'Detroit-Warren-Dearborn, MI MSA', 'Kansas City, MO-KS MSA',\n",
       "       'Charleston-North Charleston, SC MSA', 'Rochester, NY MSA',\n",
       "       'Raleigh-Cary, NC MSA', 'Colorado Springs, CO MSA',\n",
       "       'Greensboro-High Point, NC MSA', 'Tucson, AZ MSA',\n",
       "       'Stockton, CA MSA', 'Cape Coral-Fort Myers, FL MSA'], dtype=object)"
      ]
     },
     "execution_count": 102,
     "metadata": {},
     "output_type": "execute_result"
    }
   ],
   "source": [
    "user_stats['city'].unique()"
   ]
  },
  {
   "cell_type": "code",
   "execution_count": 103,
   "metadata": {},
   "outputs": [
    {
     "data": {
      "text/html": [
       "<div>\n",
       "<style scoped>\n",
       "    .dataframe tbody tr th:only-of-type {\n",
       "        vertical-align: middle;\n",
       "    }\n",
       "\n",
       "    .dataframe tbody tr th {\n",
       "        vertical-align: top;\n",
       "    }\n",
       "\n",
       "    .dataframe thead th {\n",
       "        text-align: right;\n",
       "    }\n",
       "</style>\n",
       "<table border=\"1\" class=\"dataframe\">\n",
       "  <thead>\n",
       "    <tr style=\"text-align: right;\">\n",
       "      <th></th>\n",
       "      <th>user_id</th>\n",
       "      <th>first_name</th>\n",
       "      <th>last_name</th>\n",
       "      <th>city</th>\n",
       "      <th>plan</th>\n",
       "      <th>call_month</th>\n",
       "      <th>calls_per_month</th>\n",
       "      <th>call_minutes</th>\n",
       "      <th>message_month</th>\n",
       "      <th>sms_per_month</th>\n",
       "      <th>session_month</th>\n",
       "      <th>internet_gb_per_month</th>\n",
       "      <th>usd_monthly_pay</th>\n",
       "      <th>additional_cost_total</th>\n",
       "      <th>monthly_revenue</th>\n",
       "    </tr>\n",
       "  </thead>\n",
       "  <tbody>\n",
       "    <tr>\n",
       "      <th>56</th>\n",
       "      <td>1014</td>\n",
       "      <td>Edmundo</td>\n",
       "      <td>Simon</td>\n",
       "      <td>New York-Newark-Jersey City, NY-NJ-PA MSA</td>\n",
       "      <td>surf</td>\n",
       "      <td>December</td>\n",
       "      <td>150.0</td>\n",
       "      <td>1114.0</td>\n",
       "      <td>December</td>\n",
       "      <td>64.0</td>\n",
       "      <td>December</td>\n",
       "      <td>17.0</td>\n",
       "      <td>20</td>\n",
       "      <td>38.84</td>\n",
       "      <td>58.84</td>\n",
       "    </tr>\n",
       "    <tr>\n",
       "      <th>57</th>\n",
       "      <td>1014</td>\n",
       "      <td>Edmundo</td>\n",
       "      <td>Simon</td>\n",
       "      <td>New York-Newark-Jersey City, NY-NJ-PA MSA</td>\n",
       "      <td>surf</td>\n",
       "      <td>November</td>\n",
       "      <td>28.0</td>\n",
       "      <td>163.0</td>\n",
       "      <td>November</td>\n",
       "      <td>9.0</td>\n",
       "      <td>November</td>\n",
       "      <td>2.0</td>\n",
       "      <td>20</td>\n",
       "      <td>0.00</td>\n",
       "      <td>20.00</td>\n",
       "    </tr>\n",
       "    <tr>\n",
       "      <th>75</th>\n",
       "      <td>1022</td>\n",
       "      <td>Bo</td>\n",
       "      <td>Snow</td>\n",
       "      <td>New York-Newark-Jersey City, NY-NJ-PA MSA</td>\n",
       "      <td>surf</td>\n",
       "      <td>August</td>\n",
       "      <td>80.0</td>\n",
       "      <td>631.0</td>\n",
       "      <td>NaN</td>\n",
       "      <td>0.0</td>\n",
       "      <td>August</td>\n",
       "      <td>63.0</td>\n",
       "      <td>20</td>\n",
       "      <td>483.93</td>\n",
       "      <td>503.93</td>\n",
       "    </tr>\n",
       "    <tr>\n",
       "      <th>76</th>\n",
       "      <td>1022</td>\n",
       "      <td>Bo</td>\n",
       "      <td>Snow</td>\n",
       "      <td>New York-Newark-Jersey City, NY-NJ-PA MSA</td>\n",
       "      <td>surf</td>\n",
       "      <td>December</td>\n",
       "      <td>82.0</td>\n",
       "      <td>585.0</td>\n",
       "      <td>NaN</td>\n",
       "      <td>0.0</td>\n",
       "      <td>December</td>\n",
       "      <td>60.0</td>\n",
       "      <td>20</td>\n",
       "      <td>452.55</td>\n",
       "      <td>472.55</td>\n",
       "    </tr>\n",
       "    <tr>\n",
       "      <th>77</th>\n",
       "      <td>1022</td>\n",
       "      <td>Bo</td>\n",
       "      <td>Snow</td>\n",
       "      <td>New York-Newark-Jersey City, NY-NJ-PA MSA</td>\n",
       "      <td>surf</td>\n",
       "      <td>July</td>\n",
       "      <td>70.0</td>\n",
       "      <td>475.0</td>\n",
       "      <td>NaN</td>\n",
       "      <td>0.0</td>\n",
       "      <td>July</td>\n",
       "      <td>33.0</td>\n",
       "      <td>20</td>\n",
       "      <td>180.00</td>\n",
       "      <td>200.00</td>\n",
       "    </tr>\n",
       "  </tbody>\n",
       "</table>\n",
       "</div>"
      ],
      "text/plain": [
       "    user_id first_name last_name                                       city  \\\n",
       "56     1014    Edmundo     Simon  New York-Newark-Jersey City, NY-NJ-PA MSA   \n",
       "57     1014    Edmundo     Simon  New York-Newark-Jersey City, NY-NJ-PA MSA   \n",
       "75     1022         Bo      Snow  New York-Newark-Jersey City, NY-NJ-PA MSA   \n",
       "76     1022         Bo      Snow  New York-Newark-Jersey City, NY-NJ-PA MSA   \n",
       "77     1022         Bo      Snow  New York-Newark-Jersey City, NY-NJ-PA MSA   \n",
       "\n",
       "    plan call_month  calls_per_month  call_minutes message_month  \\\n",
       "56  surf   December            150.0        1114.0      December   \n",
       "57  surf   November             28.0         163.0      November   \n",
       "75  surf     August             80.0         631.0           NaN   \n",
       "76  surf   December             82.0         585.0           NaN   \n",
       "77  surf       July             70.0         475.0           NaN   \n",
       "\n",
       "    sms_per_month session_month  internet_gb_per_month  usd_monthly_pay  \\\n",
       "56           64.0      December                   17.0               20   \n",
       "57            9.0      November                    2.0               20   \n",
       "75            0.0        August                   63.0               20   \n",
       "76            0.0      December                   60.0               20   \n",
       "77            0.0          July                   33.0               20   \n",
       "\n",
       "    additional_cost_total  monthly_revenue  \n",
       "56                  38.84            58.84  \n",
       "57                   0.00            20.00  \n",
       "75                 483.93           503.93  \n",
       "76                 452.55           472.55  \n",
       "77                 180.00           200.00  "
      ]
     },
     "execution_count": 103,
     "metadata": {},
     "output_type": "execute_result"
    }
   ],
   "source": [
    "# Separate data for the \"NY-NJ\" region and other regions\n",
    "ny_nj_data = user_stats[user_stats['city'].str.contains('NY-NJ')]\n",
    "other_data = user_stats[~user_stats['city'].str.contains('NY-NJ')]\n",
    "\n",
    "# Check the data splitting results\n",
    "ny_nj_data.head()"
   ]
  },
  {
   "cell_type": "code",
   "execution_count": 104,
   "metadata": {},
   "outputs": [
    {
     "data": {
      "text/html": [
       "<div>\n",
       "<style scoped>\n",
       "    .dataframe tbody tr th:only-of-type {\n",
       "        vertical-align: middle;\n",
       "    }\n",
       "\n",
       "    .dataframe tbody tr th {\n",
       "        vertical-align: top;\n",
       "    }\n",
       "\n",
       "    .dataframe thead th {\n",
       "        text-align: right;\n",
       "    }\n",
       "</style>\n",
       "<table border=\"1\" class=\"dataframe\">\n",
       "  <thead>\n",
       "    <tr style=\"text-align: right;\">\n",
       "      <th></th>\n",
       "      <th>user_id</th>\n",
       "      <th>first_name</th>\n",
       "      <th>last_name</th>\n",
       "      <th>city</th>\n",
       "      <th>plan</th>\n",
       "      <th>call_month</th>\n",
       "      <th>calls_per_month</th>\n",
       "      <th>call_minutes</th>\n",
       "      <th>message_month</th>\n",
       "      <th>sms_per_month</th>\n",
       "      <th>session_month</th>\n",
       "      <th>internet_gb_per_month</th>\n",
       "      <th>usd_monthly_pay</th>\n",
       "      <th>additional_cost_total</th>\n",
       "      <th>monthly_revenue</th>\n",
       "    </tr>\n",
       "  </thead>\n",
       "  <tbody>\n",
       "    <tr>\n",
       "      <th>0</th>\n",
       "      <td>1000</td>\n",
       "      <td>Anamaria</td>\n",
       "      <td>Bauer</td>\n",
       "      <td>Atlanta-Sandy Springs-Roswell, GA MSA</td>\n",
       "      <td>ultimate</td>\n",
       "      <td>December</td>\n",
       "      <td>16.0</td>\n",
       "      <td>124.0</td>\n",
       "      <td>December</td>\n",
       "      <td>11.0</td>\n",
       "      <td>December</td>\n",
       "      <td>4.0</td>\n",
       "      <td>70</td>\n",
       "      <td>0.00</td>\n",
       "      <td>70.00</td>\n",
       "    </tr>\n",
       "    <tr>\n",
       "      <th>1</th>\n",
       "      <td>1001</td>\n",
       "      <td>Mickey</td>\n",
       "      <td>Wilkerson</td>\n",
       "      <td>Seattle-Tacoma-Bellevue, WA MSA</td>\n",
       "      <td>surf</td>\n",
       "      <td>August</td>\n",
       "      <td>27.0</td>\n",
       "      <td>182.0</td>\n",
       "      <td>August</td>\n",
       "      <td>30.0</td>\n",
       "      <td>August</td>\n",
       "      <td>21.0</td>\n",
       "      <td>20</td>\n",
       "      <td>60.00</td>\n",
       "      <td>80.00</td>\n",
       "    </tr>\n",
       "    <tr>\n",
       "      <th>2</th>\n",
       "      <td>1001</td>\n",
       "      <td>Mickey</td>\n",
       "      <td>Wilkerson</td>\n",
       "      <td>Seattle-Tacoma-Bellevue, WA MSA</td>\n",
       "      <td>surf</td>\n",
       "      <td>December</td>\n",
       "      <td>56.0</td>\n",
       "      <td>412.0</td>\n",
       "      <td>December</td>\n",
       "      <td>44.0</td>\n",
       "      <td>December</td>\n",
       "      <td>55.0</td>\n",
       "      <td>20</td>\n",
       "      <td>400.00</td>\n",
       "      <td>420.00</td>\n",
       "    </tr>\n",
       "    <tr>\n",
       "      <th>3</th>\n",
       "      <td>1001</td>\n",
       "      <td>Mickey</td>\n",
       "      <td>Wilkerson</td>\n",
       "      <td>Seattle-Tacoma-Bellevue, WA MSA</td>\n",
       "      <td>surf</td>\n",
       "      <td>November</td>\n",
       "      <td>64.0</td>\n",
       "      <td>426.0</td>\n",
       "      <td>November</td>\n",
       "      <td>36.0</td>\n",
       "      <td>November</td>\n",
       "      <td>49.0</td>\n",
       "      <td>20</td>\n",
       "      <td>340.00</td>\n",
       "      <td>360.00</td>\n",
       "    </tr>\n",
       "    <tr>\n",
       "      <th>4</th>\n",
       "      <td>1001</td>\n",
       "      <td>Mickey</td>\n",
       "      <td>Wilkerson</td>\n",
       "      <td>Seattle-Tacoma-Bellevue, WA MSA</td>\n",
       "      <td>surf</td>\n",
       "      <td>October</td>\n",
       "      <td>65.0</td>\n",
       "      <td>393.0</td>\n",
       "      <td>October</td>\n",
       "      <td>53.0</td>\n",
       "      <td>October</td>\n",
       "      <td>50.0</td>\n",
       "      <td>20</td>\n",
       "      <td>350.09</td>\n",
       "      <td>370.09</td>\n",
       "    </tr>\n",
       "  </tbody>\n",
       "</table>\n",
       "</div>"
      ],
      "text/plain": [
       "   user_id first_name  last_name                                   city  \\\n",
       "0     1000   Anamaria      Bauer  Atlanta-Sandy Springs-Roswell, GA MSA   \n",
       "1     1001     Mickey  Wilkerson        Seattle-Tacoma-Bellevue, WA MSA   \n",
       "2     1001     Mickey  Wilkerson        Seattle-Tacoma-Bellevue, WA MSA   \n",
       "3     1001     Mickey  Wilkerson        Seattle-Tacoma-Bellevue, WA MSA   \n",
       "4     1001     Mickey  Wilkerson        Seattle-Tacoma-Bellevue, WA MSA   \n",
       "\n",
       "       plan call_month  calls_per_month  call_minutes message_month  \\\n",
       "0  ultimate   December             16.0         124.0      December   \n",
       "1      surf     August             27.0         182.0        August   \n",
       "2      surf   December             56.0         412.0      December   \n",
       "3      surf   November             64.0         426.0      November   \n",
       "4      surf    October             65.0         393.0       October   \n",
       "\n",
       "   sms_per_month session_month  internet_gb_per_month  usd_monthly_pay  \\\n",
       "0           11.0      December                    4.0               70   \n",
       "1           30.0        August                   21.0               20   \n",
       "2           44.0      December                   55.0               20   \n",
       "3           36.0      November                   49.0               20   \n",
       "4           53.0       October                   50.0               20   \n",
       "\n",
       "   additional_cost_total  monthly_revenue  \n",
       "0                   0.00            70.00  \n",
       "1                  60.00            80.00  \n",
       "2                 400.00           420.00  \n",
       "3                 340.00           360.00  \n",
       "4                 350.09           370.09  "
      ]
     },
     "execution_count": 104,
     "metadata": {},
     "output_type": "execute_result"
    }
   ],
   "source": [
    "# Check the data splitting results\n",
    "other_data.head()"
   ]
  },
  {
   "cell_type": "code",
   "execution_count": 105,
   "metadata": {},
   "outputs": [
    {
     "name": "stdout",
     "output_type": "stream",
     "text": [
      "T-Statistic: 2.6203093127549453\n",
      "P-Value: 0.008843440247478481\n"
     ]
    }
   ],
   "source": [
    "# Calculate t-statistics and p-value\n",
    "t_statistic, p_value = stats.ttest_ind(ny_nj_data['monthly_revenue'], other_data['monthly_revenue'])\n",
    "\n",
    "print('T-Statistic:', t_statistic)\n",
    "print('P-Value:', p_value)"
   ]
  },
  {
   "cell_type": "markdown",
   "metadata": {},
   "source": [
    "<br>The t-test results show a t-statistic value of around 2.62 and a p-value of around 0.0088. This p-value is smaller than the previously established significance level (alpha = 0.05), indicating that the difference in monthly income between users in New York/New Jersey (NY/NJ) and users outside NY/NJ is statistically significant.\n",
    "\n",
    "<br>Conclusion:\n",
    "<br>Based on the t-test results, we can conclude that there is a significant difference in monthly income between users in New York/New Jersey (NY/NJ) and users outside the area."
   ]
  },
  {
   "cell_type": "markdown",
   "metadata": {},
   "source": [
    "[Back to Content](#back)"
   ]
  },
  {
   "cell_type": "markdown",
   "metadata": {},
   "source": [
    "<a id='step5'></a>\n",
    "# **Step 5. General Conclusion** "
   ]
  },
  {
   "cell_type": "markdown",
   "metadata": {},
   "source": [
    "<br>Total USD Monthly Pay and Additional Fees:\n",
    "<br>Total USD Monthly Pay for the Surf package is 31,160 USD, while for Ultimate it is 50,330 USD.\n",
    "The total Additional Cost for the Surf package is around 405,353.92 USD, while for Ultimate it is around 69,174.00 USD.\n",
    "\n",
    "<br>Monthly Call Duration:\n",
    "<br>The average monthly call duration for the Surf package is around 432.88 minutes, while for the Ultimate package it is around 431.05 minutes.\n",
    "The monthly call duration variance for the Surf package is around 53,709.82, while for the Ultimate package it is around 57,666.61.\n",
    "\n",
    "<br>Number of Monthly SMS:\n",
    "<br>The average number of monthly SMS for the Surf package is around 30.64 SMS, while for the Ultimate package it is around 37.41 SMS.\n",
    "The variance in the number of monthly SMS for the Surf package is around 1,130.40, while for the Ultimate package it is around 1,211.82\n",
    "\n",
    "<br>Number of Monthly Data Packages:\n",
    "<br>The average monthly data package amount for the Surf package is around 39.83 GB, while for the Ultimate package it is around 40.92 GB.\n",
    "The variance in monthly data package amounts for the Surf package is around 322.00, while for the Ultimate package it is around 277.39.\n",
    "\n",
    "<br>Monthly Income Statistics:\n",
    "<br>Monthly revenue statistics for the Surf package show a mean of around 276.78 USD with a standard deviation of around 162.24 USD.\n",
    "Monthly revenue statistics for the Ultimate plan show a mean of around 140.18 USD with a standard deviation of around 78.06 USD.\n",
    "\n",
    "<br>T-Test:\n",
    "<br>The t-test results show that the difference in monthly income between Ultimate and Surf package users is statistically significant with a t-statistic value of around 17.7 and a very small p-value (8.87e-66).\n",
    "\n",
    "<br>With these findings, we can conclude that there are significant differences in income and usage patterns between Surf and Ultimate plan users. The Ultimate plan has a lower average income compared to the Surf plan, but has higher additional costs. Additionally, the Ultimate plan tends to have a higher monthly call duration compared to the Surf plan.\n",
    "    \n",
    "<br>Package usage and preferences vary between users, and there are significant differences in income across regions. This information can be used for better marketing strategies and customization of service packages according to user needs."
   ]
  },
  {
   "cell_type": "markdown",
   "metadata": {},
   "source": [
    "[Back to Content](#back)"
   ]
  },
  {
   "cell_type": "markdown",
   "metadata": {},
   "source": [
    " "
   ]
  }
 ],
 "metadata": {
  "ExecuteTimeLog": [
   {
    "duration": 828,
    "start_time": "2021-11-16T09:21:11.304Z"
   },
   {
    "duration": 893,
    "start_time": "2021-11-16T09:21:17.728Z"
   },
   {
    "duration": 1150,
    "start_time": "2021-11-16T09:21:29.568Z"
   },
   {
    "duration": 3,
    "start_time": "2021-11-16T09:24:14.495Z"
   },
   {
    "duration": 120,
    "start_time": "2021-11-16T09:24:46.630Z"
   },
   {
    "duration": 3,
    "start_time": "2021-11-16T09:28:27.882Z"
   },
   {
    "duration": 4,
    "start_time": "2021-11-16T09:29:54.281Z"
   },
   {
    "duration": 3,
    "start_time": "2021-11-16T09:30:45.936Z"
   },
   {
    "duration": 4,
    "start_time": "2021-11-16T09:31:06.300Z"
   },
   {
    "duration": 113,
    "start_time": "2021-11-16T09:31:37.208Z"
   },
   {
    "duration": 143,
    "start_time": "2021-11-16T09:31:48.656Z"
   },
   {
    "duration": 98,
    "start_time": "2021-11-16T09:31:55.678Z"
   },
   {
    "duration": 3,
    "start_time": "2021-11-16T09:32:08.535Z"
   },
   {
    "duration": 111,
    "start_time": "2021-11-16T09:32:10.120Z"
   },
   {
    "duration": 3,
    "start_time": "2021-11-16T09:32:15.732Z"
   },
   {
    "duration": 4,
    "start_time": "2021-11-16T09:32:29.423Z"
   },
   {
    "duration": 3,
    "start_time": "2021-11-16T10:03:03.074Z"
   },
   {
    "duration": 3,
    "start_time": "2021-11-16T10:10:01.288Z"
   },
   {
    "duration": 3,
    "start_time": "2021-11-16T10:10:46.923Z"
   },
   {
    "duration": 121,
    "start_time": "2021-11-16T10:37:46.494Z"
   },
   {
    "duration": 125,
    "start_time": "2021-11-16T10:38:20.632Z"
   },
   {
    "duration": 112,
    "start_time": "2021-11-16T10:46:53.001Z"
   },
   {
    "duration": 110,
    "start_time": "2021-11-16T10:48:25.775Z"
   },
   {
    "duration": 3,
    "start_time": "2021-11-16T10:50:18.720Z"
   },
   {
    "duration": 4,
    "start_time": "2021-11-16T10:50:37.649Z"
   },
   {
    "duration": 2,
    "start_time": "2021-11-16T10:50:51.884Z"
   },
   {
    "duration": 3,
    "start_time": "2021-11-16T10:51:56.237Z"
   },
   {
    "duration": 101,
    "start_time": "2021-11-16T10:53:13.791Z"
   },
   {
    "duration": 3,
    "start_time": "2021-11-16T10:55:59.186Z"
   },
   {
    "duration": 3,
    "start_time": "2021-11-16T10:56:10.751Z"
   },
   {
    "duration": 3,
    "start_time": "2021-11-16T10:56:49.038Z"
   },
   {
    "duration": 3,
    "start_time": "2021-11-16T10:56:49.174Z"
   },
   {
    "duration": 4,
    "start_time": "2021-11-16T10:56:49.414Z"
   },
   {
    "duration": 3,
    "start_time": "2021-11-16T10:56:49.680Z"
   },
   {
    "duration": 3,
    "start_time": "2021-11-16T10:56:50.370Z"
   },
   {
    "duration": 114,
    "start_time": "2021-11-16T10:59:34.518Z"
   },
   {
    "duration": 3,
    "start_time": "2021-11-16T11:01:41.201Z"
   },
   {
    "duration": 116,
    "start_time": "2021-11-16T11:01:48.754Z"
   },
   {
    "duration": 3,
    "start_time": "2021-11-16T11:02:16.685Z"
   },
   {
    "duration": 3,
    "start_time": "2021-11-16T11:02:19.479Z"
   },
   {
    "duration": 3,
    "start_time": "2021-11-16T11:02:47.067Z"
   },
   {
    "duration": 3,
    "start_time": "2021-11-16T11:02:49.353Z"
   },
   {
    "duration": 3,
    "start_time": "2021-11-16T11:03:07.835Z"
   },
   {
    "duration": 3,
    "start_time": "2021-11-16T11:03:07.953Z"
   },
   {
    "duration": 112,
    "start_time": "2021-11-16T11:07:52.072Z"
   },
   {
    "duration": 187,
    "start_time": "2021-11-16T11:09:23.468Z"
   },
   {
    "duration": 4,
    "start_time": "2021-11-16T11:10:01.455Z"
   },
   {
    "duration": 3,
    "start_time": "2021-11-16T11:10:05.069Z"
   },
   {
    "duration": 4,
    "start_time": "2021-11-16T11:10:13.376Z"
   },
   {
    "duration": 3,
    "start_time": "2021-11-16T11:10:14.434Z"
   },
   {
    "duration": 3,
    "start_time": "2021-11-16T11:10:22.853Z"
   },
   {
    "duration": 4,
    "start_time": "2021-11-16T11:27:29.279Z"
   },
   {
    "duration": 4,
    "start_time": "2021-11-16T11:29:08.919Z"
   },
   {
    "duration": 118,
    "start_time": "2021-11-16T11:29:46.703Z"
   },
   {
    "duration": 437,
    "start_time": "2021-11-16T11:36:02.181Z"
   },
   {
    "duration": 157,
    "start_time": "2021-11-16T11:36:14.388Z"
   },
   {
    "duration": 207,
    "start_time": "2021-11-16T11:47:15.898Z"
   },
   {
    "duration": 3,
    "start_time": "2021-11-16T11:53:52.092Z"
   },
   {
    "duration": 3,
    "start_time": "2021-11-16T11:53:52.236Z"
   },
   {
    "duration": 3,
    "start_time": "2021-11-16T11:59:12.005Z"
   },
   {
    "duration": 112,
    "start_time": "2021-11-16T12:00:33.446Z"
   },
   {
    "duration": 3,
    "start_time": "2021-11-16T12:02:14.453Z"
   },
   {
    "duration": 3,
    "start_time": "2021-11-16T12:02:39.512Z"
   },
   {
    "duration": 106,
    "start_time": "2021-11-16T12:03:03.460Z"
   },
   {
    "duration": 3,
    "start_time": "2021-11-17T20:37:21.139Z"
   },
   {
    "duration": 3,
    "start_time": "2021-11-17T20:37:22.229Z"
   },
   {
    "duration": 3,
    "start_time": "2021-11-17T20:38:38.806Z"
   },
   {
    "duration": 3,
    "start_time": "2021-11-17T20:38:41.958Z"
   },
   {
    "duration": 3,
    "start_time": "2021-11-17T20:43:46.551Z"
   },
   {
    "duration": 4,
    "start_time": "2021-11-17T20:58:21.835Z"
   },
   {
    "duration": 3,
    "start_time": "2021-11-17T20:59:21.872Z"
   },
   {
    "duration": 4,
    "start_time": "2021-11-17T20:59:45.352Z"
   },
   {
    "duration": 4,
    "start_time": "2021-11-17T20:59:49.646Z"
   },
   {
    "duration": 159,
    "start_time": "2021-11-17T21:02:26.949Z"
   },
   {
    "duration": 3,
    "start_time": "2021-11-17T21:03:53.461Z"
   },
   {
    "duration": 3,
    "start_time": "2021-11-17T21:03:53.694Z"
   },
   {
    "duration": 3,
    "start_time": "2021-11-17T21:05:28.145Z"
   },
   {
    "duration": 116,
    "start_time": "2021-11-17T21:05:57.787Z"
   },
   {
    "duration": 3,
    "start_time": "2021-11-17T21:06:37.993Z"
   },
   {
    "duration": 3,
    "start_time": "2021-11-17T21:06:38.261Z"
   },
   {
    "duration": 3,
    "start_time": "2021-11-17T21:11:54.358Z"
   },
   {
    "duration": 3,
    "start_time": "2021-11-17T21:12:43.846Z"
   },
   {
    "duration": 4,
    "start_time": "2021-11-17T21:13:08.773Z"
   },
   {
    "duration": 3,
    "start_time": "2021-11-17T21:14:44.441Z"
   },
   {
    "duration": 3,
    "start_time": "2021-11-17T21:15:42.059Z"
   },
   {
    "duration": 4,
    "start_time": "2021-11-17T21:15:51.995Z"
   },
   {
    "duration": 3,
    "start_time": "2021-11-17T21:15:53.923Z"
   },
   {
    "duration": 3,
    "start_time": "2021-11-17T21:15:55.282Z"
   },
   {
    "duration": 3,
    "start_time": "2021-11-17T21:16:28.492Z"
   },
   {
    "duration": 3,
    "start_time": "2021-11-17T21:16:32.603Z"
   },
   {
    "duration": 3,
    "start_time": "2021-11-17T21:17:06.941Z"
   },
   {
    "duration": 98,
    "start_time": "2021-11-17T21:18:05.733Z"
   },
   {
    "duration": 4,
    "start_time": "2021-11-17T21:21:35.255Z"
   },
   {
    "duration": 3,
    "start_time": "2021-11-17T21:21:37.804Z"
   },
   {
    "duration": 4,
    "start_time": "2021-11-17T21:23:06.071Z"
   },
   {
    "duration": 3,
    "start_time": "2021-11-17T21:23:24.799Z"
   },
   {
    "duration": 3,
    "start_time": "2021-11-17T21:23:32.591Z"
   },
   {
    "duration": 98,
    "start_time": "2021-11-17T21:28:31.559Z"
   },
   {
    "duration": 3,
    "start_time": "2021-11-17T21:28:45.448Z"
   },
   {
    "duration": 3,
    "start_time": "2021-11-17T21:29:17.303Z"
   },
   {
    "duration": 3,
    "start_time": "2021-11-17T21:29:29.617Z"
   },
   {
    "duration": 3,
    "start_time": "2021-11-17T21:29:32.681Z"
   },
   {
    "duration": 3,
    "start_time": "2021-11-17T21:36:11.474Z"
   },
   {
    "duration": 3,
    "start_time": "2021-11-17T21:36:14.791Z"
   },
   {
    "duration": 3,
    "start_time": "2021-11-17T21:36:53.943Z"
   },
   {
    "duration": 3,
    "start_time": "2021-11-17T21:36:56.165Z"
   },
   {
    "duration": 4,
    "start_time": "2021-11-17T21:37:16.590Z"
   },
   {
    "duration": 3,
    "start_time": "2021-11-17T21:37:22.702Z"
   },
   {
    "duration": 4,
    "start_time": "2021-11-17T21:38:03.479Z"
   },
   {
    "duration": 3,
    "start_time": "2021-11-17T21:38:08.601Z"
   },
   {
    "duration": 3,
    "start_time": "2021-11-17T21:38:12.928Z"
   },
   {
    "duration": 3,
    "start_time": "2021-11-17T21:38:48.896Z"
   },
   {
    "duration": 2,
    "start_time": "2021-11-17T21:38:49.171Z"
   },
   {
    "duration": 4,
    "start_time": "2021-11-17T21:39:57.889Z"
   },
   {
    "duration": 3,
    "start_time": "2021-11-17T21:39:58.057Z"
   },
   {
    "duration": 3,
    "start_time": "2021-11-17T21:41:20.108Z"
   },
   {
    "duration": 3,
    "start_time": "2021-11-17T21:41:20.629Z"
   },
   {
    "duration": 3,
    "start_time": "2021-11-17T21:42:49.136Z"
   },
   {
    "duration": 3,
    "start_time": "2021-11-17T21:43:15.137Z"
   },
   {
    "duration": 4,
    "start_time": "2021-11-17T21:43:16.766Z"
   },
   {
    "duration": 4,
    "start_time": "2021-11-17T21:43:31.711Z"
   },
   {
    "duration": 3,
    "start_time": "2021-11-17T21:43:36.312Z"
   },
   {
    "duration": 4,
    "start_time": "2021-11-17T21:45:08.825Z"
   },
   {
    "duration": 4,
    "start_time": "2021-11-17T21:45:10.119Z"
   },
   {
    "duration": 4,
    "start_time": "2021-11-17T21:45:13.748Z"
   },
   {
    "duration": 3,
    "start_time": "2021-11-17T21:45:22.219Z"
   },
   {
    "duration": 3,
    "start_time": "2021-11-17T21:45:33.412Z"
   },
   {
    "duration": 2,
    "start_time": "2021-11-17T21:46:01.885Z"
   },
   {
    "duration": 3,
    "start_time": "2021-11-17T21:46:03.628Z"
   },
   {
    "duration": 107,
    "start_time": "2021-11-17T21:47:32.512Z"
   },
   {
    "duration": 103,
    "start_time": "2021-11-17T21:50:36.243Z"
   },
   {
    "duration": 3,
    "start_time": "2021-11-18T06:28:31.440Z"
   },
   {
    "duration": 3,
    "start_time": "2021-11-18T06:29:00.168Z"
   },
   {
    "duration": 3,
    "start_time": "2021-11-18T06:31:27.008Z"
   },
   {
    "duration": 2,
    "start_time": "2021-11-18T06:35:34.288Z"
   },
   {
    "duration": 2,
    "start_time": "2021-11-18T06:38:04.527Z"
   }
  ],
  "kernelspec": {
   "display_name": "Python 3 (ipykernel)",
   "language": "python",
   "name": "python3"
  },
  "language_info": {
   "codemirror_mode": {
    "name": "ipython",
    "version": 3
   },
   "file_extension": ".py",
   "mimetype": "text/x-python",
   "name": "python",
   "nbconvert_exporter": "python",
   "pygments_lexer": "ipython3",
   "version": "3.11.5"
  },
  "toc": {
   "base_numbering": 1,
   "nav_menu": {},
   "number_sections": false,
   "sideBar": true,
   "skip_h1_title": false,
   "title_cell": "Table of Contents",
   "title_sidebar": "Contents",
   "toc_cell": false,
   "toc_position": {},
   "toc_section_display": true,
   "toc_window_display": true
  }
 },
 "nbformat": 4,
 "nbformat_minor": 4
}
