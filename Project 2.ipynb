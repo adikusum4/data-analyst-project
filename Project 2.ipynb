{
 "cells": [
  {
   "cell_type": "code",
   "execution_count": null,
   "metadata": {},
   "outputs": [],
   "source": []
  },
  {
   "cell_type": "markdown",
   "metadata": {},
   "source": [
    "# Analyze the risk of customer defaults on a loan\r\n",
    "\r\n",
    "Your job is to prepare reports for the credit division of a bank. You will find out the influence of a customer's marital status and the number of children he has on the probability of default in loan repayment. The bank already has some data regarding customer credit worthiness.\r\n",
    "\r\n",
    "Your report will be considered when making a **Credit assessment** for prospective customers. **Credit scoring** is used to evaluate a potential borrower's ability to repay their loan."
   ]
  },
  {
   "cell_type": "markdown",
   "metadata": {},
   "source": [
    "## Open the data file and read the general information.\r\n",
    "\r\n",
    "[Start by importing the library and loading the data. You will probably find that you need additional libraries as you work on this project and that is normal. Just make sure to update this section if needed.]"
   ]
  },
  {
   "cell_type": "code",
   "execution_count": 1,
   "metadata": {},
   "outputs": [],
   "source": [
    "# Import library\n",
    "import pandas as pd"
   ]
  },
  {
   "cell_type": "code",
   "execution_count": 2,
   "metadata": {
    "scrolled": true
   },
   "outputs": [],
   "source": [
    "# Load the data\n",
    "data = pd.read_csv('/datasets/credit_scoring_eng.csv')\n"
   ]
  },
  {
   "cell_type": "markdown",
   "metadata": {},
   "source": [
    "## Question 1. Data exploration\n",
    "\n",
    "**Data description**\n",
    "- `children` - number of children in the family\n",
    "- `days_employed` - customer work experience in days\n",
    "- `dob_years` - customer age in years\n",
    "- `education` - customer education level\n",
    "- `education_id` - identifier for the customer's education level\n",
    "- `family_status` - marital status\n",
    "- `family_status_id` - identifier for the customer's marital status\n",
    "- `gender` - customer gender\n",
    "- `income_type` - job type\n",
    "- `debt` - whether the customer has ever defaulted on a loan\n",
    "- `total_income` - monthly income\n",
    "- `purpose` - the purpose of obtaining a loan\n",
    "\n",
    "[Now, it's time to explore our data. You need to see how many columns and rows the data has, as well as look closely at multiple rows of data to check for potential problems with the data.]"
   ]
  },
  {
   "cell_type": "code",
   "execution_count": 3,
   "metadata": {},
   "outputs": [
    {
     "data": {
      "text/plain": [
       "(21525, 12)"
      ]
     },
     "execution_count": 3,
     "metadata": {},
     "output_type": "execute_result"
    }
   ],
   "source": [
    "# Let's see how many rows and columns our dataset has\n",
    "data.shape"
   ]
  },
  {
   "cell_type": "code",
   "execution_count": 4,
   "metadata": {},
   "outputs": [
    {
     "data": {
      "text/html": [
       "<div>\n",
       "<style scoped>\n",
       "    .dataframe tbody tr th:only-of-type {\n",
       "        vertical-align: middle;\n",
       "    }\n",
       "\n",
       "    .dataframe tbody tr th {\n",
       "        vertical-align: top;\n",
       "    }\n",
       "\n",
       "    .dataframe thead th {\n",
       "        text-align: right;\n",
       "    }\n",
       "</style>\n",
       "<table border=\"1\" class=\"dataframe\">\n",
       "  <thead>\n",
       "    <tr style=\"text-align: right;\">\n",
       "      <th></th>\n",
       "      <th>children</th>\n",
       "      <th>days_employed</th>\n",
       "      <th>dob_years</th>\n",
       "      <th>education</th>\n",
       "      <th>education_id</th>\n",
       "      <th>family_status</th>\n",
       "      <th>family_status_id</th>\n",
       "      <th>gender</th>\n",
       "      <th>income_type</th>\n",
       "      <th>debt</th>\n",
       "      <th>total_income</th>\n",
       "      <th>purpose</th>\n",
       "    </tr>\n",
       "  </thead>\n",
       "  <tbody>\n",
       "    <tr>\n",
       "      <th>0</th>\n",
       "      <td>1</td>\n",
       "      <td>-8437.673028</td>\n",
       "      <td>42</td>\n",
       "      <td>bachelor's degree</td>\n",
       "      <td>0</td>\n",
       "      <td>married</td>\n",
       "      <td>0</td>\n",
       "      <td>F</td>\n",
       "      <td>employee</td>\n",
       "      <td>0</td>\n",
       "      <td>40620.102</td>\n",
       "      <td>purchase of the house</td>\n",
       "    </tr>\n",
       "    <tr>\n",
       "      <th>1</th>\n",
       "      <td>1</td>\n",
       "      <td>-4024.803754</td>\n",
       "      <td>36</td>\n",
       "      <td>secondary education</td>\n",
       "      <td>1</td>\n",
       "      <td>married</td>\n",
       "      <td>0</td>\n",
       "      <td>F</td>\n",
       "      <td>employee</td>\n",
       "      <td>0</td>\n",
       "      <td>17932.802</td>\n",
       "      <td>car purchase</td>\n",
       "    </tr>\n",
       "    <tr>\n",
       "      <th>2</th>\n",
       "      <td>0</td>\n",
       "      <td>-5623.422610</td>\n",
       "      <td>33</td>\n",
       "      <td>Secondary Education</td>\n",
       "      <td>1</td>\n",
       "      <td>married</td>\n",
       "      <td>0</td>\n",
       "      <td>M</td>\n",
       "      <td>employee</td>\n",
       "      <td>0</td>\n",
       "      <td>23341.752</td>\n",
       "      <td>purchase of the house</td>\n",
       "    </tr>\n",
       "    <tr>\n",
       "      <th>3</th>\n",
       "      <td>3</td>\n",
       "      <td>-4124.747207</td>\n",
       "      <td>32</td>\n",
       "      <td>secondary education</td>\n",
       "      <td>1</td>\n",
       "      <td>married</td>\n",
       "      <td>0</td>\n",
       "      <td>M</td>\n",
       "      <td>employee</td>\n",
       "      <td>0</td>\n",
       "      <td>42820.568</td>\n",
       "      <td>supplementary education</td>\n",
       "    </tr>\n",
       "    <tr>\n",
       "      <th>4</th>\n",
       "      <td>0</td>\n",
       "      <td>340266.072047</td>\n",
       "      <td>53</td>\n",
       "      <td>secondary education</td>\n",
       "      <td>1</td>\n",
       "      <td>civil partnership</td>\n",
       "      <td>1</td>\n",
       "      <td>F</td>\n",
       "      <td>retiree</td>\n",
       "      <td>0</td>\n",
       "      <td>25378.572</td>\n",
       "      <td>to have a wedding</td>\n",
       "    </tr>\n",
       "  </tbody>\n",
       "</table>\n",
       "</div>"
      ],
      "text/plain": [
       "   children  days_employed  dob_years            education  education_id  \\\n",
       "0         1   -8437.673028         42    bachelor's degree             0   \n",
       "1         1   -4024.803754         36  secondary education             1   \n",
       "2         0   -5623.422610         33  Secondary Education             1   \n",
       "3         3   -4124.747207         32  secondary education             1   \n",
       "4         0  340266.072047         53  secondary education             1   \n",
       "\n",
       "       family_status  family_status_id gender income_type  debt  total_income  \\\n",
       "0            married                 0      F    employee     0     40620.102   \n",
       "1            married                 0      F    employee     0     17932.802   \n",
       "2            married                 0      M    employee     0     23341.752   \n",
       "3            married                 0      M    employee     0     42820.568   \n",
       "4  civil partnership                 1      F     retiree     0     25378.572   \n",
       "\n",
       "                   purpose  \n",
       "0    purchase of the house  \n",
       "1             car purchase  \n",
       "2    purchase of the house  \n",
       "3  supplementary education  \n",
       "4        to have a wedding  "
      ]
     },
     "execution_count": 4,
     "metadata": {},
     "output_type": "execute_result"
    }
   ],
   "source": [
    "# Let's display the first 5 rows\n",
    "data.head()"
   ]
  },
  {
   "cell_type": "markdown",
   "metadata": {},
   "source": [
    "Based on the data displayed, here are several things that can be observed:\r\n",
    "\r\n",
    "1. Column 'children': There is information about the number of children in this column. The values in this column look reasonable and there are no obvious problems.\r\n",
    "\r\n",
    "2. Column 'days_employed': There are some very extreme values, as seen in row 4 with a very high value (340,266) which may be an error. These values also appear to be mixed with negative values, which may not correspond to reality. This issue may require repair and further investigation.\r\n",
    "\r\n",
    "3. Column 'dob_years': There is information about the customer's age in this column. There were no obvious problems in this sample.\r\n",
    "\r\n",
    "4. 'education' and 'education_id' columns: There are variations in education spelling, such as \"bachelor's degree\" and \"Secondary Education,\" that may need to be normalized for consistency.\r\n",
    "\r\n",
    "5. 'family_status' and 'family_status_id' columns: There is information about the customer's marital status in this column. There were no obvious problems in this sample.\r\n",
    "\r\n",
    "6. Column 'gender': There is information about the customer's gender. There were no obvious problems in this sample.\r\n",
    "\r\n",
    "7. Column 'income_type': There is information about the customer's job type. There were no obvious problems in this sample.\r\n",
    "\r\n",
    "8. 'debt' column: There is information about whether the customer has debt. There were no obvious problems in this sample.\r\n",
    "\r\n",
    "9. Column 'total_income': There are some missing values in this column, which we discussed earlier. Additionally, as already discussed, there are very extreme values that need to be investigated further.\r\n",
    "\r\n",
    "10. 'purpose' column: There is information about the purpose of the loan in this column. There were no obvious problems in this sample.\r\n",
    "\r\n",
    "Of further concern in this sample are the extreme values in the 'days_employed' column and the missing values in the 'total_income' column. This issue may require correction and a better understanding of the cause to provide a more accurate analysis. In addition, normalization in the 'education' column can also be an additional step to facilitate analysis."
   ]
  },
  {
   "cell_type": "code",
   "execution_count": 5,
   "metadata": {
    "scrolled": true
   },
   "outputs": [
    {
     "name": "stdout",
     "output_type": "stream",
     "text": [
      "<class 'pandas.core.frame.DataFrame'>\n",
      "RangeIndex: 21525 entries, 0 to 21524\n",
      "Data columns (total 12 columns):\n",
      " #   Column            Non-Null Count  Dtype  \n",
      "---  ------            --------------  -----  \n",
      " 0   children          21525 non-null  int64  \n",
      " 1   days_employed     19351 non-null  float64\n",
      " 2   dob_years         21525 non-null  int64  \n",
      " 3   education         21525 non-null  object \n",
      " 4   education_id      21525 non-null  int64  \n",
      " 5   family_status     21525 non-null  object \n",
      " 6   family_status_id  21525 non-null  int64  \n",
      " 7   gender            21525 non-null  object \n",
      " 8   income_type       21525 non-null  object \n",
      " 9   debt              21525 non-null  int64  \n",
      " 10  total_income      19351 non-null  float64\n",
      " 11  purpose           21525 non-null  object \n",
      "dtypes: float64(2), int64(5), object(5)\n",
      "memory usage: 2.0+ MB\n"
     ]
    }
   ],
   "source": [
    "# Get data information\n",
    "data.info()"
   ]
  },
  {
   "cell_type": "markdown",
   "metadata": {},
   "source": [
    "There are missing values only in a few columns, namely 'days_employed' and 'total_income'. All other columns have complete (non-null) values for each row of data."
   ]
  },
  {
   "cell_type": "code",
   "execution_count": 6,
   "metadata": {
    "scrolled": true
   },
   "outputs": [
    {
     "data": {
      "text/html": [
       "<div>\n",
       "<style scoped>\n",
       "    .dataframe tbody tr th:only-of-type {\n",
       "        vertical-align: middle;\n",
       "    }\n",
       "\n",
       "    .dataframe tbody tr th {\n",
       "        vertical-align: top;\n",
       "    }\n",
       "\n",
       "    .dataframe thead th {\n",
       "        text-align: right;\n",
       "    }\n",
       "</style>\n",
       "<table border=\"1\" class=\"dataframe\">\n",
       "  <thead>\n",
       "    <tr style=\"text-align: right;\">\n",
       "      <th></th>\n",
       "      <th>children</th>\n",
       "      <th>days_employed</th>\n",
       "      <th>dob_years</th>\n",
       "      <th>education</th>\n",
       "      <th>education_id</th>\n",
       "      <th>family_status</th>\n",
       "      <th>family_status_id</th>\n",
       "      <th>gender</th>\n",
       "      <th>income_type</th>\n",
       "      <th>debt</th>\n",
       "      <th>total_income</th>\n",
       "      <th>purpose</th>\n",
       "    </tr>\n",
       "  </thead>\n",
       "  <tbody>\n",
       "    <tr>\n",
       "      <th>12</th>\n",
       "      <td>0</td>\n",
       "      <td>NaN</td>\n",
       "      <td>65</td>\n",
       "      <td>secondary education</td>\n",
       "      <td>1</td>\n",
       "      <td>civil partnership</td>\n",
       "      <td>1</td>\n",
       "      <td>M</td>\n",
       "      <td>retiree</td>\n",
       "      <td>0</td>\n",
       "      <td>NaN</td>\n",
       "      <td>to have a wedding</td>\n",
       "    </tr>\n",
       "    <tr>\n",
       "      <th>26</th>\n",
       "      <td>0</td>\n",
       "      <td>NaN</td>\n",
       "      <td>41</td>\n",
       "      <td>secondary education</td>\n",
       "      <td>1</td>\n",
       "      <td>married</td>\n",
       "      <td>0</td>\n",
       "      <td>M</td>\n",
       "      <td>civil servant</td>\n",
       "      <td>0</td>\n",
       "      <td>NaN</td>\n",
       "      <td>education</td>\n",
       "    </tr>\n",
       "    <tr>\n",
       "      <th>29</th>\n",
       "      <td>0</td>\n",
       "      <td>NaN</td>\n",
       "      <td>63</td>\n",
       "      <td>secondary education</td>\n",
       "      <td>1</td>\n",
       "      <td>unmarried</td>\n",
       "      <td>4</td>\n",
       "      <td>F</td>\n",
       "      <td>retiree</td>\n",
       "      <td>0</td>\n",
       "      <td>NaN</td>\n",
       "      <td>building a real estate</td>\n",
       "    </tr>\n",
       "    <tr>\n",
       "      <th>41</th>\n",
       "      <td>0</td>\n",
       "      <td>NaN</td>\n",
       "      <td>50</td>\n",
       "      <td>secondary education</td>\n",
       "      <td>1</td>\n",
       "      <td>married</td>\n",
       "      <td>0</td>\n",
       "      <td>F</td>\n",
       "      <td>civil servant</td>\n",
       "      <td>0</td>\n",
       "      <td>NaN</td>\n",
       "      <td>second-hand car purchase</td>\n",
       "    </tr>\n",
       "    <tr>\n",
       "      <th>55</th>\n",
       "      <td>0</td>\n",
       "      <td>NaN</td>\n",
       "      <td>54</td>\n",
       "      <td>secondary education</td>\n",
       "      <td>1</td>\n",
       "      <td>civil partnership</td>\n",
       "      <td>1</td>\n",
       "      <td>F</td>\n",
       "      <td>retiree</td>\n",
       "      <td>1</td>\n",
       "      <td>NaN</td>\n",
       "      <td>to have a wedding</td>\n",
       "    </tr>\n",
       "    <tr>\n",
       "      <th>...</th>\n",
       "      <td>...</td>\n",
       "      <td>...</td>\n",
       "      <td>...</td>\n",
       "      <td>...</td>\n",
       "      <td>...</td>\n",
       "      <td>...</td>\n",
       "      <td>...</td>\n",
       "      <td>...</td>\n",
       "      <td>...</td>\n",
       "      <td>...</td>\n",
       "      <td>...</td>\n",
       "      <td>...</td>\n",
       "    </tr>\n",
       "    <tr>\n",
       "      <th>21489</th>\n",
       "      <td>2</td>\n",
       "      <td>NaN</td>\n",
       "      <td>47</td>\n",
       "      <td>Secondary Education</td>\n",
       "      <td>1</td>\n",
       "      <td>married</td>\n",
       "      <td>0</td>\n",
       "      <td>M</td>\n",
       "      <td>business</td>\n",
       "      <td>0</td>\n",
       "      <td>NaN</td>\n",
       "      <td>purchase of a car</td>\n",
       "    </tr>\n",
       "    <tr>\n",
       "      <th>21495</th>\n",
       "      <td>1</td>\n",
       "      <td>NaN</td>\n",
       "      <td>50</td>\n",
       "      <td>secondary education</td>\n",
       "      <td>1</td>\n",
       "      <td>civil partnership</td>\n",
       "      <td>1</td>\n",
       "      <td>F</td>\n",
       "      <td>employee</td>\n",
       "      <td>0</td>\n",
       "      <td>NaN</td>\n",
       "      <td>wedding ceremony</td>\n",
       "    </tr>\n",
       "    <tr>\n",
       "      <th>21497</th>\n",
       "      <td>0</td>\n",
       "      <td>NaN</td>\n",
       "      <td>48</td>\n",
       "      <td>BACHELOR'S DEGREE</td>\n",
       "      <td>0</td>\n",
       "      <td>married</td>\n",
       "      <td>0</td>\n",
       "      <td>F</td>\n",
       "      <td>business</td>\n",
       "      <td>0</td>\n",
       "      <td>NaN</td>\n",
       "      <td>building a property</td>\n",
       "    </tr>\n",
       "    <tr>\n",
       "      <th>21502</th>\n",
       "      <td>1</td>\n",
       "      <td>NaN</td>\n",
       "      <td>42</td>\n",
       "      <td>secondary education</td>\n",
       "      <td>1</td>\n",
       "      <td>married</td>\n",
       "      <td>0</td>\n",
       "      <td>F</td>\n",
       "      <td>employee</td>\n",
       "      <td>0</td>\n",
       "      <td>NaN</td>\n",
       "      <td>building a real estate</td>\n",
       "    </tr>\n",
       "    <tr>\n",
       "      <th>21510</th>\n",
       "      <td>2</td>\n",
       "      <td>NaN</td>\n",
       "      <td>28</td>\n",
       "      <td>secondary education</td>\n",
       "      <td>1</td>\n",
       "      <td>married</td>\n",
       "      <td>0</td>\n",
       "      <td>F</td>\n",
       "      <td>employee</td>\n",
       "      <td>0</td>\n",
       "      <td>NaN</td>\n",
       "      <td>car purchase</td>\n",
       "    </tr>\n",
       "  </tbody>\n",
       "</table>\n",
       "<p>2174 rows × 12 columns</p>\n",
       "</div>"
      ],
      "text/plain": [
       "       children  days_employed  dob_years            education  education_id  \\\n",
       "12            0            NaN         65  secondary education             1   \n",
       "26            0            NaN         41  secondary education             1   \n",
       "29            0            NaN         63  secondary education             1   \n",
       "41            0            NaN         50  secondary education             1   \n",
       "55            0            NaN         54  secondary education             1   \n",
       "...         ...            ...        ...                  ...           ...   \n",
       "21489         2            NaN         47  Secondary Education             1   \n",
       "21495         1            NaN         50  secondary education             1   \n",
       "21497         0            NaN         48    BACHELOR'S DEGREE             0   \n",
       "21502         1            NaN         42  secondary education             1   \n",
       "21510         2            NaN         28  secondary education             1   \n",
       "\n",
       "           family_status  family_status_id gender    income_type  debt  \\\n",
       "12     civil partnership                 1      M        retiree     0   \n",
       "26               married                 0      M  civil servant     0   \n",
       "29             unmarried                 4      F        retiree     0   \n",
       "41               married                 0      F  civil servant     0   \n",
       "55     civil partnership                 1      F        retiree     1   \n",
       "...                  ...               ...    ...            ...   ...   \n",
       "21489            married                 0      M       business     0   \n",
       "21495  civil partnership                 1      F       employee     0   \n",
       "21497            married                 0      F       business     0   \n",
       "21502            married                 0      F       employee     0   \n",
       "21510            married                 0      F       employee     0   \n",
       "\n",
       "       total_income                   purpose  \n",
       "12              NaN         to have a wedding  \n",
       "26              NaN                 education  \n",
       "29              NaN    building a real estate  \n",
       "41              NaN  second-hand car purchase  \n",
       "55              NaN         to have a wedding  \n",
       "...             ...                       ...  \n",
       "21489           NaN         purchase of a car  \n",
       "21495           NaN          wedding ceremony  \n",
       "21497           NaN       building a property  \n",
       "21502           NaN    building a real estate  \n",
       "21510           NaN              car purchase  \n",
       "\n",
       "[2174 rows x 12 columns]"
      ]
     },
     "execution_count": 6,
     "metadata": {},
     "output_type": "execute_result"
    }
   ],
   "source": [
    "# Let's look at the table that has been filtered with missing values in the first column containing the missing data\n",
    "data[data.isna().any(axis=1)]"
   ]
  },
  {
   "cell_type": "markdown",
   "metadata": {},
   "source": [
    "The missing values do not appear symmetrical. Although the number of missing values for 'days_employed' and 'total_income' is the same (2.174), the assumption that the missing samples are of the same size cannot be guaranteed without further investigation. To ensure symmetry, it is necessary to compare the missing values in each row with the missing values in all columns to see whether the missing sample size is the same for each row."
   ]
  },
  {
   "cell_type": "code",
   "execution_count": 7,
   "metadata": {},
   "outputs": [
    {
     "name": "stdout",
     "output_type": "stream",
     "text": [
      "2174\n",
      "\n",
      "---------------------------------------------\n",
      "\n"
     ]
    },
    {
     "data": {
      "text/plain": [
       "children               0\n",
       "days_employed       2174\n",
       "dob_years              0\n",
       "education              0\n",
       "education_id           0\n",
       "family_status          0\n",
       "family_status_id       0\n",
       "gender                 0\n",
       "income_type            0\n",
       "debt                   0\n",
       "total_income        2174\n",
       "purpose                0\n",
       "dtype: int64"
      ]
     },
     "execution_count": 7,
     "metadata": {},
     "output_type": "execute_result"
    }
   ],
   "source": [
    "# Let's apply some conditions to filter the data and see the number of rows in the table that have been filtered.\n",
    "missing_employment_income = data[(data['days_employed'].isnull()) & (data['total_income'].isnull())]\n",
    "print(len(missing_employment_income))\n",
    "print('\\n---------------------------------------------\\n')\n",
    "data.isna().sum()"
   ]
  },
  {
   "cell_type": "markdown",
   "metadata": {},
   "source": [
    "**Tentative conclusions**\r",
    "<br>\n",
    "The number of rows in the filtered table (2,174 rows) corresponds to the number of missing values in the 'days_employed' and 'total_income' columns (2,174 values). This shows that the filtering conditions are functioning well.\r\n",
    "\r\n",
    "To calculate the percentage of missing values in a dataset, we can use the following formula:"
   ]
  },
  {
   "cell_type": "code",
   "execution_count": 8,
   "metadata": {
    "scrolled": true
   },
   "outputs": [
    {
     "name": "stdout",
     "output_type": "stream",
     "text": [
      "Percentage of Missing Values:\n",
      "days_employed    10.1%\n",
      "total_income     10.1%\n",
      "dtype: object\n"
     ]
    }
   ],
   "source": [
    "# Counts the number of rows in the dataset\n",
    "total_rows = len(data)\n",
    "\n",
    "# Calculate the number of missing values in 'days_employed' and 'total_income' columns\n",
    "missing_values = data[['days_employed', 'total_income']].isnull().sum()\n",
    "\n",
    "# Calculates the percentage of missing values\n",
    "percentage_missing = (missing_values / total_rows) * 100\n",
    "\n",
    "# Displays the percentage with two decimal digits and a percent sign\n",
    "print(\"Percentage of Missing Values:\")\n",
    "print(percentage_missing.round(2).astype(str) + \"%\")"
   ]
  },
  {
   "cell_type": "markdown",
   "metadata": {},
   "source": [
    "Missing values are about 10.10% of the entire dataset. Although it is not very big, it is still significant enough to be noticed. The next steps are:\r\n",
    "\r\n",
    "1. **Consider characteristics causing missing values**: We need to check whether there are certain customer characteristics that might be the cause of missing values, such as job type, marital status, age, etc.\r\n",
    "\r\n",
    "2. **Identify missing value dependencies**: We need to see if there are any dependencies between the columns that identify specific customer characteristics and the missing values in the 'days_employed' and 'total_income' columns. This can help us understand whether there are certain patterns in data loss.\r\n",
    "\r\n",
    "The correlation between the 'days_employed' and 'total_income' columns with other columns also needs to be checked to understand whether there is a significant relationship.\r\n",
    "\r\n",
    "These steps will help us better understand and address the problem of missing values in the dataset."
   ]
  },
  {
   "cell_type": "code",
   "execution_count": 9,
   "metadata": {},
   "outputs": [
    {
     "name": "stdout",
     "output_type": "stream",
     "text": [
      "Number of missing values by job type:\n",
      "income_type\n",
      "employee         1105\n",
      "business          508\n",
      "retiree           413\n",
      "civil servant     147\n",
      "entrepreneur        1\n",
      "Name: count, dtype: int64\n",
      "\n",
      "---------------------------------------------\n",
      "\n",
      "Correlation between 'days_employed' and 'total_income': -0.13664831355529825\n"
     ]
    }
   ],
   "source": [
    "# Let's check for customers who have no data on the identified characteristics and columns with missing values\n",
    "\n",
    "#Calculate the percentage of missing values\n",
    "#-------------\n",
    "# Analysis by job type\n",
    "income_type_missing = data[data['days_employed'].isnull() & data['total_income'].isnull()]['income_type']\n",
    "income_type_missing_counts = income_type_missing.value_counts()\n",
    "print(\"Number of missing values by job type:\")\n",
    "print(income_type_missing_counts)\n",
    "print('\\n---------------------------------------------\\n')\n",
    "\n",
    "# Calculates the correlation between 'days_employed' and 'total_income'\n",
    "correlation_days_income = data['days_employed'].corr(data['total_income'])\n",
    "\n",
    "print(\"Correlation between 'days_employed' and 'total_income':\", correlation_days_income)"
   ]
  },
  {
   "cell_type": "markdown",
   "metadata": {},
   "source": [
    "The correlation between 'days_employed' and 'total_income' is -0.13664831355529825. Correlation is a statistical measure that measures the strength and direction of a linear relationship between two variables. The correlation value ranges from -1 to 1. Here, the correlation value is negative, which indicates that there is a negative linear relationship between 'days_employed' and 'total_income'.\r\n",
    "\r\n",
    "Explanation:\r\n",
    "\r\n",
    "Correlation Value: -0.13664831355529825\r\n",
    "Correlation Direction: Negative\r\n",
    "A negative correlation indicates that there is a weak trend, but in the opposite direction, between two variables. In this context, the correlation between 'days_employed' and 'total_income' shows that the greater the number of working days ('days_employed'), the lower the total income ('total_income').\r\n",
    "\r\n",
    "However, it should be noted that this correlation is weak (close to 0), so the relationship between 'days_employed' and 'total_income' is not very strong. The correlation of -0.13664831355529825 indicates that the relationship between 'days_employed' and 'total_income' is only slight, and cannot be considered a strong or statistically significant relationship"
   ]
  },
  {
   "cell_type": "code",
   "execution_count": 10,
   "metadata": {},
   "outputs": [
    {
     "name": "stdout",
     "output_type": "stream",
     "text": [
      "Distribution 'days_employed':\n",
      "count     19351.000000\n",
      "mean      63046.497661\n",
      "std      140827.311974\n",
      "min      -18388.949901\n",
      "25%       -2747.423625\n",
      "50%       -1203.369529\n",
      "75%        -291.095954\n",
      "max      401755.400475\n",
      "Name: days_employed, dtype: float64\n",
      "\n",
      "--------------------------------------------- \n",
      "\n",
      "Distribution of 'total_income':\n",
      "count     19351.000000\n",
      "mean      26787.568355\n",
      "std       16475.450632\n",
      "min        3306.762000\n",
      "25%       16488.504500\n",
      "50%       23202.870000\n",
      "75%       32549.611000\n",
      "max      362496.645000\n",
      "Name: total_income, dtype: float64\n"
     ]
    }
   ],
   "source": [
    "# Check the distribution\n",
    "# Check the distribution of 'days_employed' column\n",
    "print(\"Distribution 'days_employed':\")\n",
    "print(data['days_employed'].describe())\n",
    "print('\\n--------------------------------------------- \\n')\n",
    "\n",
    "# Check the distribution of column 'total_income'\n",
    "print(\"Distribution of 'total_income':\")\n",
    "print(data['total_income'].describe())"
   ]
  },
  {
   "cell_type": "markdown",
   "metadata": {},
   "source": [
    "Based on the analysis that has been carried out, the following are the findings and possible causes of missing values in the data:\r\n",
    "\r\n",
    "**Findings:**\r\n",
    "1. There are 2,174 rows with missing values in the 'days_employed' and 'total_income' columns.\r\n",
    "2. The 'days_employed' distribution has strange negative values (for example, a minimum value of -18,388.95 days and a maximum value of 401,755.40 days), which does not seem to make sense in the context of weekdays.\r\n",
    "3. The 'total_income' distribution has a wide range of values, from 3,306.76 to 362,496.65, reflecting the diversity of customer income.\r\n",
    "\r\n",
    "**Possible Causes of Loss of Value:**\r\n",
    "1. One possible cause of missing values in the 'days_employed' column may be technical problems or inaccurate data entry. Unreasonable values as seen in the distribution may be the result of errors when filling in this column, such as measurement or data processing errors.\r\n",
    "2. Missing values in the 'total_income' column can also be caused by various factors. Some customers may choose not to provide information about their income, and this could result in a large amount of missing data in this column.\r\n",
    "3. Another possibility is that there is a pattern in the missing values that may be related to the customer's job type or other factors in the data.\r\n",
    "\r\n",
    "**Possible Dependency or Pattern Check:**\r\n",
    "To understand whether these missing values are related to certain customer characteristics, the next step is to further examine whether there are any dependencies or patterns in these missing values. In this case, we have checked the number of missing values by customer job type. The results show that different types of work have different amounts of missing values. However, next steps may include further statistical analysis or hypothesis testing to confirm the presence of significant patterns or dependencies.\r\n",
    "\r\n",
    "Next steps should include further investigation into the causes of these missing values and finding ways to address the missing values according to the context of the data and the problem to be solved."
   ]
  },
  {
   "cell_type": "code",
   "execution_count": 11,
   "metadata": {},
   "outputs": [
    {
     "name": "stdout",
     "output_type": "stream",
     "text": [
      "Mean by Income Type:\n",
      "                             days_employed  total_income\n",
      "income_type                                             \n",
      "business                      -2111.524398  32386.793835\n",
      "civil servant                 -3399.896902  27343.729582\n",
      "employee                      -2326.499216  25820.841683\n",
      "entrepreneur                   -520.848083  79866.103000\n",
      "paternity / maternity leave   -3296.759962   8612.661000\n",
      "retiree                      365003.491245  21940.394503\n",
      "student                        -578.751554  15712.260000\n",
      "unemployed                   366413.652744  21014.360500\n",
      "\n",
      "--------------------------------------------- \n",
      "\n",
      "\n",
      "Median by Income Type:\n",
      "                             days_employed  total_income\n",
      "income_type                                             \n",
      "business                      -1547.382223    27577.2720\n",
      "civil servant                 -2689.368353    24071.6695\n",
      "employee                      -1574.202821    22815.1035\n",
      "entrepreneur                   -520.848083    79866.1030\n",
      "paternity / maternity leave   -3296.759962     8612.6610\n",
      "retiree                      365213.306266    18962.3180\n",
      "student                        -578.751554    15712.2600\n",
      "unemployed                   366413.652744    21014.3605\n",
      "\n",
      "--------------------------------------------- \n",
      "\n",
      "\n",
      "Mode by Income Type:\n",
      "                             days_employed  total_income\n",
      "income_type                                             \n",
      "business                     -17615.563266      4592.450\n",
      "civil servant                -15193.032201      4672.012\n",
      "employee                     -18388.949901     31791.384\n",
      "entrepreneur                   -520.848083     79866.103\n",
      "paternity / maternity leave   -3296.759962      8612.661\n",
      "retiree                      328728.720605      3306.762\n",
      "student                        -578.751554     15712.260\n",
      "unemployed                   337524.466835      9593.119\n",
      "\n",
      "--------------------------------------------- \n",
      "\n",
      "\n",
      "Mean Age by Income Type:\n",
      "income_type\n",
      "business                       39.697542\n",
      "civil servant                  40.636737\n",
      "employee                       39.821027\n",
      "entrepreneur                   42.500000\n",
      "paternity / maternity leave    39.000000\n",
      "retiree                        59.063019\n",
      "student                        22.000000\n",
      "unemployed                     38.000000\n",
      "Name: dob_years, dtype: float64\n",
      "\n",
      "--------------------------------------------- \n",
      "\n",
      "           children  days_employed     dob_years  education_id  \\\n",
      "count  21525.000000   19351.000000  21525.000000  21525.000000   \n",
      "mean       0.538908   63046.497661     43.293380      0.817236   \n",
      "std        1.381587  140827.311974     12.574584      0.548138   \n",
      "min       -1.000000  -18388.949901      0.000000      0.000000   \n",
      "25%        0.000000   -2747.423625     33.000000      1.000000   \n",
      "50%        0.000000   -1203.369529     42.000000      1.000000   \n",
      "75%        1.000000    -291.095954     53.000000      1.000000   \n",
      "max       20.000000  401755.400475     75.000000      4.000000   \n",
      "\n",
      "       family_status_id          debt   total_income  \n",
      "count      21525.000000  21525.000000   19351.000000  \n",
      "mean           0.972544      0.080883   26787.568355  \n",
      "std            1.420324      0.272661   16475.450632  \n",
      "min            0.000000      0.000000    3306.762000  \n",
      "25%            0.000000      0.000000   16488.504500  \n",
      "50%            0.000000      0.000000   23202.870000  \n",
      "75%            1.000000      0.000000   32549.611000  \n",
      "max            4.000000      1.000000  362496.645000  \n"
     ]
    }
   ],
   "source": [
    "# Calculate the average of 'days_employed' and 'total_income' by job type\n",
    "mean_by_income_type = data.groupby('income_type')[['days_employed', 'total_income']].mean()\n",
    "median_by_income_type = data.groupby('income_type')[['days_employed', 'total_income']].median()\n",
    "mode_by_income_type = data.groupby('income_type')[['days_employed', 'total_income']].agg(lambda x: x.mode().iloc[0])\n",
    "\n",
    "print(\"Mean by Income Type:\")\n",
    "print(mean_by_income_type)\n",
    "print('\\n--------------------------------------------- \\n')\n",
    "\n",
    "print(\"\\nMedian by Income Type:\")\n",
    "print(median_by_income_type)\n",
    "print('\\n--------------------------------------------- \\n')\n",
    "\n",
    "print(\"\\nMode by Income Type:\")\n",
    "print(mode_by_income_type)\n",
    "print('\\n--------------------------------------------- \\n')\n",
    "\n",
    "# Calculate the average age by job type\n",
    "mean_age_by_income_type = data.groupby('income_type')['dob_years'].mean()\n",
    "print(\"\\nMean Age by Income Type:\")\n",
    "print(mean_age_by_income_type)\n",
    "print('\\n--------------------------------------------- \\n')\n",
    "\n",
    "# Check distribution across datasets\n",
    "numerical_columns = data.select_dtypes(include=['int64', 'float64'])\n",
    "descriptive_stats = numerical_columns.describe()\n",
    "print(descriptive_stats)"
   ]
  },
  {
   "cell_type": "markdown",
   "metadata": {},
   "source": [
    "**Tentative conclusions**"
   ]
  },
  {
   "cell_type": "markdown",
   "metadata": {},
   "source": [
    "From the distribution results of the original dataset and the filtered table, there are several striking differences. For example, in a table that has been filtered for missing values, there are many cases with very high 'days_employed' values, which may reflect a problem or anomaly in the data. However, in the original dataset, the distribution of 'days_employed' is more evenly distributed.\r\n",
    "\r\n",
    "This indicates that missing 'days_employed' values in filtered tables may not occur randomly and could be associated with specific cases, such as errors in data entry or problems in the way the data is managed.\r\n",
    "\r\n",
    "The tentative conclusion is that we need to further examine why the 'days_employed' value is missing in certain cases and whether there are certain patterns or characteristics in the data that could explain this. If a clearer cause is found, then we can take further action to resolve this problem."
   ]
  },
  {
   "cell_type": "code",
   "execution_count": 12,
   "metadata": {},
   "outputs": [
    {
     "name": "stdout",
     "output_type": "stream",
     "text": [
      "Number of missing values by education type ('education') in column 'days_employed':\n",
      "education\n",
      "BACHELOR'S DEGREE      0\n",
      "Bachelor's Degree      0\n",
      "PRIMARY EDUCATION      0\n",
      "Primary Education      0\n",
      "SECONDARY EDUCATION    0\n",
      "SOME COLLEGE           0\n",
      "Secondary Education    0\n",
      "Some College           0\n",
      "bachelor's degree      0\n",
      "primary education      0\n",
      "secondary education    0\n",
      "some college           0\n",
      "Name: days_employed, dtype: int64\n"
     ]
    }
   ],
   "source": [
    "# Check for other causes and patterns that could result in missing values\n",
    "# Calculate the number of missing values based on 'education' in the 'days_employed' column\n",
    "missing_days_employed_by_education = data[data['days_employed'].isnull()].groupby('education')['days_employed'].count()\n",
    "\n",
    "print(\"Number of missing values by education type ('education') in column 'days_employed':\")\n",
    "print(missing_days_employed_by_education)"
   ]
  },
  {
   "cell_type": "markdown",
   "metadata": {},
   "source": [
    "Information:\r\n",
    "\r\n",
    "From the calculation results, it can be seen that there are no missing values in the 'days_employed' column based on the type of education ('education'). All education categories have complete values. Thus, there are no missing values in the 'days_employed' column that can be attributed to the type of education in this dataset."
   ]
  },
  {
   "cell_type": "markdown",
   "metadata": {},
   "source": [
    "**Tentative conclusions**\r\n",
    "<br>Based on the analysis that has been carried out, we cannot definitely conclude that the missing values are a coincidence. Although we examined several factors such as job type, education type, and age, we did not find a clear pattern that could explain the loss of values. However, we still need to examine other factors that may be contributing to the missing values, as well as conduct further analysis to understand whether there are certain factors that are related to the incomplete data. Next, we need to consider what action to take regarding these missing values, whether they need to be filled or not."
   ]
  },
  {
   "cell_type": "code",
   "execution_count": 13,
   "metadata": {
    "scrolled": true
   },
   "outputs": [],
   "source": [
    "# Check other patterns - explain them\n"
   ]
  },
  {
   "cell_type": "code",
   "execution_count": 14,
   "metadata": {},
   "outputs": [
    {
     "name": "stdout",
     "output_type": "stream",
     "text": [
      "          Column  Missing Values based on days_employed and total_income\n",
      "0       children                                                  0     \n",
      "1      dob_years                                                  0     \n",
      "2      education                                                  0     \n",
      "3  family_status                                                  0     \n",
      "4         gender                                                  0     \n",
      "5    income_type                                                  0     \n",
      "6           debt                                                  0     \n",
      "7        purpose                                                  0     \n"
     ]
    }
   ],
   "source": [
    "missing_values_by_column = data[['children', 'dob_years', 'education', 'family_status', 'gender', 'income_type', 'debt', 'purpose']].isnull().sum()\n",
    "missing_values_by_column = missing_values_by_column.reset_index()\n",
    "missing_values_by_column.columns = ['Column', 'Missing Values based on days_employed and total_income']\n",
    "print(missing_values_by_column)"
   ]
  },
  {
   "cell_type": "markdown",
   "metadata": {},
   "source": [
    "**Conclusions**\r\n",
    "<br>Based on the analysis results, no special pattern was found that connects certain columns with missing values in the 'days_employed' and 'total_income' columns. The number of missing values in these two columns does not appear to be correlated with the other columns.\r\n",
    "\r\n",
    "To deal with missing values, we can perform the following steps:\r\n",
    "1. **Handling Missing Values on 'days_employed' and 'total_income':**\r\n",
    "    - For the 'days_employed' column, we can fill in the missing values with the average or median value of this column based on job type (income_type), because there is a correlation between job type and 'days_employed'.\r\n",
    "    - For the 'total_income' column, we can also fill in the missing values with the average or median value based on job type (income_type).\r\n",
    "\r\n",
    "2. **Other Value Handling:**\r\n",
    "    - There are no missing values in other columns, such as 'children', 'dob_years', 'education', 'family_status', 'gender', 'debt', and 'purpose'. Therefore, we do not need to perform any special actions on these columns regarding missing values.\r\n",
    "\r\n",
    "3. **Additional Data Cleaning:**\r\n",
    "    - In addition to dealing with missing values, we also need to do additional data cleaning, such as dealing with duplicate data, normalizing data (for example, combining categories with different names), and checking the correctness of existing values.\r\n",
    "\r\n",
    "4. **Data Transformation:**\r\n",
    "    - If necessary, we can perform additional data transformations to prepare this dataset for further analysis, such as changing the data type, merging columns, or extracting new features.\r\n",
    "\r\n",
    "5. **Further Analysis:**\r\n",
    "    - Once the data has been cleaned and missing values addressed, we can proceed with further analysis, such as statistical analysis, predictive modeling, or data visualization.\r\n",
    "\r\n",
    "All of these steps will help us to process the data better and prepare it for further analysis and better decision making."
   ]
  },
  {
   "cell_type": "markdown",
   "metadata": {},
   "source": [
    "## Data transformation\n",
    "\n",
    "[Let's take a look at each column to see what problems they might have.]\n",
    "\n",
    "[Start by removing duplicates and correcting data about educational information if necessary.]"
   ]
  },
  {
   "cell_type": "code",
   "execution_count": 15,
   "metadata": {},
   "outputs": [
    {
     "data": {
      "text/plain": [
       "array([\"bachelor's degree\", 'secondary education', 'Secondary Education',\n",
       "       'SECONDARY EDUCATION', \"BACHELOR'S DEGREE\", 'some college',\n",
       "       'primary education', \"Bachelor's Degree\", 'SOME COLLEGE',\n",
       "       'Some College', 'PRIMARY EDUCATION', 'Primary Education',\n",
       "       'Graduate Degree', 'GRADUATE DEGREE', 'graduate degree'],\n",
       "      dtype=object)"
      ]
     },
     "execution_count": 15,
     "metadata": {},
     "output_type": "execute_result"
    }
   ],
   "source": [
    "# Let's look at all the values in the education column to check what spelling needs to be corrected\n",
    "data['education'].unique()"
   ]
  },
  {
   "cell_type": "code",
   "execution_count": 16,
   "metadata": {
    "scrolled": true
   },
   "outputs": [],
   "source": [
    "# Correct the recording if necessary\n",
    "data['education'] = data['education'].str.lower()"
   ]
  },
  {
   "cell_type": "code",
   "execution_count": 17,
   "metadata": {},
   "outputs": [
    {
     "data": {
      "text/plain": [
       "array([\"bachelor's degree\", 'secondary education', 'some college',\n",
       "       'primary education', 'graduate degree'], dtype=object)"
      ]
     },
     "execution_count": 17,
     "metadata": {},
     "output_type": "execute_result"
    }
   ],
   "source": [
    "# Check all the values in the column to ensure that we have corrected them appropriately\n",
    "data['education'].unique()"
   ]
  },
  {
   "cell_type": "markdown",
   "metadata": {},
   "source": [
    "[Check `children` column data]"
   ]
  },
  {
   "cell_type": "code",
   "execution_count": 18,
   "metadata": {},
   "outputs": [
    {
     "data": {
      "text/plain": [
       "array([ 1,  0,  3,  2, -1,  4, 20,  5], dtype=int64)"
      ]
     },
     "execution_count": 18,
     "metadata": {},
     "output_type": "execute_result"
    }
   ],
   "source": [
    "# Let's look at the distribution of values in the `children` column\n",
    "data['children'].unique()"
   ]
  },
  {
   "cell_type": "markdown",
   "metadata": {},
   "source": [
    "In the 'children' column, there are several strange values, namely -1 and 20. The percentage of problematic data is quite low compared to the total number of entries in the dataset, but this still requires attention. A value of -1 may be an input or data processing error that occurred accidentally. The value 20 may also be an input error, but it may actually be the case if there is a large family with 20 children.\r\n",
    "\r\n",
    "To handle these values, we can consider the value -1 as an input error and replace it with the value 1 (assuming that they have one child), while the value 20 may be the case that actually exists. However, if we feel that 20 children is too extreme, we may decide to consider it an input error and replace it with a more reasonable value, such as 2 or 3.\r\n",
    "\r\n",
    "The final choice depends on the context of the data and whether we want to retain these entries in the analysis or not. In many cases, replacing implausible values with more reasonable values is a good step to improve data quality."
   ]
  },
  {
   "cell_type": "code",
   "execution_count": 19,
   "metadata": {},
   "outputs": [],
   "source": [
    "# [correct data based on your decision]\n",
    "data['children'] = data['children'].replace(-1, 1)\n",
    "data['children'] = data['children'].replace(20, 2)"
   ]
  },
  {
   "cell_type": "code",
   "execution_count": 20,
   "metadata": {},
   "outputs": [
    {
     "data": {
      "text/plain": [
       "array([1, 0, 3, 2, 4, 5], dtype=int64)"
      ]
     },
     "execution_count": 20,
     "metadata": {},
     "output_type": "execute_result"
    }
   ],
   "source": [
    "# Check the `children` column again to ensure that everything is corrected\n",
    "data['children'].unique()"
   ]
  },
  {
   "cell_type": "markdown",
   "metadata": {},
   "source": [
    "[Check the data in the `days_employed` column. First, think about what problems the column might have, and also think about what you might want to check and how you would do it.]"
   ]
  },
  {
   "cell_type": "code",
   "execution_count": 21,
   "metadata": {},
   "outputs": [
    {
     "data": {
      "text/plain": [
       "array([-8437.67302776, -4024.80375385, -5623.42261023, ...,\n",
       "       -2113.3468877 , -3112.4817052 , -1984.50758853])"
      ]
     },
     "execution_count": 21,
     "metadata": {},
     "output_type": "execute_result"
    }
   ],
   "source": [
    "# Find problematic data in the `days_employed` column if there is a problem and calculate the percentage\n",
    "data['days_employed'].unique()"
   ]
  },
  {
   "cell_type": "code",
   "execution_count": 22,
   "metadata": {},
   "outputs": [],
   "source": [
    "# Resolve problematic values, if any\n",
    "# Replaces negative values with positive values\n",
    "data['days_employed'] = data['days_employed'].abs()"
   ]
  },
  {
   "cell_type": "code",
   "execution_count": 23,
   "metadata": {},
   "outputs": [
    {
     "data": {
      "text/plain": [
       "array([8437.67302776, 4024.80375385, 5623.42261023, ..., 2113.3468877 ,\n",
       "       3112.4817052 , 1984.50758853])"
      ]
     },
     "execution_count": 23,
     "metadata": {},
     "output_type": "execute_result"
    }
   ],
   "source": [
    "# Check the results - make sure that the problem is fixed\n",
    "data['days_employed'].unique()"
   ]
  },
  {
   "cell_type": "markdown",
   "metadata": {},
   "source": [
    "[Now, let's look at the customer's age and check if there are any problems there. Again, think about what possible oddities we could encounter in this column, such as age numbers that don't make sense.]"
   ]
  },
  {
   "cell_type": "code",
   "execution_count": 24,
   "metadata": {
    "scrolled": true
   },
   "outputs": [
    {
     "data": {
      "text/plain": [
       "array([42, 36, 33, 32, 53, 27, 43, 50, 35, 41, 40, 65, 54, 56, 26, 48, 24,\n",
       "       21, 57, 67, 28, 63, 62, 47, 34, 68, 25, 31, 30, 20, 49, 37, 45, 61,\n",
       "       64, 44, 52, 46, 23, 38, 39, 51,  0, 59, 29, 60, 55, 58, 71, 22, 73,\n",
       "       66, 69, 19, 72, 70, 74, 75], dtype=int64)"
      ]
     },
     "execution_count": 24,
     "metadata": {},
     "output_type": "execute_result"
    }
   ],
   "source": [
    "# Check `dob_years` for suspicious values and calculate the percentage\n",
    "data['dob_years'].unique()"
   ]
  },
  {
   "cell_type": "code",
   "execution_count": 25,
   "metadata": {},
   "outputs": [],
   "source": [
    "# Troubleshoot the `dob_years` column, if there is a problem\r\n",
    "# Replace the value '0' in the 'dob_years' column with the average age value\r\n",
    "average_age = data['dob_years'].mean()\r\n",
    "average_age_int = int(average_age) # Convert average age to an integer\r\n",
    "\r\n",
    "# Replace the value '0' in the 'dob_years' column with the average age value (integer)\r\n",
    "data.loc[data['dob_years'] == 0, 'dob_years'] = average_age_int"
   ]
  },
  {
   "cell_type": "code",
   "execution_count": 26,
   "metadata": {
    "scrolled": true
   },
   "outputs": [
    {
     "data": {
      "text/plain": [
       "array([42, 36, 33, 32, 53, 27, 43, 50, 35, 41, 40, 65, 54, 56, 26, 48, 24,\n",
       "       21, 57, 67, 28, 63, 62, 47, 34, 68, 25, 31, 30, 20, 49, 37, 45, 61,\n",
       "       64, 44, 52, 46, 23, 38, 39, 51, 59, 29, 60, 55, 58, 71, 22, 73, 66,\n",
       "       69, 19, 72, 70, 74, 75], dtype=int64)"
      ]
     },
     "execution_count": 26,
     "metadata": {},
     "output_type": "execute_result"
    }
   ],
   "source": [
    "# Check the results - make sure that the problem is fixed\n",
    "data['dob_years'].unique()"
   ]
  },
  {
   "cell_type": "markdown",
   "metadata": {},
   "source": [
    "[Now, it's time to check the `family_status` column. Check what kind of values are contained in this column and what problems you might need to resolve.]"
   ]
  },
  {
   "cell_type": "code",
   "execution_count": 27,
   "metadata": {},
   "outputs": [
    {
     "data": {
      "text/plain": [
       "array(['married', 'civil partnership', 'widow / widower', 'divorced',\n",
       "       'unmarried'], dtype=object)"
      ]
     },
     "execution_count": 27,
     "metadata": {},
     "output_type": "execute_result"
    }
   ],
   "source": [
    "# Let's look at the values for this column\n",
    "data['family_status'].unique()\n"
   ]
  },
  {
   "cell_type": "code",
   "execution_count": 28,
   "metadata": {},
   "outputs": [],
   "source": [
    "# Resolve problematic values in `family_status`, if any"
   ]
  },
  {
   "cell_type": "code",
   "execution_count": 29,
   "metadata": {},
   "outputs": [
    {
     "data": {
      "text/plain": [
       "array(['married', 'civil partnership', 'widow / widower', 'divorced',\n",
       "       'unmarried'], dtype=object)"
      ]
     },
     "execution_count": 29,
     "metadata": {},
     "output_type": "execute_result"
    }
   ],
   "source": [
    "# Check the results - make sure the values are corrected\n",
    "data['family_status'].unique()"
   ]
  },
  {
   "cell_type": "markdown",
   "metadata": {},
   "source": [
    "[Now, it's time to check the `gender` column. Check what kind of values are contained in this column and what problems you might need to resolve]"
   ]
  },
  {
   "cell_type": "code",
   "execution_count": 30,
   "metadata": {},
   "outputs": [
    {
     "data": {
      "text/plain": [
       "array(['F', 'M', 'XNA'], dtype=object)"
      ]
     },
     "execution_count": 30,
     "metadata": {},
     "output_type": "execute_result"
    }
   ],
   "source": [
    "# Let's look at the values in this column\n",
    "data['gender'].unique()"
   ]
  },
  {
   "cell_type": "markdown",
   "metadata": {},
   "source": [
    "there are no significant problems"
   ]
  },
  {
   "cell_type": "markdown",
   "metadata": {},
   "source": [
    "[Now, it's time to check the `income_type` column. Check what kind of values are contained in this column and what problems you might need to resolve]"
   ]
  },
  {
   "cell_type": "code",
   "execution_count": 31,
   "metadata": {
    "scrolled": true
   },
   "outputs": [
    {
     "data": {
      "text/plain": [
       "array(['employee', 'retiree', 'business', 'civil servant', 'unemployed',\n",
       "       'entrepreneur', 'student', 'paternity / maternity leave'],\n",
       "      dtype=object)"
      ]
     },
     "execution_count": 31,
     "metadata": {},
     "output_type": "execute_result"
    }
   ],
   "source": [
    "# Let's look at the values in this column\n",
    "data['income_type'].unique()"
   ]
  },
  {
   "cell_type": "markdown",
   "metadata": {},
   "source": [
    "there are no significant problems"
   ]
  },
  {
   "cell_type": "markdown",
   "metadata": {},
   "source": [
    "[Now, it's time to see if there are any duplicates in our data. If we find one, you must decide what you will do with the duplicate and explain why.]"
   ]
  },
  {
   "cell_type": "code",
   "execution_count": 32,
   "metadata": {},
   "outputs": [
    {
     "name": "stdout",
     "output_type": "stream",
     "text": [
      "       children  days_employed  dob_years            education  education_id  \\\n",
      "2849          0            NaN         41  secondary education             1   \n",
      "3290          0            NaN         58  secondary education             1   \n",
      "4182          1            NaN         34    bachelor's degree             0   \n",
      "4851          0            NaN         60  secondary education             1   \n",
      "5557          0            NaN         58  secondary education             1   \n",
      "...         ...            ...        ...                  ...           ...   \n",
      "20702         0            NaN         64  secondary education             1   \n",
      "21032         0            NaN         60  secondary education             1   \n",
      "21132         0            NaN         47  secondary education             1   \n",
      "21281         1            NaN         30    bachelor's degree             0   \n",
      "21415         0            NaN         54  secondary education             1   \n",
      "\n",
      "           family_status  family_status_id gender income_type  debt  \\\n",
      "2849             married                 0      F    employee     0   \n",
      "3290   civil partnership                 1      F     retiree     0   \n",
      "4182   civil partnership                 1      F    employee     0   \n",
      "4851   civil partnership                 1      F     retiree     0   \n",
      "5557   civil partnership                 1      F     retiree     0   \n",
      "...                  ...               ...    ...         ...   ...   \n",
      "20702            married                 0      F     retiree     0   \n",
      "21032            married                 0      F     retiree     0   \n",
      "21132            married                 0      F    employee     0   \n",
      "21281            married                 0      F    employee     0   \n",
      "21415            married                 0      F     retiree     0   \n",
      "\n",
      "       total_income                              purpose  \n",
      "2849            NaN  purchase of the house for my family  \n",
      "3290            NaN                    to have a wedding  \n",
      "4182            NaN                     wedding ceremony  \n",
      "4851            NaN                     wedding ceremony  \n",
      "5557            NaN                    to have a wedding  \n",
      "...             ...                                  ...  \n",
      "20702           NaN              supplementary education  \n",
      "21032           NaN                   to become educated  \n",
      "21132           NaN                   housing renovation  \n",
      "21281           NaN           buy commercial real estate  \n",
      "21415           NaN                 housing transactions  \n",
      "\n",
      "[71 rows x 12 columns]\n",
      "\n",
      "--------------------------------------------- \n",
      "\n",
      "Number of duplicates: 71\n"
     ]
    }
   ],
   "source": [
    "# Check for duplicates\n",
    "#Show duplicates in column form\n",
    "print(data[data.duplicated()])\n",
    "print('\\n--------------------------------------------- \\n')\n",
    "# Check for duplicates\n",
    "print(\"Number of duplicates:\", data.duplicated().sum())"
   ]
  },
  {
   "cell_type": "code",
   "execution_count": 33,
   "metadata": {},
   "outputs": [],
   "source": [
    "# Resolve duplicates, if any\n",
    "data.drop_duplicates(inplace=True)"
   ]
  },
  {
   "cell_type": "code",
   "execution_count": 34,
   "metadata": {},
   "outputs": [
    {
     "name": "stdout",
     "output_type": "stream",
     "text": [
      "Empty DataFrame\n",
      "Columns: [children, days_employed, dob_years, education, education_id, family_status, family_status_id, gender, income_type, debt, total_income, purpose]\n",
      "Index: []\n",
      "\n",
      "--------------------------------------------- \n",
      "\n",
      "Number of duplicates: 0\n"
     ]
    }
   ],
   "source": [
    "# Do a final check to check if we have any duplicates\r\n",
    "print(data[data.duplicated()])\r\n",
    "print('\\n--------------------------------------------- \\n')\r\n",
    "# Check for duplicates\r\n",
    "print(\"Number of duplicates:\", data.duplicated().sum())"
   ]
  },
  {
   "cell_type": "code",
   "execution_count": 35,
   "metadata": {},
   "outputs": [
    {
     "data": {
      "text/plain": [
       "(21454, 12)"
      ]
     },
     "execution_count": 35,
     "metadata": {},
     "output_type": "execute_result"
    }
   ],
   "source": [
    "# Check the size of the dataset you now have after the first manipulation you performed\n",
    "data.shape"
   ]
  },
  {
   "cell_type": "markdown",
   "metadata": {},
   "source": [
    "The new dataset has 21,454 rows and 12 columns, while the initial dataset has 21,525 rows and 12 columns. This means that after performing the first data manipulation, we have deleted several rows of data that had duplicates. The percentage change in the number of rows is as follows:"
   ]
  },
  {
   "cell_type": "code",
   "execution_count": 36,
   "metadata": {},
   "outputs": [
    {
     "name": "stdout",
     "output_type": "stream",
     "text": [
      "Percentage change in number of rows: 0.33 %\n"
     ]
    }
   ],
   "source": [
    "# Number of starting lines\n",
    "initial_row_count = 21525\n",
    "\n",
    "# Number of rows after the first manipulation\n",
    "current_row_count = 21454\n",
    "\n",
    "# Calculates the percentage change\n",
    "percentage_change = \"{:.2f}\".format(((initial_row_count - current_row_count) / initial_row_count) * 100)\n",
    "print(\"Percentage change in number of rows:\", percentage_change, \"%\")"
   ]
  },
  {
   "cell_type": "markdown",
   "metadata": {},
   "source": [
    "After the first manipulation, we have reduced the number of rows by approximately 0.33%."
   ]
  },
  {
   "cell_type": "markdown",
   "metadata": {},
   "source": [
    "# Work with missing values"
   ]
  },
  {
   "cell_type": "markdown",
   "metadata": {},
   "source": [
    "[To speed up work with some data, you may want to use a dictionary for some values that have IDs. Explain why and which dictionary you will use.]"
   ]
  },
  {
   "cell_type": "code",
   "execution_count": 37,
   "metadata": {},
   "outputs": [],
   "source": [
    "# Find dictionary\n",
    "# Dictionary for family_status_id\n",
    "family_status_id_dict = {\n",
    "     0: 'married',\n",
    "     1: 'civil partnership',\n",
    "     2: 'widow / widower',\n",
    "     3: 'divorced',\n",
    "     4: 'unmarried'\n",
    "}\n",
    "\n",
    "# Dictionary for education_id\n",
    "education_id_dict = {\n",
    "     0: \"bachelor's degree\",\n",
    "     1: 'secondary education',\n",
    "     2: 'some college',\n",
    "     3: 'primary education',\n",
    "     4: 'graduate degrees'\n",
    "}"
   ]
  },
  {
   "cell_type": "markdown",
   "metadata": {},
   "source": [
    "### Fixed missing value in `total income`"
   ]
  },
  {
   "cell_type": "markdown",
   "metadata": {},
   "source": [
    "[Briefly explain which columns with missing values you need to work with. Explain how you will fix it.]\n",
    "\n",
    "\n",
    "[Start by addressing the total value of lost revenue. Create age categories for customers. Create a new column containing age categories. This strategy can help to calculate the total revenue value.]"
   ]
  },
  {
   "cell_type": "code",
   "execution_count": 38,
   "metadata": {},
   "outputs": [],
   "source": [
    "# Let's write a function to calculate age categories\n",
    "def categorize_age(age):\n",
    "    if age <= 30:\n",
    "        return 'Young'\n",
    "    elif 30 < age <= 45:\n",
    "        return 'Middle-aged'\n",
    "    else:\n",
    "        return 'Elderly'\n",
    "    "
   ]
  },
  {
   "cell_type": "code",
   "execution_count": 39,
   "metadata": {},
   "outputs": [
    {
     "name": "stdout",
     "output_type": "stream",
     "text": [
      "Young\n",
      "Middle-aged\n",
      "Elderly\n"
     ]
    }
   ],
   "source": [
    "# Perform testing to see whether your function works or not\n",
    "age_1 = 25\n",
    "print (categorize_age(age_1))\n",
    "\n",
    "age_2 = 31\n",
    "print (categorize_age(age_2))\n",
    "\n",
    "age_3 = 60\n",
    "print (categorize_age(age_3))\n"
   ]
  },
  {
   "cell_type": "code",
   "execution_count": 40,
   "metadata": {},
   "outputs": [],
   "source": [
    "# Create a new column based on function\n",
    "data['age_category'] = data['dob_years'].apply(categorize_age)"
   ]
  },
  {
   "cell_type": "code",
   "execution_count": 41,
   "metadata": {},
   "outputs": [
    {
     "name": "stdout",
     "output_type": "stream",
     "text": [
      "['Middle-aged' 'Elderly' 'Young']\n"
     ]
    }
   ],
   "source": [
    "# Check how the values are in the new column\n",
    "print(data.age_category.unique())\n"
   ]
  },
  {
   "cell_type": "markdown",
   "metadata": {},
   "source": [
    "[Think about the factors that income typically depends on. In the end, you will know whether you should use the mean or median to replace the missing values. To make this decision, you may want to look at the distribution of the factors you identified as impacting a person's income.]"
   ]
  },
  {
   "cell_type": "markdown",
   "metadata": {},
   "source": [
    "[Create a table that contains only data without missing values. This data will be used to correct missing values.]"
   ]
  },
  {
   "cell_type": "code",
   "execution_count": 42,
   "metadata": {
    "scrolled": true
   },
   "outputs": [
    {
     "data": {
      "text/html": [
       "<div>\n",
       "<style scoped>\n",
       "    .dataframe tbody tr th:only-of-type {\n",
       "        vertical-align: middle;\n",
       "    }\n",
       "\n",
       "    .dataframe tbody tr th {\n",
       "        vertical-align: top;\n",
       "    }\n",
       "\n",
       "    .dataframe thead th {\n",
       "        text-align: right;\n",
       "    }\n",
       "</style>\n",
       "<table border=\"1\" class=\"dataframe\">\n",
       "  <thead>\n",
       "    <tr style=\"text-align: right;\">\n",
       "      <th></th>\n",
       "      <th>children</th>\n",
       "      <th>days_employed</th>\n",
       "      <th>dob_years</th>\n",
       "      <th>education</th>\n",
       "      <th>education_id</th>\n",
       "      <th>family_status</th>\n",
       "      <th>family_status_id</th>\n",
       "      <th>gender</th>\n",
       "      <th>income_type</th>\n",
       "      <th>debt</th>\n",
       "      <th>total_income</th>\n",
       "      <th>purpose</th>\n",
       "      <th>age_category</th>\n",
       "    </tr>\n",
       "  </thead>\n",
       "  <tbody>\n",
       "    <tr>\n",
       "      <th>0</th>\n",
       "      <td>1</td>\n",
       "      <td>8437.673028</td>\n",
       "      <td>42</td>\n",
       "      <td>bachelor's degree</td>\n",
       "      <td>0</td>\n",
       "      <td>married</td>\n",
       "      <td>0</td>\n",
       "      <td>F</td>\n",
       "      <td>employee</td>\n",
       "      <td>0</td>\n",
       "      <td>40620.102</td>\n",
       "      <td>purchase of the house</td>\n",
       "      <td>Middle-aged</td>\n",
       "    </tr>\n",
       "    <tr>\n",
       "      <th>1</th>\n",
       "      <td>1</td>\n",
       "      <td>4024.803754</td>\n",
       "      <td>36</td>\n",
       "      <td>secondary education</td>\n",
       "      <td>1</td>\n",
       "      <td>married</td>\n",
       "      <td>0</td>\n",
       "      <td>F</td>\n",
       "      <td>employee</td>\n",
       "      <td>0</td>\n",
       "      <td>17932.802</td>\n",
       "      <td>car purchase</td>\n",
       "      <td>Middle-aged</td>\n",
       "    </tr>\n",
       "    <tr>\n",
       "      <th>2</th>\n",
       "      <td>0</td>\n",
       "      <td>5623.422610</td>\n",
       "      <td>33</td>\n",
       "      <td>secondary education</td>\n",
       "      <td>1</td>\n",
       "      <td>married</td>\n",
       "      <td>0</td>\n",
       "      <td>M</td>\n",
       "      <td>employee</td>\n",
       "      <td>0</td>\n",
       "      <td>23341.752</td>\n",
       "      <td>purchase of the house</td>\n",
       "      <td>Middle-aged</td>\n",
       "    </tr>\n",
       "    <tr>\n",
       "      <th>3</th>\n",
       "      <td>3</td>\n",
       "      <td>4124.747207</td>\n",
       "      <td>32</td>\n",
       "      <td>secondary education</td>\n",
       "      <td>1</td>\n",
       "      <td>married</td>\n",
       "      <td>0</td>\n",
       "      <td>M</td>\n",
       "      <td>employee</td>\n",
       "      <td>0</td>\n",
       "      <td>42820.568</td>\n",
       "      <td>supplementary education</td>\n",
       "      <td>Middle-aged</td>\n",
       "    </tr>\n",
       "    <tr>\n",
       "      <th>4</th>\n",
       "      <td>0</td>\n",
       "      <td>340266.072047</td>\n",
       "      <td>53</td>\n",
       "      <td>secondary education</td>\n",
       "      <td>1</td>\n",
       "      <td>civil partnership</td>\n",
       "      <td>1</td>\n",
       "      <td>F</td>\n",
       "      <td>retiree</td>\n",
       "      <td>0</td>\n",
       "      <td>25378.572</td>\n",
       "      <td>to have a wedding</td>\n",
       "      <td>Elderly</td>\n",
       "    </tr>\n",
       "  </tbody>\n",
       "</table>\n",
       "</div>"
      ],
      "text/plain": [
       "   children  days_employed  dob_years            education  education_id  \\\n",
       "0         1    8437.673028         42    bachelor's degree             0   \n",
       "1         1    4024.803754         36  secondary education             1   \n",
       "2         0    5623.422610         33  secondary education             1   \n",
       "3         3    4124.747207         32  secondary education             1   \n",
       "4         0  340266.072047         53  secondary education             1   \n",
       "\n",
       "       family_status  family_status_id gender income_type  debt  total_income  \\\n",
       "0            married                 0      F    employee     0     40620.102   \n",
       "1            married                 0      F    employee     0     17932.802   \n",
       "2            married                 0      M    employee     0     23341.752   \n",
       "3            married                 0      M    employee     0     42820.568   \n",
       "4  civil partnership                 1      F     retiree     0     25378.572   \n",
       "\n",
       "                   purpose age_category  \n",
       "0    purchase of the house  Middle-aged  \n",
       "1             car purchase  Middle-aged  \n",
       "2    purchase of the house  Middle-aged  \n",
       "3  supplementary education  Middle-aged  \n",
       "4        to have a wedding      Elderly  "
      ]
     },
     "execution_count": 42,
     "metadata": {},
     "output_type": "execute_result"
    }
   ],
   "source": [
    "# Create a table with no missing values and display some of its rows to make sure everything works fine\n",
    "# Create a table with no missing values\n",
    "data_without_missing = data.dropna(subset=['total_income'])\n",
    "\n",
    "# Display multiple rows from a table without missing values\n",
    "data_without_missing.head()"
   ]
  },
  {
   "cell_type": "code",
   "execution_count": 43,
   "metadata": {},
   "outputs": [
    {
     "name": "stdout",
     "output_type": "stream",
     "text": [
      "Average income by Age Category:\n",
      "age_category\n",
      "Elderly        25605.151757\n",
      "Middle-aged    28463.752600\n",
      "Young          25817.674826\n",
      "Name: total_income, dtype: float64\n"
     ]
    }
   ],
   "source": [
    "# Pay attention to the average value for income based on the factors you have identified\n",
    "# Pay attention to the average value of income based on age category ('age_category')\n",
    "age_category_income_mean = data_without_missing.groupby('age_category')['total_income'].mean()\n",
    "\n",
    "# Show the results\n",
    "print(\"Average income by Age Category:\")\n",
    "print(age_category_income_mean)"
   ]
  },
  {
   "cell_type": "code",
   "execution_count": 44,
   "metadata": {
    "scrolled": true
   },
   "outputs": [
    {
     "name": "stdout",
     "output_type": "stream",
     "text": [
      "Median income by Age Category:\n",
      "age_category\n",
      "Elderly        22112.4450\n",
      "Middle-aged    24750.7935\n",
      "Young          22957.1850\n",
      "Name: total_income, dtype: float64\n"
     ]
    }
   ],
   "source": [
    "# Pay attention to the median value for income based on the factors you have identified\n",
    "# Calculates median income by age category ('age_category')\n",
    "age_category_income_median = data_without_missing.groupby('age_category')['total_income'].median()\n",
    "\n",
    "# Displays the results\n",
    "print(\"Median income by Age Category:\")\n",
    "print(age_category_income_median)"
   ]
  },
  {
   "cell_type": "markdown",
   "metadata": {},
   "source": [
    "The characteristics that most determine income are usually age, occupation (income_type), and level of education (education). In this analysis, we have categorized customers based on their age, and see that there are significant income differences between the age categories \"Elderly,\" \"Middle-aged,\" and \"Young.\"\r\n",
    "\r\n",
    "As a solution to replace the missing values in the 'total_income' column, I will use the median income by age category ('age_category'). The reason for using the median is because it is more resistant to outliers and extreme data that can affect the average. By using the median, we will take into account more conservatively the income characteristics of each age group.\r\n",
    "\r\n",
    "Thus, we will replace the missing values in the 'total_income' column based on the age category of each customer, using the median income for the respective age category. This will provide a more realistic income estimate based on the customer's age group."
   ]
  },
  {
   "cell_type": "code",
   "execution_count": 45,
   "metadata": {},
   "outputs": [],
   "source": [
    "# Write the function we will use to fill in the missing values\n",
    "\n",
    "# Calculate median income based on income_type\n",
    "income_type_median = data.groupby('income_type')['total_income'].median()\n",
    "\n",
    "# Function to fill in missing values\n",
    "def fill_missing_income(row):\n",
    "     income_type = row['income_type']\n",
    "     median_income = income_type_median[income_type]\n",
    "     if pd.isnull(row['total_income']):\n",
    "         return median_income\n",
    "     return row['total_income']\n",
    "\n",
    "# Fill missing values with median based on income_type\n",
    "data['total_income'] = data.apply(fill_missing_income, axis=1)"
   ]
  },
  {
   "cell_type": "code",
   "execution_count": 46,
   "metadata": {
    "scrolled": true
   },
   "outputs": [
    {
     "data": {
      "text/html": [
       "<div>\n",
       "<style scoped>\n",
       "    .dataframe tbody tr th:only-of-type {\n",
       "        vertical-align: middle;\n",
       "    }\n",
       "\n",
       "    .dataframe tbody tr th {\n",
       "        vertical-align: top;\n",
       "    }\n",
       "\n",
       "    .dataframe thead th {\n",
       "        text-align: right;\n",
       "    }\n",
       "</style>\n",
       "<table border=\"1\" class=\"dataframe\">\n",
       "  <thead>\n",
       "    <tr style=\"text-align: right;\">\n",
       "      <th></th>\n",
       "      <th>children</th>\n",
       "      <th>days_employed</th>\n",
       "      <th>dob_years</th>\n",
       "      <th>education</th>\n",
       "      <th>education_id</th>\n",
       "      <th>family_status</th>\n",
       "      <th>family_status_id</th>\n",
       "      <th>gender</th>\n",
       "      <th>income_type</th>\n",
       "      <th>debt</th>\n",
       "      <th>total_income</th>\n",
       "      <th>purpose</th>\n",
       "      <th>age_category</th>\n",
       "    </tr>\n",
       "  </thead>\n",
       "  <tbody>\n",
       "    <tr>\n",
       "      <th>0</th>\n",
       "      <td>1</td>\n",
       "      <td>8437.673028</td>\n",
       "      <td>42</td>\n",
       "      <td>bachelor's degree</td>\n",
       "      <td>0</td>\n",
       "      <td>married</td>\n",
       "      <td>0</td>\n",
       "      <td>F</td>\n",
       "      <td>employee</td>\n",
       "      <td>0</td>\n",
       "      <td>40620.102</td>\n",
       "      <td>purchase of the house</td>\n",
       "      <td>Middle-aged</td>\n",
       "    </tr>\n",
       "    <tr>\n",
       "      <th>1</th>\n",
       "      <td>1</td>\n",
       "      <td>4024.803754</td>\n",
       "      <td>36</td>\n",
       "      <td>secondary education</td>\n",
       "      <td>1</td>\n",
       "      <td>married</td>\n",
       "      <td>0</td>\n",
       "      <td>F</td>\n",
       "      <td>employee</td>\n",
       "      <td>0</td>\n",
       "      <td>17932.802</td>\n",
       "      <td>car purchase</td>\n",
       "      <td>Middle-aged</td>\n",
       "    </tr>\n",
       "    <tr>\n",
       "      <th>2</th>\n",
       "      <td>0</td>\n",
       "      <td>5623.422610</td>\n",
       "      <td>33</td>\n",
       "      <td>secondary education</td>\n",
       "      <td>1</td>\n",
       "      <td>married</td>\n",
       "      <td>0</td>\n",
       "      <td>M</td>\n",
       "      <td>employee</td>\n",
       "      <td>0</td>\n",
       "      <td>23341.752</td>\n",
       "      <td>purchase of the house</td>\n",
       "      <td>Middle-aged</td>\n",
       "    </tr>\n",
       "    <tr>\n",
       "      <th>3</th>\n",
       "      <td>3</td>\n",
       "      <td>4124.747207</td>\n",
       "      <td>32</td>\n",
       "      <td>secondary education</td>\n",
       "      <td>1</td>\n",
       "      <td>married</td>\n",
       "      <td>0</td>\n",
       "      <td>M</td>\n",
       "      <td>employee</td>\n",
       "      <td>0</td>\n",
       "      <td>42820.568</td>\n",
       "      <td>supplementary education</td>\n",
       "      <td>Middle-aged</td>\n",
       "    </tr>\n",
       "    <tr>\n",
       "      <th>4</th>\n",
       "      <td>0</td>\n",
       "      <td>340266.072047</td>\n",
       "      <td>53</td>\n",
       "      <td>secondary education</td>\n",
       "      <td>1</td>\n",
       "      <td>civil partnership</td>\n",
       "      <td>1</td>\n",
       "      <td>F</td>\n",
       "      <td>retiree</td>\n",
       "      <td>0</td>\n",
       "      <td>25378.572</td>\n",
       "      <td>to have a wedding</td>\n",
       "      <td>Elderly</td>\n",
       "    </tr>\n",
       "  </tbody>\n",
       "</table>\n",
       "</div>"
      ],
      "text/plain": [
       "   children  days_employed  dob_years            education  education_id  \\\n",
       "0         1    8437.673028         42    bachelor's degree             0   \n",
       "1         1    4024.803754         36  secondary education             1   \n",
       "2         0    5623.422610         33  secondary education             1   \n",
       "3         3    4124.747207         32  secondary education             1   \n",
       "4         0  340266.072047         53  secondary education             1   \n",
       "\n",
       "       family_status  family_status_id gender income_type  debt  total_income  \\\n",
       "0            married                 0      F    employee     0     40620.102   \n",
       "1            married                 0      F    employee     0     17932.802   \n",
       "2            married                 0      M    employee     0     23341.752   \n",
       "3            married                 0      M    employee     0     42820.568   \n",
       "4  civil partnership                 1      F     retiree     0     25378.572   \n",
       "\n",
       "                   purpose age_category  \n",
       "0    purchase of the house  Middle-aged  \n",
       "1             car purchase  Middle-aged  \n",
       "2    purchase of the house  Middle-aged  \n",
       "3  supplementary education  Middle-aged  \n",
       "4        to have a wedding      Elderly  "
      ]
     },
     "execution_count": 46,
     "metadata": {},
     "output_type": "execute_result"
    }
   ],
   "source": [
    "# Check how the values are in the new column\n",
    "data.head()"
   ]
  },
  {
   "cell_type": "code",
   "execution_count": 47,
   "metadata": {},
   "outputs": [],
   "source": [
    "# Apply the function to each row\n",
    "# Define a function to fill in missing values\n",
    "def fill_missing_income(row):\n",
    "     income_type = row['income_type']\n",
    "     median_income = income_type_median[income_type]\n",
    "     if pd.isnull(row['total_income']):\n",
    "         return median_income\n",
    "     else:\n",
    "         return row['total_income']\n",
    "\n",
    "# Apply the function to each row in the 'total_income' column\n",
    "data['total_income'] = data.apply(fill_missing_income, axis=1)"
   ]
  },
  {
   "cell_type": "code",
   "execution_count": 48,
   "metadata": {},
   "outputs": [
    {
     "name": "stdout",
     "output_type": "stream",
     "text": [
      "Number of missing values in column 'total_income': 0\n"
     ]
    }
   ],
   "source": [
    "# Check if we get any errors\n",
    "missing_income = data['total_income'].isnull().sum()\n",
    "print(\"Number of missing values in column 'total_income':\", missing_income)"
   ]
  },
  {
   "cell_type": "markdown",
   "metadata": {},
   "source": [
    "[After you are done with `total income`, check that the total number of values in this column matches the number of values in the other columns.]"
   ]
  },
  {
   "cell_type": "code",
   "execution_count": 49,
   "metadata": {},
   "outputs": [
    {
     "name": "stdout",
     "output_type": "stream",
     "text": [
      "<class 'pandas.core.frame.DataFrame'>\n",
      "Index: 21454 entries, 0 to 21524\n",
      "Data columns (total 13 columns):\n",
      " #   Column            Non-Null Count  Dtype  \n",
      "---  ------            --------------  -----  \n",
      " 0   children          21454 non-null  int64  \n",
      " 1   days_employed     19351 non-null  float64\n",
      " 2   dob_years         21454 non-null  int64  \n",
      " 3   education         21454 non-null  object \n",
      " 4   education_id      21454 non-null  int64  \n",
      " 5   family_status     21454 non-null  object \n",
      " 6   family_status_id  21454 non-null  int64  \n",
      " 7   gender            21454 non-null  object \n",
      " 8   income_type       21454 non-null  object \n",
      " 9   debt              21454 non-null  int64  \n",
      " 10  total_income      21454 non-null  float64\n",
      " 11  purpose           21454 non-null  object \n",
      " 12  age_category      21454 non-null  object \n",
      "dtypes: float64(2), int64(5), object(6)\n",
      "memory usage: 2.3+ MB\n"
     ]
    }
   ],
   "source": [
    "# Check the number of entries in the column\n",
    "data.info()"
   ]
  },
  {
   "cell_type": "markdown",
   "metadata": {},
   "source": [
    "### Fixed value in `days_employed`"
   ]
  },
  {
   "cell_type": "markdown",
   "metadata": {},
   "source": [
    "[Think about parameters that could help you fix the missing values in this column. In the end, you will know whether you should use the mean or median to replace the missing values. You may need to do the same research you did when correcting the data in the previous column.]"
   ]
  },
  {
   "cell_type": "code",
   "execution_count": 50,
   "metadata": {
    "scrolled": true
   },
   "outputs": [
    {
     "name": "stdout",
     "output_type": "stream",
     "text": [
      "Median days_employed based on age_category:\n",
      "age_category\n",
      "Elderly        5861.808462\n",
      "Middle-aged    1741.796379\n",
      "Young          1046.095163\n",
      "Name: days_employed, dtype: float64\n"
     ]
    }
   ],
   "source": [
    "# Median distribution of `days_employed` based on the parameters you identified\n",
    "# Calculate median 'days_employed' based on 'age_category'\n",
    "days_employed_median = data.groupby('age_category')['days_employed'].median()\n",
    "\n",
    "# Show the results\n",
    "print(\"Median days_employed based on age_category:\")\n",
    "print(days_employed_median)"
   ]
  },
  {
   "cell_type": "code",
   "execution_count": 51,
   "metadata": {},
   "outputs": [
    {
     "name": "stdout",
     "output_type": "stream",
     "text": [
      "Average distribution of `days_employed` by `age_category`:\n",
      "age_category\n",
      "Elderly        149995.344181\n",
      "Middle-aged      6890.874098\n",
      "Young            2027.154893\n",
      "Name: days_employed, dtype: float64\n"
     ]
    }
   ],
   "source": [
    "# Average distribution of `days_employed` based on the parameters you identified\n",
    "# Calculates the average of `days_employed` based on `age_category`\n",
    "average_days_employed = data.groupby('age_category')['days_employed'].mean()\n",
    "\n",
    "# Displays the results\n",
    "print(\"Average distribution of `days_employed` by `age_category`:\")\n",
    "print(average_days_employed)"
   ]
  },
  {
   "cell_type": "markdown",
   "metadata": {},
   "source": [
    "Based on the results of the mean and median distribution of `days_employed` based on `age_category`, there is a significant difference in the mean and median values, especially in the category \"Elderly.\" The average value is much higher than the median value, which indicates the presence of outliers (extreme values) in the data. Outliers can significantly influence the average value.\r\n",
    "\r\n",
    "To deal with outliers and ensure more stable results, it is better to use the median value rather than the average. The median is a central measure that is more resistant to outliers, so it better represents the central tendency of the data when extreme values are present.\r\n",
    "\r\n",
    "So, in this case, it is better to use median to replace missing values in `days_employed` column based on `age_category`."
   ]
  },
  {
   "cell_type": "code",
   "execution_count": 52,
   "metadata": {},
   "outputs": [],
   "source": [
    "# Let's write a function that calculates the mean or median (depending on your decision) based on the parameters you identified\n",
    "def calculate_median_days_employed(data, age_category):\n",
    "    median = data[data['age_category'] == age_category]['days_employed'].median()\n",
    "    return median"
   ]
  },
  {
   "cell_type": "code",
   "execution_count": 53,
   "metadata": {
    "scrolled": true
   },
   "outputs": [
    {
     "name": "stdout",
     "output_type": "stream",
     "text": [
      "Median days_employed for category 'age_category':\n",
      "Elderly: 5861.808461725183\n",
      "Middle-aged: 1741.7963788170914\n",
      "Young: 1046.095163372449\n"
     ]
    }
   ],
   "source": [
    "# Check if your function works\n",
    "# Example of using the function\n",
    "median_elderly = calculate_median_days_employed(data, 'Elderly')\n",
    "median_middle_aged = calculate_median_days_employed(data, 'Middle-aged')\n",
    "median_young = calculate_median_days_employed(data, 'Young')\n",
    "\n",
    "# Show the results\n",
    "print(\"Median days_employed for category 'age_category':\")\n",
    "print(f\"Elderly: {median_elderly}\")\n",
    "print(f\"Middle-aged: {median_middle_aged}\")\n",
    "print(f\"Young: {median_young}\")"
   ]
  },
  {
   "cell_type": "code",
   "execution_count": 54,
   "metadata": {},
   "outputs": [],
   "source": [
    "# Apply function to income_type\n",
    "def calculate_median_days_employed_by_income_type(data, income_type):\n",
    "     # Filter data based on income_type\n",
    "     filtered_data = data[data['income_type'] == income_type]\n",
    "    \n",
    "     # Calculate median days_employed\n",
    "     median_days_employed = filtered_data['days_employed'].median()\n",
    "    \n",
    "     return median_days_employed"
   ]
  },
  {
   "cell_type": "code",
   "execution_count": 55,
   "metadata": {
    "scrolled": true
   },
   "outputs": [
    {
     "name": "stdout",
     "output_type": "stream",
     "text": [
      "Median days_employed based on income_type:\n",
      "- employee: 1574.2028211070854\n",
      "- retiree: 365213.3062657312\n",
      "- business: 1547.3822226779334\n",
      "- civil servant: 2689.3683533043886\n",
      "- unemployed: 366413.65274420456\n",
      "- entrepreneur: 520.8480834953765\n",
      "- student: 578.7515535382181\n",
      "- paternity / maternity leave: 3296.7599620220594\n"
     ]
    }
   ],
   "source": [
    "# Check if your function works\n",
    "# Example of using the function\n",
    "income_types = data['income_type'].unique()\n",
    "\n",
    "print(\"Median days_employed based on income_type:\")\n",
    "for income_type in income_types:\n",
    "     median_days_employed = calculate_median_days_employed_by_income_type(data, income_type)\n",
    "     print(f\"- {income_type}: {median_days_employed}\")"
   ]
  },
  {
   "cell_type": "code",
   "execution_count": 56,
   "metadata": {},
   "outputs": [],
   "source": [
    "# Replace missing values\n",
    "def fill_missing_days_employed(row):\n",
    "     if pd.isnull(row['days_employed']):\n",
    "         income_type = row['income_type']\n",
    "         median_days_employed = calculate_median_days_employed_by_income_type(data, income_type)\n",
    "         return median_days_employed\n",
    "     else:\n",
    "         return row['days_employed']\n",
    "\n",
    "# Apply function to 'days_employed' column\n",
    "data['days_employed'] = data.apply(fill_missing_days_employed, axis=1)"
   ]
  },
  {
   "cell_type": "markdown",
   "metadata": {},
   "source": [
    "[After you are done with `total income`, check that the total number of values in this column matches the number of values in the other columns.]"
   ]
  },
  {
   "cell_type": "code",
   "execution_count": 57,
   "metadata": {
    "scrolled": true
   },
   "outputs": [
    {
     "name": "stdout",
     "output_type": "stream",
     "text": [
      "<class 'pandas.core.frame.DataFrame'>\n",
      "Index: 21454 entries, 0 to 21524\n",
      "Data columns (total 13 columns):\n",
      " #   Column            Non-Null Count  Dtype  \n",
      "---  ------            --------------  -----  \n",
      " 0   children          21454 non-null  int64  \n",
      " 1   days_employed     21454 non-null  float64\n",
      " 2   dob_years         21454 non-null  int64  \n",
      " 3   education         21454 non-null  object \n",
      " 4   education_id      21454 non-null  int64  \n",
      " 5   family_status     21454 non-null  object \n",
      " 6   family_status_id  21454 non-null  int64  \n",
      " 7   gender            21454 non-null  object \n",
      " 8   income_type       21454 non-null  object \n",
      " 9   debt              21454 non-null  int64  \n",
      " 10  total_income      21454 non-null  float64\n",
      " 11  purpose           21454 non-null  object \n",
      " 12  age_category      21454 non-null  object \n",
      "dtypes: float64(2), int64(5), object(6)\n",
      "memory usage: 2.3+ MB\n"
     ]
    }
   ],
   "source": [
    "# Check entries in all columns - make sure we fix all missing values\n",
    "data.info()"
   ]
  },
  {
   "cell_type": "markdown",
   "metadata": {},
   "source": [
    "## Data categorization\n",
    "\n",
    "[To answer questions and test hypotheses, you will work with categorized data. Look at the questions that are asked of you and that you have to answer. Think about which data needs to be categorized to answer these questions. Below, you will find a template that you can use to categorize data. The first process includes text data; the second discusses numerical data that needs to be categorized."
   ]
  },
  {
   "cell_type": "code",
   "execution_count": 58,
   "metadata": {
    "scrolled": true
   },
   "outputs": [
    {
     "name": "stdout",
     "output_type": "stream",
     "text": [
      "['purchase of the house' 'car purchase' 'supplementary education'\n",
      " 'to have a wedding' 'housing transactions' 'education' 'having a wedding'\n",
      " 'purchase of the house for my family' 'buy real estate'\n",
      " 'buy commercial real estate' 'buy residential real estate'\n",
      " 'construction of own property' 'property' 'building a property'\n",
      " 'buying a second-hand car' 'buying my own car'\n",
      " 'transactions with commercial real estate' 'building a real estate'\n",
      " 'housing' 'transactions with my real estate' 'cars' 'to become educated'\n",
      " 'second-hand car purchase' 'getting an education' 'car'\n",
      " 'wedding ceremony' 'to get a supplementary education'\n",
      " 'purchase of my own house' 'real estate transactions'\n",
      " 'getting higher education' 'to own a car' 'purchase of a car'\n",
      " 'profile education' 'university education'\n",
      " 'buying property for renting out' 'to buy a car' 'housing renovation'\n",
      " 'going to university']\n",
      "\n",
      "---------------------------------------------\n",
      "\n",
      "[40620.102 17932.802 23341.752 ... 14347.61  39054.888 13127.587]\n"
     ]
    }
   ],
   "source": [
    "# Display the data values you selected for categorization\n",
    "print(data['purpose'].unique())\n",
    "print('\\n---------------------------------------------\\n')\n",
    "print(data['total_income'].unique())"
   ]
  },
  {
   "cell_type": "markdown",
   "metadata": {},
   "source": [
    "[Let's check the unique value]"
   ]
  },
  {
   "cell_type": "code",
   "execution_count": 59,
   "metadata": {},
   "outputs": [
    {
     "data": {
      "text/plain": [
       "array(['purchase of the house', 'car purchase', 'supplementary education',\n",
       "       'to have a wedding', 'housing transactions', 'education',\n",
       "       'having a wedding', 'purchase of the house for my family',\n",
       "       'buy real estate', 'buy commercial real estate',\n",
       "       'buy residential real estate', 'construction of own property',\n",
       "       'property', 'building a property', 'buying a second-hand car',\n",
       "       'buying my own car', 'transactions with commercial real estate',\n",
       "       'building a real estate', 'housing',\n",
       "       'transactions with my real estate', 'cars', 'to become educated',\n",
       "       'second-hand car purchase', 'getting an education', 'car',\n",
       "       'wedding ceremony', 'to get a supplementary education',\n",
       "       'purchase of my own house', 'real estate transactions',\n",
       "       'getting higher education', 'to own a car', 'purchase of a car',\n",
       "       'profile education', 'university education',\n",
       "       'buying property for renting out', 'to buy a car',\n",
       "       'housing renovation', 'going to university'], dtype=object)"
      ]
     },
     "execution_count": 59,
     "metadata": {},
     "output_type": "execute_result"
    }
   ],
   "source": [
    "# Check unique values\n",
    "data['purpose'].unique()"
   ]
  },
  {
   "cell_type": "code",
   "execution_count": 60,
   "metadata": {},
   "outputs": [
    {
     "name": "stdout",
     "output_type": "stream",
     "text": [
      "                   purpose purpose_category\n",
      "0    purchase of the house          housing\n",
      "1             car purchase             cars\n",
      "2    purchase of the house          housing\n",
      "3  supplementary education        education\n",
      "4        to have a wedding          wedding\n",
      "\n",
      "--------------------------------------------- \n",
      "\n",
      "  Purpose Category  Count\n",
      "0          housing  10811\n",
      "1             cars   4306\n",
      "2        education   4013\n",
      "3          wedding   2324\n"
     ]
    }
   ],
   "source": [
    "# Let's write a function to categorize data based on general topics\n",
    "# Create a function to perform categorization mapping\n",
    "def categorize_purpose(purpose):\n",
    "     if 'hous' in purpose:\n",
    "         return 'housing'\n",
    "     elif 'real' in purpose:\n",
    "         return 'housing'\n",
    "     elif 'propert' in purpose:\n",
    "         return 'housing'\n",
    "     elif 'educat' in purpose:\n",
    "         return 'education'\n",
    "     elif 'univers' in purpose:\n",
    "         return 'education'\n",
    "     elif 'car' in purpose:\n",
    "         return 'cars'\n",
    "     elif 'weddi' in purpose:\n",
    "         return 'wedding'\n",
    "     else:\n",
    "         return 'Other'\n",
    "\n",
    "# Using the apply function to create a new column 'purpose_category'\n",
    "data['purpose_category'] = data['purpose'].apply(categorize_purpose)\n",
    "\n",
    "# Show the results\n",
    "print(data[['purpose', 'purpose_category']].head())\n",
    "print('\\n--------------------------------------------- \\n')\n",
    "\n",
    "purpose_distribution = data['purpose_category'].value_counts().reset_index()\n",
    "purpose_distribution.columns = ['Purpose Category', 'Count']\n",
    "print(purpose_distribution)"
   ]
  },
  {
   "cell_type": "code",
   "execution_count": 61,
   "metadata": {},
   "outputs": [],
   "source": [
    "# Create a column containing categories and calculate the values\n",
    "def categorize_income(total_income):\n",
    "    if total_income <= 30000:\n",
    "        return 'Low Income'\n",
    "    elif 30000 < total_income <= 50000:\n",
    "        return 'Moderate Income'\n",
    "    elif 50000 < total_income <= 80000:\n",
    "        return 'Middle Income'\n",
    "    else:\n",
    "        return 'High Income'\n"
   ]
  },
  {
   "cell_type": "code",
   "execution_count": 62,
   "metadata": {},
   "outputs": [
    {
     "name": "stdout",
     "output_type": "stream",
     "text": [
      "<class 'pandas.core.frame.DataFrame'>\n",
      "Index: 21454 entries, 0 to 21524\n",
      "Data columns (total 14 columns):\n",
      " #   Column            Non-Null Count  Dtype  \n",
      "---  ------            --------------  -----  \n",
      " 0   children          21454 non-null  int64  \n",
      " 1   days_employed     21454 non-null  float64\n",
      " 2   dob_years         21454 non-null  int64  \n",
      " 3   education         21454 non-null  object \n",
      " 4   education_id      21454 non-null  int64  \n",
      " 5   family_status     21454 non-null  object \n",
      " 6   family_status_id  21454 non-null  int64  \n",
      " 7   gender            21454 non-null  object \n",
      " 8   income_type       21454 non-null  object \n",
      " 9   debt              21454 non-null  int64  \n",
      " 10  total_income      21454 non-null  float64\n",
      " 11  purpose           21454 non-null  object \n",
      " 12  age_category      21454 non-null  object \n",
      " 13  purpose_category  21454 non-null  object \n",
      "dtypes: float64(2), int64(5), object(7)\n",
      "memory usage: 2.5+ MB\n",
      "       dob_years  total_income  days_employed\n",
      "0             42     40620.102           8437\n",
      "1             36     17932.802           4024\n",
      "2             33     23341.752           5623\n",
      "3             32     42820.568           4124\n",
      "4             53     25378.572         340266\n",
      "...          ...           ...            ...\n",
      "21520         43     35966.698           4529\n",
      "21521         67     24959.969         343937\n",
      "21522         38     14347.610           2113\n",
      "21523         38     39054.888           3112\n",
      "21524         40     13127.587           1984\n",
      "\n",
      "[21454 rows x 3 columns]\n"
     ]
    }
   ],
   "source": [
    "# View all numeric data in the column you selected for categorization\n",
    "data.info()\n",
    "\n",
    "# Change the data type of column 'days_employed' to integer\n",
    "data['days_employed'] = data['days_employed'].astype(int)\n",
    "# Change the data type of column 'dob_years' to integer\n",
    "data['dob_years'] = data['dob_years'].astype(int)\n",
    "\n",
    "print(data[['dob_years', 'total_income', 'days_employed']])"
   ]
  },
  {
   "cell_type": "code",
   "execution_count": 63,
   "metadata": {},
   "outputs": [
    {
     "name": "stdout",
     "output_type": "stream",
     "text": [
      "          dob_years   total_income  days_employed\n",
      "count  21454.000000   21454.000000   21454.000000\n",
      "mean      43.473665   26451.212929   67058.782838\n",
      "std       12.213507   15709.968189  139199.750945\n",
      "min       19.000000    3306.762000      24.000000\n",
      "25%       33.000000   17219.817250    1023.000000\n",
      "50%       43.000000   22815.103500    1996.000000\n",
      "75%       53.000000   31331.348000    5320.000000\n",
      "max       75.000000  362496.645000  401755.000000\n"
     ]
    }
   ],
   "source": [
    "# Get statistical conclusions for the column\n",
    "print(data[['dob_years', 'total_income', 'days_employed']].describe())\n"
   ]
  },
  {
   "cell_type": "code",
   "execution_count": 64,
   "metadata": {},
   "outputs": [],
   "source": [
    "# Create a function that performs categorization into different numeric groups based on ranges"
   ]
  },
  {
   "cell_type": "code",
   "execution_count": 65,
   "metadata": {},
   "outputs": [],
   "source": [
    "# Create a column containing categories\n",
    "data['income_category'] = data['total_income'].apply(categorize_income)"
   ]
  },
  {
   "cell_type": "code",
   "execution_count": 66,
   "metadata": {
    "scrolled": true
   },
   "outputs": [
    {
     "name": "stdout",
     "output_type": "stream",
     "text": [
      "count          21454\n",
      "unique             4\n",
      "top       Low Income\n",
      "freq           15534\n",
      "Name: income_category, dtype: object\n",
      "\n",
      "---------------------------------------------\n",
      "\n",
      "   Income Category  Count\n",
      "0       Low Income  15534\n",
      "1  Moderate Income   4599\n",
      "2    Middle Income   1099\n",
      "3      High Income    222\n"
     ]
    }
   ],
   "source": [
    "# Calculate each category value to see its distribution\n",
    "print(data['income_category'].describe())\n",
    "print('\\n---------------------------------------------\\n')\n",
    "\n",
    "income_distribution = data['income_category'].value_counts().reset_index()\n",
    "income_distribution.columns = ['Income Category', 'Count']\n",
    "print(income_distribution)"
   ]
  },
  {
   "cell_type": "code",
   "execution_count": 67,
   "metadata": {},
   "outputs": [],
   "source": [
    "## Checking hypotheses"
   ]
  },
  {
   "cell_type": "markdown",
   "metadata": {},
   "source": [
    "**Is there a correlation between having children and the probability of defaulting on a loan?**"
   ]
  },
  {
   "cell_type": "code",
   "execution_count": 68,
   "metadata": {},
   "outputs": [
    {
     "name": "stdout",
     "output_type": "stream",
     "text": [
      "Correlation between children and debt: 0.024686011603250502\n"
     ]
    }
   ],
   "source": [
    "correlation = data['children'].corr(data['debt'])\n",
    "print(\"Correlation between children and debt:\", correlation)\n"
   ]
  },
  {
   "cell_type": "code",
   "execution_count": 69,
   "metadata": {},
   "outputs": [
    {
     "name": "stdout",
     "output_type": "stream",
     "text": [
      "          count   sum failure_percentage\n",
      "children                                \n",
      "0         14091  1063              7.54%\n",
      "1          4855   445              9.17%\n",
      "2          2128   202              9.49%\n",
      "3           330    27              8.18%\n",
      "4            41     4              9.76%\n",
      "5             9     0              0.00%\n"
     ]
    }
   ],
   "source": [
    "# Check child data and loan default data\n",
    "grouped_data = data.groupby('children')['debt'].agg(['count', 'sum'])\n",
    "grouped_data['failure_percentage'] = (grouped_data['sum'] / grouped_data['count']) * 100\n",
    "\n",
    "grouped_data['failure_percentage'] = grouped_data['failure_percentage'].apply(lambda x: f'{x:.2f}%')\n",
    "print(grouped_data)"
   ]
  },
  {
   "cell_type": "markdown",
   "metadata": {},
   "source": [
    "**Conclusion**"
   ]
  },
  {
   "cell_type": "markdown",
   "metadata": {},
   "source": [
    "Based on the analysis of child data and loan repayment failure rates, here are some conclusions:\r\n",
    "\r\n",
    "1. The correlation between the number of children and loan default is very weak, with a correlation coefficient of approximately 0.02. This suggests that there is little to no linear relationship between the number of children and the likelihood of default.\r\n",
    "\r\n",
    "2. **Number of Children and Loan Default:** In the customer population, the majority of them do not have children (children = 0). The loan repayment failure rate in this group is around 7.54%, which is relatively low.\r\n",
    "\r\n",
    "3. **Effect of Number of Children:** It is seen that the more children a customer has, the loan repayment failure rate tends to increase. The customer group with one child (children = 1) has a failure rate of around 9.17%, while the customer group with two children (children = 2) has a failure rate of around 9.49%.\r\n",
    "\r\n",
    "4. **Case of the 3-5 Children Group:** Although the number of customers with three to five children is relatively smaller, it can be seen that the loan repayment failure rate is also quite significant, ranging from 8.18% to 9.76%. However, the group with five children (children = 5) did not have any cases of loan failure.\r\n",
    "\r\n",
    "5. **Childless Group:** The group of customers without children (children = 0) has a lower default rate, which may be due to more resources available for loan repayment. However, this analysis still requires further statistical testing to ensure there is a significant relationship between the number of children and loan repayment failure.\r\n",
    "\r\n",
    "These conclusions may provide initial insight into the relationship between the number of children and loan default rates. However, to make more accurate decisions, it is necessary to carry out more in-depth statistical analysis and hypothesis testing.s testing."
   ]
  },
  {
   "cell_type": "markdown",
   "metadata": {},
   "source": [
    "**Is there a correlation between family status and the probability of defaulting on a loan?**"
   ]
  },
  {
   "cell_type": "code",
   "execution_count": 70,
   "metadata": {},
   "outputs": [
    {
     "name": "stdout",
     "output_type": "stream",
     "text": [
      "Correlation between family_status_id and debt: 0.020346683082729498\n"
     ]
    }
   ],
   "source": [
    "correlation = data['family_status_id'].corr(data['debt'])\n",
    "print(\"Correlation between family_status_id and debt:\", correlation)\n"
   ]
  },
  {
   "cell_type": "code",
   "execution_count": 71,
   "metadata": {
    "jp-MarkdownHeadingCollapsed": true
   },
   "outputs": [
    {
     "name": "stdout",
     "output_type": "stream",
     "text": [
      "                   count  sum failure_percentage\n",
      "family_status                                   \n",
      "civil partnership   4151  388              9.35%\n",
      "divorced            1195   85              7.11%\n",
      "married            12339  931              7.55%\n",
      "unmarried           2810  274              9.75%\n",
      "widow / widower      959   63              6.57%\n"
     ]
    }
   ],
   "source": [
    "# Check family status data and loan default data\n",
    "\n",
    "# Calculate the percentage of default based on family status\n",
    "grouped_data = data.groupby('family_status')['debt'].agg(['count', 'sum'])\n",
    "grouped_data['failure_percentage'] = (grouped_data['sum'] / grouped_data['count']) * 100\n",
    "\n",
    "grouped_data['failure_percentage'] = grouped_data['failure_percentage'].apply(lambda x: f'{x:.2f}%')\n",
    "print(grouped_data)\n"
   ]
  },
  {
   "cell_type": "markdown",
   "metadata": {},
   "source": [
    "Based on the analysis of the correlation between 'family_status_id' and loan default, as well as the percentage of loan default based on family status, the following conclusions can be drawn:\r\n",
    "\r\n",
    "1. The correlation between 'family_status_id' and loan default is very weak, with a correlation coefficient of approximately 0.02. This suggests that there is little to no linear relationship between 'family_status_id' and the likelihood of default.\r\n",
    "\r\n",
    "2. When examining the percentage of loan default based on different family statuses, the data shows variation in default percentages among different family status categories:\r\n",
    "\r\n",
    "- \"Civil partnership\" and \"unmarried\" categories have the highest default percentages at 9.35% and 9.75%, respectively.\r\n",
    "- The \"divorced\" category has the lowest default percentage at 7.11%.\r\n",
    "- The \"widow / widower\" category also exhibits a relatively low default percentage of 6.57%.\r\n",
    "- The \"married\" category falls in between, with a default percentage of 7.55%.\r\n",
    "\r\n",
    "\r\n",
    "In conclusion, while there is a slight variation in default percentages based on family status, the correlation is very weak. This indicates that other factors may play a more significant role in predicting loan default behavior. Nonetheless, these insights can still be valuable for making lending and credit risk assessment decisions based on family status.ly status."
   ]
  },
  {
   "cell_type": "code",
   "execution_count": 72,
   "metadata": {},
   "outputs": [
    {
     "name": "stdout",
     "output_type": "stream",
     "text": [
      "<class 'pandas.core.frame.DataFrame'>\n",
      "Index: 5 entries, civil partnership to widow / widower\n",
      "Data columns (total 3 columns):\n",
      " #   Column              Non-Null Count  Dtype \n",
      "---  ------              --------------  ----- \n",
      " 0   count               5 non-null      int64 \n",
      " 1   sum                 5 non-null      int64 \n",
      " 2   failure_percentage  5 non-null      object\n",
      "dtypes: int64(2), object(1)\n",
      "memory usage: 160.0+ bytes\n"
     ]
    }
   ],
   "source": [
    "grouped_data.info()"
   ]
  },
  {
   "cell_type": "markdown",
   "metadata": {},
   "source": [
    "**Conclusion**"
   ]
  },
  {
   "cell_type": "markdown",
   "metadata": {},
   "source": [
    "Based on the provided data, we can draw the following conclusions regarding the loan default percentage based on family status:\n",
    "\n",
    "1. The highest default percentage is among individuals in the \"unmarried\" category, with a failure percentage of 9.75%.\n",
    "\n",
    "2. \"Civil partnership\" and \"unmarried\" categories have relatively higher default percentages, both above 9%.\n",
    "\n",
    "3. The \"divorced\" category has the lowest default percentage at 7.11%.\n",
    "\n",
    "4. The \"widow / widower\" category also has a relatively low default percentage of 6.57%.\n",
    "\n",
    "5. The \"married\" category falls in between, with a default percentage of 7.55%.\n",
    "\n",
    "These findings suggest that individuals in the \"married\" and \"divorced\" categories have lower default rates compared to those in the \"civil partnership\" and \"unmarried\" categories. Additionally, the \"widow / widower\" category shows a relatively low default rate. These insights can be valuable for making lending and credit risk assessment decisions based on family status."
   ]
  },
  {
   "cell_type": "markdown",
   "metadata": {},
   "source": [
    "**Is there a correlation between income level and the probability of defaulting on a loan?**"
   ]
  },
  {
   "cell_type": "code",
   "execution_count": 73,
   "metadata": {},
   "outputs": [
    {
     "name": "stdout",
     "output_type": "stream",
     "text": [
      "                 count   sum failure_percentage_by_income\n",
      "income_category                                          \n",
      "High Income        222    14                        6.31%\n",
      "Low Income       15534  1305                        8.40%\n",
      "Middle Income     1099    78                        7.10%\n",
      "Moderate Income   4599   344                        7.48%\n"
     ]
    }
   ],
   "source": [
    "# Check income level data and loan default data\n",
    "# Calculate default percentage based on income level\n",
    "\n",
    "grouped_data = data.groupby('income_category')['debt'].agg(['count', 'sum'])\n",
    "grouped_data['failure_percentage_by_income'] = (grouped_data['sum'] / grouped_data['count']) * 100\n",
    "\n",
    "# Format the 'failure_percentage_by_income' column with two decimal digits and add the '%' sign\n",
    "grouped_data['failure_percentage_by_income'] = grouped_data['failure_percentage_by_income'].apply(lambda x: '{:.2f}%'.format(x))\n",
    "\n",
    "print(grouped_data)"
   ]
  },
  {
   "cell_type": "markdown",
   "metadata": {},
   "source": [
    "**Conclusion**"
   ]
  },
  {
   "cell_type": "markdown",
   "metadata": {},
   "source": [
    "Based on data analysis of family status and loan repayment failure rates, the following are several conclusions:\r\n",
    "\r\n",
    "1. **Marital Status and Loan Failure:** In the customer population, the majority of them are married couples. The loan repayment failure rate in this group is around 7.55%, which is relatively low.\r\n",
    "\r\n",
    "2. **Effect of Marital Status:** It is seen that marital status influences the rate of loan repayment failure. The customer group with \"civil partnership\" status has a failure rate of around 9.35%, while the \"unmarried\" group has a failure rate of around 9.75%. The \"divorced\" group had a lower failure rate, which was around 7.11%, and the \"widow/widow\" group had the lowest failure rate, which was around 6.57%.\r\n",
    "\r\n",
    "3. **General Conclusion:** In this case, it appears that marital status can influence the loan repayment failure rate, with higher failure rates in the \"civil partnership\" and \"unmarried\" groups. However, other factors also need to be considered and analyzed further to better understand the influence of family status on loan repayment failure.\r\n",
    "\r\n",
    "These conclusions provide an initial understanding of the relationship between family status and loan default rates. However, further analysis and statistical testing may be needed to confirm these findings."
   ]
  },
  {
   "cell_type": "markdown",
   "metadata": {},
   "source": [
    "**How do credit goals affect default percentage?**"
   ]
  },
  {
   "cell_type": "code",
   "execution_count": 74,
   "metadata": {},
   "outputs": [
    {
     "name": "stdout",
     "output_type": "stream",
     "text": [
      "                  count  sum failure_percentage_by_purpose\n",
      "purpose_category                                          \n",
      "cars               4306  403                         9.36%\n",
      "education          4013  370                         9.22%\n",
      "housing           10811  782                         7.23%\n",
      "wedding            2324  186                         8.00%\n"
     ]
    }
   ],
   "source": [
    "# Check the default rate percentage for each credit objective and perform analysis\n",
    "grouped_data = data.groupby('purpose_category')['debt'].agg(['count', 'sum'])\n",
    "grouped_data['failure_percentage_by_purpose'] = (grouped_data['sum'] / grouped_data['count']) * 100\n",
    "\n",
    "# Format the 'failure_percentage_by_purpose' column with two decimal digits and add the '%' sign\n",
    "grouped_data['failure_percentage_by_purpose'] = grouped_data['failure_percentage_by_purpose'].apply(lambda x: '{:.2f}%'.format(x))\n",
    "\n",
    "print(grouped_data)"
   ]
  },
  {
   "cell_type": "markdown",
   "metadata": {},
   "source": [
    "**Conclusion**"
   ]
  },
  {
   "cell_type": "markdown",
   "metadata": {},
   "source": [
    "In this analysis, we evaluate the loan repayment failure rate based on credit objectives (purpose_category). The following are the conclusions of the analysis:\n",
    "\n",
    "1. **Credit Objectives and Default Rates:** There are four categories of credit objectives evaluated: \"cars,\" \"education,\" \"housing,\" and \"wedding.\"\n",
    "\n",
    "2. **Highest Failure Rate:** The credit destination groups with the highest loan repayment failure rates are \"cars\" and \"education,\" with failure rates of approximately 9.36% and 9.22%, respectively. This means that people who take out loans to buy a car or for education tend to have a higher risk of default.\n",
    "\n",
    "3. **Lowest Failure Rate:** The credit destination groups with the lowest loan repayment failure rates are \"housing\" and \"wedding,\" with default rates of approximately 7.23% and 8.00%, respectively. This suggests that people who borrow for a home purchase or for a wedding tend to have a lower risk of default.\n",
    "\n",
    "4. **General Conclusion:** While there are differences in default rates based on credit goals, other factors such as income, employment status, and personal financial condition can also influence a person's likelihood of defaulting on a loan. Therefore, it is important to consider these factors simultaneously in credit risk analysis.\n",
    "\n",
    "5. **Recommendation:** In banking practice, this information can help financial institutions make better decisions in providing loans. For example, they may consider adjusting interest rates or loan terms based on a customer's credit goals to reduce the risk of default.\n",
    "\n",
    "These conclusions are preliminary results of data analysis and can be the basis for further research and deeper decision making in the banking industry."
   ]
  },
  {
   "cell_type": "markdown",
   "metadata": {},
   "source": [
    "# General conclusion\n"
   ]
  },
  {
   "cell_type": "markdown",
   "metadata": {},
   "source": [
    "In this data analysis, we evaluate several important data aspects that include the relationship between the number of children, family status, and loan purpose on loan repayment failure rates. In addition, we also addressed the issue of missing data and identified duplicate data. Here are the general conclusions:\r\n",
    "\r\n",
    "1. **Handling Missing Data:** The data contains a number of missing values, especially in the columns \"days_employed\" and \"total_income.\" To address this issue, we fill in the missing values in the \"total_income\" column with median income by income type (income_type). In addition, we also filled in missing values in the \"days_employed\" column with the median number of days worked by income type (income_type). This helps maintain data integrity and avoids bias that can arise from deleting rows with missing values.\r\n",
    "\r\n",
    "2. **Duplicate Data:** In the data analysis process, we found that there were around 0.33% duplicate data in the dataset. We recommend removing this duplicate data so that it does not affect the analysis results.\r\n",
    "\r\n",
    "General conclusion:\r\n",
    "\r\n",
    "- The correlation between 'family_status_id' 'children' and loan default is very weak, with a correlation coefficient of approximately 0.02\r\n",
    "- Loan repayment failure rates tend to be higher for individuals with more than 2 children, with the highest rates in groups with 4 children.\r\n",
    "- Repayment failure rates also vary by family status, with the \"civil partnership\" and \"unmarried\" groups having higher failure rates.\r\n",
    "- Credit goals also have an influence on failure rates, with car purchases and education having the highest failure rates, while home purchases have lower failure rates.\r\n",
    "\r\n",
    "We recommend that financial institutions use the results of this analysis to understand different credit risks and make wiser decisions in lending to customers. Further analysis and statistical modeling can be used to understand other factors that influence credit risk in more depth. more depth."
   ]
  },
  {
   "cell_type": "code",
   "execution_count": null,
   "metadata": {},
   "outputs": [],
   "source": []
  }
 ],
 "metadata": {
  "ExecuteTimeLog": [
   {
    "duration": 2741,
    "start_time": "2021-10-21T01:08:49.480Z"
   },
   {
    "duration": 52,
    "start_time": "2021-10-21T01:08:53.315Z"
   },
   {
    "duration": 49,
    "start_time": "2021-10-21T01:08:57.432Z"
   },
   {
    "duration": 70,
    "start_time": "2021-10-21T01:09:07.706Z"
   }
  ],
  "kernelspec": {
   "display_name": "Python 3 (ipykernel)",
   "language": "python",
   "name": "python3"
  },
  "language_info": {
   "codemirror_mode": {
    "name": "ipython",
    "version": 3
   },
   "file_extension": ".py",
   "mimetype": "text/x-python",
   "name": "python",
   "nbconvert_exporter": "python",
   "pygments_lexer": "ipython3",
   "version": "3.11.5"
  },
  "toc": {
   "base_numbering": 1,
   "nav_menu": {},
   "number_sections": true,
   "sideBar": true,
   "skip_h1_title": true,
   "title_cell": "Table of Contents",
   "title_sidebar": "Contents",
   "toc_cell": false,
   "toc_position": {},
   "toc_section_display": true,
   "toc_window_display": false
  },
  "vscode": {
   "interpreter": {
    "hash": "ef1728426330606e01c1da091626d7dbd7604032247e9790b44969d857c4f729"
   }
  }
 },
 "nbformat": 4,
 "nbformat_minor": 4
}
